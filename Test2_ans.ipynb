{
 "cells": [
  {
   "cell_type": "code",
   "execution_count": 1,
   "metadata": {
    "collapsed": true
   },
   "outputs": [],
   "source": [
    "#점프투파이썬04\n",
    "#제어문\n",
    "#반복문\n",
    "#함수"
   ]
  },
  {
   "cell_type": "markdown",
   "metadata": {},
   "source": [
    "#### 문1) 1~100 사이의 숫자 중 3의 배수 이지만 2의 배수가 아닌 수를 출력하고 갯수도 출력"
   ]
  },
  {
   "cell_type": "code",
   "execution_count": 1,
   "metadata": {
    "collapsed": false
   },
   "outputs": [
    {
     "name": "stdout",
     "output_type": "stream",
     "text": [
      "3 9 15 21 27 33 39 45 51 57 63 69 75 81 87 93 99 \n",
      "17\n"
     ]
    }
   ],
   "source": [
    "#for\n",
    "count = 0\n",
    "for i in range(101):\n",
    "    if(i % 3 == 0 and i % 2 != 0):\n",
    "        count = count + 1\n",
    "        print (i , end=\" \")\n",
    "print('')\n",
    "print(count)"
   ]
  },
  {
   "cell_type": "code",
   "execution_count": 39,
   "metadata": {
    "collapsed": false
   },
   "outputs": [
    {
     "name": "stdout",
     "output_type": "stream",
     "text": [
      "[3, 9, 15, 21, 27, 33, 39, 45, 51, 57, 63, 69, 75, 81, 87, 93, 99] 17\n"
     ]
    }
   ],
   "source": [
    "#list comprehension\n",
    "\n",
    "a = [i for i in range(101) if(i % 3 == 0 and i%2 != 0)]\n",
    "print(a, len(a))"
   ]
  },
  {
   "cell_type": "markdown",
   "metadata": {},
   "source": [
    "#  (+.-)계산기 만들기"
   ]
  },
  {
   "cell_type": "markdown",
   "metadata": {},
   "source": [
    "#### 문2) 두 수를 더는 add 함수를 작성하시오 "
   ]
  },
  {
   "cell_type": "code",
   "execution_count": 16,
   "metadata": {
    "collapsed": true
   },
   "outputs": [],
   "source": [
    "#함수의 이름(함수명)은 sum이고 입력 인수로 2개의 값을 받으며 결과값은 2개의 입력값을 더한 값 이다\n",
    "def add(a,b):\n",
    "    return a + b"
   ]
  },
  {
   "cell_type": "markdown",
   "metadata": {},
   "source": [
    "#### 문3) 두 수를 빼는 sub 함수를 작성하시오 "
   ]
  },
  {
   "cell_type": "code",
   "execution_count": 17,
   "metadata": {
    "collapsed": true
   },
   "outputs": [],
   "source": [
    "def sub(a,b):\n",
    "    return a - b"
   ]
  },
  {
   "cell_type": "markdown",
   "metadata": {},
   "source": [
    "#### 문4) 사용자로부터 입력받아 계산기를 완성하세여"
   ]
  },
  {
   "cell_type": "code",
   "execution_count": 19,
   "metadata": {
    "collapsed": false
   },
   "outputs": [
    {
     "name": "stdout",
     "output_type": "stream",
     "text": [
      "\n",
      "... 1. add\n",
      "... 2. sub\n",
      "... 3. quit\n",
      "\n",
      "... Enter number:\n",
      "\n",
      "2\n",
      "첫번째 수를 입력: 2\n",
      "두번째 수를 입력: 1\n",
      "1.0\n",
      "\n",
      "... 1. add\n",
      "... 2. sub\n",
      "... 3. quit\n",
      "\n",
      "... Enter number:\n",
      "\n",
      "2\n",
      "첫번째 수를 입력: 1.1231231313\n",
      "두번째 수를 입력: 1\n",
      "0.12312313130000008\n",
      "\n",
      "... 1. add\n",
      "... 2. sub\n",
      "... 3. quit\n",
      "\n",
      "... Enter number:\n",
      "\n",
      "1\n",
      "첫번째 수를 입력: 1.123123123\n",
      "두번째 수를 입력: 2.123123123\n",
      "3.246246246\n",
      "\n",
      "... 1. add\n",
      "... 2. sub\n",
      "... 3. quit\n",
      "\n",
      "... Enter number:\n",
      "\n",
      "2\n",
      "첫번째 수를 입력: 3.54321\n",
      "두번째 수를 입력: 1.43219\n",
      "2.11102\n",
      "\n",
      "... 1. add\n",
      "... 2. sub\n",
      "... 3. quit\n",
      "\n",
      "... Enter number:\n",
      "\n",
      "2\n",
      "첫번째 수를 입력: 3.4444444444444\n",
      "두번째 수를 입력: 2.7777777777777777777\n",
      "0.6666666666666221\n",
      "\n",
      "... 1. add\n",
      "... 2. sub\n",
      "... 3. quit\n",
      "\n",
      "... Enter number:\n",
      "\n",
      "3\n",
      "프로그램을 종료합니다\n"
     ]
    }
   ],
   "source": [
    "number=0\n",
    "while True:\n",
    "    print('''\n",
    "... 1. add\n",
    "... 2. sub\n",
    "... 3. quit\n",
    "\n",
    "... Enter number:\n",
    "''')\n",
    "    number = int(input())\n",
    "    if(number == 3):\n",
    "        print(\"프로그램을 종료합니다\")\n",
    "        break\n",
    "        \n",
    "    a = float(input(\"첫번째 수를 입력: \"))\n",
    "    b = float(input(\"두번째 수를 입력: \"))    \n",
    "    if(number == 1):\n",
    "        print(add(a,b))\n",
    "        continue\n",
    "    elif(number == 2):\n",
    "        print(sub(a,b))\n",
    "        continue\n",
    "   \n",
    "        \n",
    "       \n",
    "            "
   ]
  },
  {
   "cell_type": "markdown",
   "metadata": {},
   "source": [
    "#### 문5) 파일 읽어오기"
   ]
  },
  {
   "cell_type": "code",
   "execution_count": 23,
   "metadata": {
    "collapsed": false
   },
   "outputs": [
    {
     "name": "stdout",
     "output_type": "stream",
     "text": [
      "이름,점수\n",
      "가,100\n",
      "나,50\n",
      "다,30\n",
      "라,20\n",
      "마,99\n",
      "바,0\n",
      "\n",
      "이름,점수\n",
      "가,100\n",
      "나,50\n",
      "다,30\n",
      "라,20\n",
      "마,99\n",
      "바,0\n",
      "\n"
     ]
    }
   ],
   "source": [
    "#stu.csv 파일을 읽기\n",
    "with open('stu.csv', 'r') as f:\n",
    "    data = f.read()\n",
    "    print(data)\n",
    "    \n",
    "print(data)"
   ]
  }
 ],
 "metadata": {
  "anaconda-cloud": {},
  "kernelspec": {
   "display_name": "Python [conda env:py3.5]",
   "language": "python",
   "name": "conda-env-py3.5-py"
  },
  "language_info": {
   "codemirror_mode": {
    "name": "ipython",
    "version": 3
   },
   "file_extension": ".py",
   "mimetype": "text/x-python",
   "name": "python",
   "nbconvert_exporter": "python",
   "pygments_lexer": "ipython3",
   "version": "3.5.2"
  }
 },
 "nbformat": 4,
 "nbformat_minor": 1
}
