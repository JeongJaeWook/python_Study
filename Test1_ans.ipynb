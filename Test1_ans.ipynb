{
 "cells": [
  {
   "cell_type": "code",
   "execution_count": 1,
   "metadata": {
    "collapsed": false
   },
   "outputs": [],
   "source": [
    "#2017년 1월 18일 1회차\n",
    "\n",
    "#점프투파이썬~02 문제"
   ]
  },
  {
   "cell_type": "code",
   "execution_count": 2,
   "metadata": {
    "collapsed": true
   },
   "outputs": [],
   "source": [
    "#파이썬 자료형"
   ]
  },
  {
   "cell_type": "markdown",
   "metadata": {},
   "source": [
    "문제 1) 다음(Daum)의 주가가 89,000원이고 네이버(Naver)의 주가가 751,000이라고 가정하고, \n",
    "어떤 사람이 다음 주식 100주와 네이버 주식 20주를 가지고 있을 때 그 사람이 가지고 있는 주식의 총액과 을 계산하는 프로그램을 작성하세요."
   ]
  },
  {
   "cell_type": "code",
   "execution_count": 3,
   "metadata": {
    "collapsed": false
   },
   "outputs": [
    {
     "data": {
      "text/plain": [
       "23920000"
      ]
     },
     "execution_count": 3,
     "metadata": {},
     "output_type": "execute_result"
    }
   ],
   "source": [
    "#문제1\n",
    "daum_juga = 89000\n",
    "naver_juga = 751000\n",
    "personA = daum_juga * 100 + naver_juga * 20\n",
    "personA"
   ]
  },
  {
   "cell_type": "markdown",
   "metadata": {},
   "source": [
    "문제 2) 화면에 \"pizza\"를 10번 출력하는 프로그램을 작성하세요(반복문 쓰지말고)"
   ]
  },
  {
   "cell_type": "code",
   "execution_count": 4,
   "metadata": {
    "collapsed": false
   },
   "outputs": [
    {
     "name": "stdout",
     "output_type": "stream",
     "text": [
      "pizza pizza pizza pizza pizza pizza pizza pizza pizza pizza \n"
     ]
    }
   ],
   "source": [
    "#문제2\n",
    "print('pizza ' * 10)"
   ]
  },
  {
   "cell_type": "markdown",
   "metadata": {},
   "source": [
    "문제 3) a라는 변수에 'HeLLo woRlD'라는 문자열을 바인딩 하고 a의 값을 소문자로 변경해 보세요."
   ]
  },
  {
   "cell_type": "code",
   "execution_count": 5,
   "metadata": {
    "collapsed": false
   },
   "outputs": [
    {
     "data": {
      "text/plain": [
       "'hello world'"
      ]
     },
     "execution_count": 5,
     "metadata": {},
     "output_type": "execute_result"
    }
   ],
   "source": [
    "#문제3\n",
    "a = 'HeLLo woRlD'\n",
    "a.lower()"
   ]
  },
  {
   "cell_type": "markdown",
   "metadata": {},
   "source": [
    "문제 4) x라는 변수에 'Transforming the target variable\n",
    "Recall that many machine learning models, including linear models, make \n",
    "assumptions regarding the distribution of the input data as well as target variables. \n",
    "In particular, linear regression assumes a normal distribution.\n",
    "In many real-world cases, the distributional assumptions of linear regression do not \n",
    "hold. In this case, for example, we know that the number of bike rentals can never \n",
    "be negative. This alone should indicate that the assumption of normality might be \n",
    "problematic. To get a better idea of the target distribution, it is often a good idea to \n",
    "plot a histogram of the target values.'라는 문자열을 바인딩 하고, 'linear'이 있는지 확인하세요"
   ]
  },
  {
   "cell_type": "code",
   "execution_count": 6,
   "metadata": {
    "collapsed": false
   },
   "outputs": [
    {
     "data": {
      "text/plain": [
       "True"
      ]
     },
     "execution_count": 6,
     "metadata": {},
     "output_type": "execute_result"
    }
   ],
   "source": [
    "#문제4\n",
    "x = '''Transforming the target variable\n",
    "Recall that many machine learning models, including linear models, make \n",
    "assumptions regarding the distribution of the input data as well as target variables. \n",
    "In particular, linear regression assumes a normal distribution.\n",
    "In many real-world cases, the distributional assumptions of linear regression do not \n",
    "hold. In this case, for example, we know that the number of bike rentals can never \n",
    "be negative. This alone should indicate that the assumption of normality might be \n",
    "problematic. To get a better idea of the target distribution, it is often a good idea to \n",
    "plot a histogram of the target values.'''\n",
    "\n",
    "'linear' in x"
   ]
  },
  {
   "cell_type": "markdown",
   "metadata": {},
   "source": [
    "---------------------------------------------------------------"
   ]
  },
  {
   "cell_type": "markdown",
   "metadata": {},
   "source": [
    "2015년 9월 초의 네이버 종가는 표 3.2와 같습니다. \n",
    "\n",
    "표 3.2 네이버 종가\n",
    "\n",
    "날짜\t   종가\n",
    "09/11\t488500\n",
    "09/10\t500500\n",
    "09/09\t501000\n",
    "09/08\t461500\n",
    "09/07\t474500"
   ]
  },
  {
   "cell_type": "markdown",
   "metadata": {},
   "source": [
    "--------------------------------------------------------------"
   ]
  },
  {
   "cell_type": "markdown",
   "metadata": {},
   "source": [
    "문제 5)\n",
    "09/11의 종가를 리스트의 첫 번째 항목으로 입력해서 naver_end_price라는 이름의 리스트를 만들어보세요."
   ]
  },
  {
   "cell_type": "code",
   "execution_count": 7,
   "metadata": {
    "collapsed": false
   },
   "outputs": [
    {
     "data": {
      "text/plain": [
       "[488500, 500500, 501000, 461500, 474500]"
      ]
     },
     "execution_count": 7,
     "metadata": {},
     "output_type": "execute_result"
    }
   ],
   "source": [
    "#문제5\n",
    "naver_end_price= [488500, 500500, 501000, 461500, 474500]\n",
    "naver_end_price"
   ]
  },
  {
   "cell_type": "markdown",
   "metadata": {},
   "source": [
    "문제 6)\n",
    "\n",
    "문제 3-1에서 만든 naver_end_price를 이용해 해당 주에서 가장 종가가 높았던 요일과 가장 종가가 낮았던 요일의 가격 차를 화면에 출력하세요."
   ]
  },
  {
   "cell_type": "code",
   "execution_count": 8,
   "metadata": {
    "collapsed": false
   },
   "outputs": [
    {
     "data": {
      "text/plain": [
       "39500"
      ]
     },
     "execution_count": 8,
     "metadata": {},
     "output_type": "execute_result"
    }
   ],
   "source": [
    "#문제6\n",
    "max(naver_end_price)-min(naver_end_price)"
   ]
  },
  {
   "cell_type": "markdown",
   "metadata": {},
   "source": [
    "문제 7)\n",
    "\n",
    "문제 3-1에서 만든 naver_end_price를 이용해 09/10의 종가를 화면에 출력하세요."
   ]
  },
  {
   "cell_type": "code",
   "execution_count": 9,
   "metadata": {
    "collapsed": false
   },
   "outputs": [
    {
     "data": {
      "text/plain": [
       "500500"
      ]
     },
     "execution_count": 9,
     "metadata": {},
     "output_type": "execute_result"
    }
   ],
   "source": [
    "#문제7\n",
    "naver_end_price[1]"
   ]
  },
  {
   "cell_type": "markdown",
   "metadata": {},
   "source": [
    "문제 8)\n",
    "\n",
    "문제 3-1의 표 3.2를 이용해 날짜를 딕셔너리의 키 값으로, 종가를 딕셔너리의 값으로 사용해 naver_end_price2라는 딕셔너리를 만드세요."
   ]
  },
  {
   "cell_type": "code",
   "execution_count": 10,
   "metadata": {
    "collapsed": false
   },
   "outputs": [
    {
     "data": {
      "text/plain": [
       "{'09/07': 474500,\n",
       " '09/08': 461500,\n",
       " '09/09': 501000,\n",
       " '09/10': 500500,\n",
       " '09/11': 488500}"
      ]
     },
     "execution_count": 10,
     "metadata": {},
     "output_type": "execute_result"
    }
   ],
   "source": [
    "#문제8\n",
    "naver_end_price2 = {\n",
    " '09/11' : 488500,\n",
    " '09/10' : 500500,\n",
    " '09/09' : 501000,\n",
    " '09/08' : 461500,\n",
    " '09/07' : 474500\n",
    "}\n",
    "naver_end_price2"
   ]
  },
  {
   "cell_type": "markdown",
   "metadata": {},
   "source": [
    "문제 9)\n",
    "\n",
    "문제 3-6에서 만든 naver_end_price2 딕셔너리를 이용해 09/09일의 종가를 출력하세요."
   ]
  },
  {
   "cell_type": "code",
   "execution_count": 11,
   "metadata": {
    "collapsed": false
   },
   "outputs": [
    {
     "data": {
      "text/plain": [
       "501000"
      ]
     },
     "execution_count": 11,
     "metadata": {},
     "output_type": "execute_result"
    }
   ],
   "source": [
    "#문제9 \n",
    "naver_end_price2['09/09']"
   ]
  },
  {
   "cell_type": "markdown",
   "metadata": {},
   "source": [
    "문제 10)\n",
    "a = 10\n",
    "b = 20 일때\n",
    "튜플을 사용하여 a와 b 두 변수 값을 맞바꾸세요. "
   ]
  },
  {
   "cell_type": "code",
   "execution_count": 12,
   "metadata": {
    "collapsed": false
   },
   "outputs": [
    {
     "name": "stdout",
     "output_type": "stream",
     "text": [
      "20 10\n"
     ]
    }
   ],
   "source": [
    "#문제10\n",
    "a = 10; b = 20;\n",
    "(a,b) = (b,a)\n",
    "\n",
    "print(a,b)"
   ]
  }
 ],
 "metadata": {
  "anaconda-cloud": {},
  "kernelspec": {
   "display_name": "Python [conda env:py3.5]",
   "language": "python",
   "name": "conda-env-py3.5-py"
  },
  "language_info": {
   "codemirror_mode": {
    "name": "ipython",
    "version": 3
   },
   "file_extension": ".py",
   "mimetype": "text/x-python",
   "name": "python",
   "nbconvert_exporter": "python",
   "pygments_lexer": "ipython3",
   "version": "3.5.2"
  }
 },
 "nbformat": 4,
 "nbformat_minor": 1
}
