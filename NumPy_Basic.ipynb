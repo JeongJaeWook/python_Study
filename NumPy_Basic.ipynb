{
 "cells": [
  {
   "cell_type": "markdown",
   "metadata": {},
   "source": [
    "# NumPy Basics: Arrays and Vectorized Computation"
   ]
  },
  {
   "cell_type": "code",
   "execution_count": 1,
   "metadata": {
    "collapsed": false
   },
   "outputs": [],
   "source": [
    "%matplotlib inline \n",
    "#jupyter 화면 내에서 그림 볼 수 있도록 하기 위해"
   ]
  },
  {
   "cell_type": "code",
   "execution_count": null,
   "metadata": {
    "collapsed": true
   },
   "outputs": [],
   "source": []
  },
  {
   "cell_type": "code",
   "execution_count": 2,
   "metadata": {
    "collapsed": false
   },
   "outputs": [],
   "source": [
    "from __future__ import division\n",
    "from numpy.random import randn #numpy에서 rands메소드 호출\n",
    "import numpy as np #numpy를 np라고 줄임\n",
    "np.set_printoptions(precision=4, suppress=True) #?"
   ]
  },
  {
   "cell_type": "markdown",
   "metadata": {},
   "source": [
    "## 4.1 NumPy ndarry : 다차원 배열 객체\n",
    "## The NumPy ndarray: a multidimensional array object"
   ]
  },
  {
   "cell_type": "code",
   "execution_count": 3,
   "metadata": {
    "collapsed": false
   },
   "outputs": [],
   "source": [
    "data = randn(2, 3)"
   ]
  },
  {
   "cell_type": "code",
   "execution_count": 4,
   "metadata": {
    "collapsed": false
   },
   "outputs": [
    {
     "data": {
      "text/plain": [
       "array([[ 1.3933, -1.7164,  0.396 ],\n",
       "       [ 2.1937, -0.5231,  1.3672]])"
      ]
     },
     "execution_count": 4,
     "metadata": {},
     "output_type": "execute_result"
    }
   ],
   "source": [
    "data\n",
    "data * 10\n",
    "data + data"
   ]
  },
  {
   "cell_type": "code",
   "execution_count": 5,
   "metadata": {
    "collapsed": false
   },
   "outputs": [
    {
     "data": {
      "text/plain": [
       "(2, 3)"
      ]
     },
     "execution_count": 5,
     "metadata": {},
     "output_type": "execute_result"
    }
   ],
   "source": [
    "data.shape#각 차원의 크기를 알려줌"
   ]
  },
  {
   "cell_type": "code",
   "execution_count": 6,
   "metadata": {
    "collapsed": false
   },
   "outputs": [
    {
     "data": {
      "text/plain": [
       "dtype('float64')"
      ]
     },
     "execution_count": 6,
     "metadata": {},
     "output_type": "execute_result"
    }
   ],
   "source": [
    "data.dtype #배열에 저장된 자료형을 알려줌"
   ]
  },
  {
   "cell_type": "markdown",
   "metadata": {},
   "source": [
    "### 4.1.1 ndarry 생성\n",
    "### Creating ndarrays"
   ]
  },
  {
   "cell_type": "code",
   "execution_count": 7,
   "metadata": {
    "collapsed": false
   },
   "outputs": [
    {
     "data": {
      "text/plain": [
       "array([ 6. ,  7.5,  8. ,  0. ,  1. ])"
      ]
     },
     "execution_count": 7,
     "metadata": {},
     "output_type": "execute_result"
    }
   ],
   "source": [
    "data1 = [6, 7.5, 8, 0, 1] #리스트를\n",
    "arr1 = np.array(data1) #ndarry로\n",
    "arr1"
   ]
  },
  {
   "cell_type": "code",
   "execution_count": 8,
   "metadata": {
    "collapsed": false
   },
   "outputs": [
    {
     "name": "stdout",
     "output_type": "stream",
     "text": [
      "1\n"
     ]
    },
    {
     "data": {
      "text/plain": [
       "array([[[1, 2, 3, 4], [5, 6, 7, 8]], [1]], dtype=object)"
      ]
     },
     "execution_count": 8,
     "metadata": {},
     "output_type": "execute_result"
    }
   ],
   "source": [
    "#질문\n",
    "data2 = [[[1, 2, 3, 4], [5, 6, 7, 8]],[1]]\n",
    "arr2 = np.array(data2)\n",
    "print(arr2.ndim) #왜 1일까\n",
    "arr2\n",
    "\n"
   ]
  },
  {
   "cell_type": "code",
   "execution_count": 9,
   "metadata": {
    "collapsed": false
   },
   "outputs": [
    {
     "data": {
      "text/plain": [
       "(2,)"
      ]
     },
     "execution_count": 9,
     "metadata": {},
     "output_type": "execute_result"
    }
   ],
   "source": [
    "arr2.shape"
   ]
  },
  {
   "cell_type": "code",
   "execution_count": 10,
   "metadata": {
    "collapsed": false
   },
   "outputs": [
    {
     "data": {
      "text/plain": [
       "dtype('O')"
      ]
     },
     "execution_count": 10,
     "metadata": {},
     "output_type": "execute_result"
    }
   ],
   "source": [
    "arr1.dtype\n",
    "arr2.dtype"
   ]
  },
  {
   "cell_type": "code",
   "execution_count": 11,
   "metadata": {
    "collapsed": false
   },
   "outputs": [
    {
     "data": {
      "text/plain": [
       "array([ 0.,  0.,  0.,  0.,  0.,  0.,  0.,  0.,  0.,  0.])"
      ]
     },
     "execution_count": 11,
     "metadata": {},
     "output_type": "execute_result"
    }
   ],
   "source": [
    "np.zeros(10) # 10개를 뽑는데 전부 0으로\n"
   ]
  },
  {
   "cell_type": "code",
   "execution_count": 12,
   "metadata": {
    "collapsed": false
   },
   "outputs": [
    {
     "data": {
      "text/plain": [
       "array([ 0,  1,  2,  3,  4,  5,  6,  7,  8,  9, 10, 11, 12, 13, 14])"
      ]
     },
     "execution_count": 12,
     "metadata": {},
     "output_type": "execute_result"
    }
   ],
   "source": [
    "np.arange(15)"
   ]
  },
  {
   "cell_type": "code",
   "execution_count": 13,
   "metadata": {
    "collapsed": false
   },
   "outputs": [
    {
     "data": {
      "text/plain": [
       "array([[ 1.,  1.,  1.,  1.,  1.,  1.],\n",
       "       [ 1.,  1.,  1.,  1.,  1.,  1.],\n",
       "       [ 1.,  1.,  1.,  1.,  1.,  1.]])"
      ]
     },
     "execution_count": 13,
     "metadata": {},
     "output_type": "execute_result"
    }
   ],
   "source": [
    "np.ones((3, 6))\n"
   ]
  },
  {
   "cell_type": "code",
   "execution_count": 14,
   "metadata": {
    "collapsed": false
   },
   "outputs": [
    {
     "data": {
      "text/plain": [
       "array([[[  8.8290e-312,   3.1620e-322],\n",
       "        [  0.0000e+000,   0.0000e+000],\n",
       "        [  0.0000e+000,   1.4356e-051]],\n",
       "\n",
       "       [[  1.4610e+185,   1.1607e-046],\n",
       "        [  1.4225e+160,   5.9948e-038],\n",
       "        [  1.8316e-076,   3.7353e-061]]])"
      ]
     },
     "execution_count": 14,
     "metadata": {},
     "output_type": "execute_result"
    }
   ],
   "source": [
    "np.empty((2, 3, 2))"
   ]
  },
  {
   "cell_type": "code",
   "execution_count": 15,
   "metadata": {
    "collapsed": false
   },
   "outputs": [
    {
     "data": {
      "text/plain": [
       "3"
      ]
     },
     "execution_count": 15,
     "metadata": {},
     "output_type": "execute_result"
    }
   ],
   "source": [
    "np.empty((2,3,2)).ndim"
   ]
  },
  {
   "cell_type": "code",
   "execution_count": 16,
   "metadata": {
    "collapsed": false
   },
   "outputs": [
    {
     "data": {
      "text/plain": [
       "array([[[ 0.,  0.],\n",
       "        [ 0.,  0.],\n",
       "        [ 0.,  0.]],\n",
       "\n",
       "       [[ 0.,  0.],\n",
       "        [ 0.,  0.],\n",
       "        [ 0.,  0.]]])"
      ]
     },
     "execution_count": 16,
     "metadata": {},
     "output_type": "execute_result"
    }
   ],
   "source": [
    "a0 = np.array([\n",
    "  [[ 0.,  0.],  [ 0.,  0.], [ 0.,  0.]],\n",
    "  [[ 0.,  0.],  [ 0.,  0.], [ 0.,  0.]]\n",
    "])\n",
    "a0.shape\n",
    "a0.ndim\n",
    "a0"
   ]
  },
  {
   "cell_type": "code",
   "execution_count": 17,
   "metadata": {
    "collapsed": false
   },
   "outputs": [
    {
     "data": {
      "text/plain": [
       "3"
      ]
     },
     "execution_count": 17,
     "metadata": {},
     "output_type": "execute_result"
    }
   ],
   "source": [
    "a1=np.array([\n",
    "  [[ 0.,  0.],  [ 0.,  0.], [ 0.,  0.]]\n",
    "])\n",
    "a1.shape\n",
    "a1.ndim"
   ]
  },
  {
   "cell_type": "markdown",
   "metadata": {},
   "source": [
    "### 4.1.2 ndarry의 자료형\n",
    "### Data Types for ndarrays"
   ]
  },
  {
   "cell_type": "code",
   "execution_count": 18,
   "metadata": {
    "collapsed": false
   },
   "outputs": [
    {
     "data": {
      "text/plain": [
       "dtype('int32')"
      ]
     },
     "execution_count": 18,
     "metadata": {},
     "output_type": "execute_result"
    }
   ],
   "source": [
    "arr1 = np.array([1, 2, 3], dtype=np.float64)\n",
    "arr2 = np.array([1, 2, 3], dtype=np.int32)\n",
    "arr1.dtype\n",
    "arr2.dtype"
   ]
  },
  {
   "cell_type": "code",
   "execution_count": 96,
   "metadata": {
    "collapsed": false
   },
   "outputs": [
    {
     "data": {
      "text/plain": [
       "dtype('float64')"
      ]
     },
     "execution_count": 96,
     "metadata": {},
     "output_type": "execute_result"
    }
   ],
   "source": [
    "arr = np.array([1, 2, 3, 4, 5])\n",
    "arr.dtype\n",
    "float_arr = arr.astype(np.float64)\n",
    "float_arr.dtype"
   ]
  },
  {
   "cell_type": "code",
   "execution_count": 101,
   "metadata": {
    "collapsed": false
   },
   "outputs": [
    {
     "data": {
      "text/plain": [
       "array([ 3, -1, -2,  0, 12, 10])"
      ]
     },
     "execution_count": 101,
     "metadata": {},
     "output_type": "execute_result"
    }
   ],
   "source": [
    "arr = np.array([3.7, -1.2, -2.6, 0.5, 12.9, 10.1])\n",
    "arr\n",
    "arr.astype(np.int32) #형변환  ####???d안됨"
   ]
  },
  {
   "cell_type": "code",
   "execution_count": 21,
   "metadata": {
    "collapsed": true
   },
   "outputs": [],
   "source": [
    "#데이터가 string이라고 해도 안에 데이터가 int로 되어 있으면 "
   ]
  },
  {
   "cell_type": "code",
   "execution_count": 93,
   "metadata": {
    "collapsed": false
   },
   "outputs": [
    {
     "name": "stdout",
     "output_type": "stream",
     "text": [
      "|S4\n",
      "[  1.25  -9.6   42.  ]\n"
     ]
    }
   ],
   "source": [
    "numeric_strings = np.array(['1.25', '-9.6', '42'], dtype=np.string_)\n",
    "print(numeric_strings.dtype) #S4 : string 이고 길이가 4\n",
    "\n",
    "print(numeric_strings.astype(float))"
   ]
  },
  {
   "cell_type": "code",
   "execution_count": 94,
   "metadata": {
    "collapsed": false
   },
   "outputs": [
    {
     "name": "stdout",
     "output_type": "stream",
     "text": [
      "[0 1 2 3 4 5 6 7 8 9]\n",
      "[ 0.  1.  2.  3.  4.  5.  6.  7.  8.  9.]\n"
     ]
    }
   ],
   "source": [
    "int_array = np.arange(10)\n",
    "calibers = np.array([.22, .270, .357, .380, .44, .50], dtype=np.float64)\n",
    "print(int_array)\n",
    "print(int_array.astype(calibers.dtype)) #타입 맞춰주기 위해 사용."
   ]
  },
  {
   "cell_type": "code",
   "execution_count": 24,
   "metadata": {
    "collapsed": false
   },
   "outputs": [
    {
     "data": {
      "text/plain": [
       "array([         0, 1075314688,          0, 1075707904,          0,\n",
       "       1075838976,          0, 1072693248], dtype=uint32)"
      ]
     },
     "execution_count": 24,
     "metadata": {},
     "output_type": "execute_result"
    }
   ],
   "source": [
    "empty_uint32 = np.empty(8, dtype='u4')\n",
    "empty_uint32"
   ]
  },
  {
   "cell_type": "markdown",
   "metadata": {},
   "source": [
    "### 4.1.3 배열과 스칼라 간의 연산\n",
    "### Operations between arrays and scalars"
   ]
  },
  {
   "cell_type": "code",
   "execution_count": 25,
   "metadata": {
    "collapsed": false
   },
   "outputs": [
    {
     "data": {
      "text/plain": [
       "array([[ 0.,  0.,  0.],\n",
       "       [ 0.,  0.,  0.]])"
      ]
     },
     "execution_count": 25,
     "metadata": {},
     "output_type": "execute_result"
    }
   ],
   "source": [
    "arr = np.array([[1., 2., 3.], [4., 5., 6.]])\n",
    "arr\n",
    "arr * arr\n",
    "arr - arr"
   ]
  },
  {
   "cell_type": "code",
   "execution_count": 26,
   "metadata": {
    "collapsed": false
   },
   "outputs": [
    {
     "data": {
      "text/plain": [
       "array([[ 1.    ,  1.4142,  1.7321],\n",
       "       [ 2.    ,  2.2361,  2.4495]])"
      ]
     },
     "execution_count": 26,
     "metadata": {},
     "output_type": "execute_result"
    }
   ],
   "source": [
    "1 / arr\n",
    "arr ** 0.5"
   ]
  },
  {
   "cell_type": "markdown",
   "metadata": {},
   "source": [
    "### 4.1.4 색인과 슬라이싱 기초\n",
    "### Basic indexing and slicing"
   ]
  },
  {
   "cell_type": "code",
   "execution_count": 102,
   "metadata": {
    "collapsed": false
   },
   "outputs": [
    {
     "name": "stdout",
     "output_type": "stream",
     "text": [
      "[0 1 2 3 4 5 6 7 8 9]\n",
      "5\n",
      "[5 6 7]\n",
      "[ 0  1  2  3  4 12 12 12  8  9]\n"
     ]
    }
   ],
   "source": [
    "arr = np.arange(10) #1차원 배열은 파이썬의 리스트와 비슷하다.\n",
    "print(arr)\n",
    "print(arr[5])\n",
    "print( arr[5:8] )\n",
    "arr[5:8] = 12\n",
    "print(arr)"
   ]
  },
  {
   "cell_type": "code",
   "execution_count": 28,
   "metadata": {
    "collapsed": false
   },
   "outputs": [
    {
     "data": {
      "text/plain": [
       "array([ 0,  1,  2,  3,  4, 64, 64, 64,  8,  9])"
      ]
     },
     "execution_count": 28,
     "metadata": {},
     "output_type": "execute_result"
    }
   ],
   "source": [
    "arr_slice = arr[5:8]\n",
    "arr_slice[1] = 12345\n",
    "arr\n",
    "arr_slice[:] = 64\n",
    "arr"
   ]
  },
  {
   "cell_type": "code",
   "execution_count": 29,
   "metadata": {
    "collapsed": false
   },
   "outputs": [
    {
     "data": {
      "text/plain": [
       "array([7, 8, 9])"
      ]
     },
     "execution_count": 29,
     "metadata": {},
     "output_type": "execute_result"
    }
   ],
   "source": [
    "arr2d = np.array([[1, 2, 3], [4, 5, 6], [7, 8, 9]])\n",
    "arr2d[2]"
   ]
  },
  {
   "cell_type": "code",
   "execution_count": 30,
   "metadata": {
    "collapsed": false
   },
   "outputs": [
    {
     "data": {
      "text/plain": [
       "3"
      ]
     },
     "execution_count": 30,
     "metadata": {},
     "output_type": "execute_result"
    }
   ],
   "source": [
    "arr2d[0][2]\n",
    "arr2d[0, 2]"
   ]
  },
  {
   "cell_type": "code",
   "execution_count": 31,
   "metadata": {
    "collapsed": false
   },
   "outputs": [
    {
     "data": {
      "text/plain": [
       "array([[[ 1,  2,  3],\n",
       "        [ 4,  5,  6]],\n",
       "\n",
       "       [[ 7,  8,  9],\n",
       "        [10, 11, 12]]])"
      ]
     },
     "execution_count": 31,
     "metadata": {},
     "output_type": "execute_result"
    }
   ],
   "source": [
    "arr3d = np.array([[[1, 2, 3], [4, 5, 6]], [[7, 8, 9], [10, 11, 12]]])\n",
    "arr3d"
   ]
  },
  {
   "cell_type": "code",
   "execution_count": 32,
   "metadata": {
    "collapsed": false
   },
   "outputs": [
    {
     "data": {
      "text/plain": [
       "array([[1, 2, 3],\n",
       "       [4, 5, 6]])"
      ]
     },
     "execution_count": 32,
     "metadata": {},
     "output_type": "execute_result"
    }
   ],
   "source": [
    "arr3d[0]"
   ]
  },
  {
   "cell_type": "code",
   "execution_count": 33,
   "metadata": {
    "collapsed": false
   },
   "outputs": [
    {
     "data": {
      "text/plain": [
       "array([[[ 1,  2,  3],\n",
       "        [ 4,  5,  6]],\n",
       "\n",
       "       [[ 7,  8,  9],\n",
       "        [10, 11, 12]]])"
      ]
     },
     "execution_count": 33,
     "metadata": {},
     "output_type": "execute_result"
    }
   ],
   "source": [
    "old_values = arr3d[0].copy()\n",
    "arr3d[0] = 42\n",
    "arr3d\n",
    "arr3d[0] = old_values\n",
    "arr3d"
   ]
  },
  {
   "cell_type": "code",
   "execution_count": 34,
   "metadata": {
    "collapsed": false
   },
   "outputs": [
    {
     "data": {
      "text/plain": [
       "array([7, 8, 9])"
      ]
     },
     "execution_count": 34,
     "metadata": {},
     "output_type": "execute_result"
    }
   ],
   "source": [
    "arr3d[1, 0]"
   ]
  },
  {
   "cell_type": "markdown",
   "metadata": {},
   "source": [
    "#### 슬라이드 색인\n",
    "#### Indexing with slices"
   ]
  },
  {
   "cell_type": "code",
   "execution_count": 35,
   "metadata": {
    "collapsed": false
   },
   "outputs": [
    {
     "data": {
      "text/plain": [
       "array([ 1,  2,  3,  4, 64])"
      ]
     },
     "execution_count": 35,
     "metadata": {},
     "output_type": "execute_result"
    }
   ],
   "source": [
    "arr[1:6]"
   ]
  },
  {
   "cell_type": "code",
   "execution_count": 36,
   "metadata": {
    "collapsed": false
   },
   "outputs": [
    {
     "data": {
      "text/plain": [
       "array([[1, 2, 3],\n",
       "       [4, 5, 6]])"
      ]
     },
     "execution_count": 36,
     "metadata": {},
     "output_type": "execute_result"
    }
   ],
   "source": [
    "arr2d\n",
    "arr2d[:2]"
   ]
  },
  {
   "cell_type": "code",
   "execution_count": 37,
   "metadata": {
    "collapsed": false
   },
   "outputs": [
    {
     "data": {
      "text/plain": [
       "array([[2, 3],\n",
       "       [5, 6]])"
      ]
     },
     "execution_count": 37,
     "metadata": {},
     "output_type": "execute_result"
    }
   ],
   "source": [
    "arr2d[:2, 1:]"
   ]
  },
  {
   "cell_type": "code",
   "execution_count": 38,
   "metadata": {
    "collapsed": false
   },
   "outputs": [
    {
     "data": {
      "text/plain": [
       "array([7])"
      ]
     },
     "execution_count": 38,
     "metadata": {},
     "output_type": "execute_result"
    }
   ],
   "source": [
    "arr2d[1, :2]\n",
    "arr2d[2, :1]"
   ]
  },
  {
   "cell_type": "code",
   "execution_count": 39,
   "metadata": {
    "collapsed": false
   },
   "outputs": [
    {
     "data": {
      "text/plain": [
       "array([[1],\n",
       "       [4],\n",
       "       [7]])"
      ]
     },
     "execution_count": 39,
     "metadata": {},
     "output_type": "execute_result"
    }
   ],
   "source": [
    "arr2d[:, :1]"
   ]
  },
  {
   "cell_type": "code",
   "execution_count": 40,
   "metadata": {
    "collapsed": false
   },
   "outputs": [
    {
     "data": {
      "text/plain": [
       "array([[1, 0, 0],\n",
       "       [4, 0, 0],\n",
       "       [7, 8, 9]])"
      ]
     },
     "execution_count": 40,
     "metadata": {},
     "output_type": "execute_result"
    }
   ],
   "source": [
    "arr2d[:2, 1:] = 0\n",
    "arr2d"
   ]
  },
  {
   "cell_type": "markdown",
   "metadata": {},
   "source": [
    "### 4.1.5 불리언 색인\n",
    "### Boolean indexing\n",
    "## *색인 하려는 축의 길이와 동일해야 한다.*"
   ]
  },
  {
   "cell_type": "code",
   "execution_count": 106,
   "metadata": {
    "collapsed": false
   },
   "outputs": [
    {
     "name": "stdout",
     "output_type": "stream",
     "text": [
      "[[-1.2687 -0.3965 -0.3211  1.5086]\n",
      " [-2.2392 -0.1681  0.5964  0.3817]\n",
      " [-1.5197  0.5324  1.2041 -0.1401]\n",
      " [ 0.2274  1.1998 -0.157   0.1689]\n",
      " [-1.0959 -0.2395  0.969  -1.9691]\n",
      " [ 1.2857  0.4302 -0.4083  1.2942]\n",
      " [ 0.7296 -0.8161 -0.28   -0.3549]]\n",
      "[[-0.7383 -0.4916  0.889  -0.189 ]\n",
      " [ 1.8274 -0.5992  1.2464 -2.1864]\n",
      " [ 0.0754  0.6436 -2.3251 -0.6034]\n",
      " [ 0.4389  0.7555 -0.343   0.2068]\n",
      " [-2.0295 -1.2442  1.6332 -0.212 ]\n",
      " [-1.5398  0.6299  1.3005 -0.6426]\n",
      " [ 0.4796  1.2457 -1.4621 -0.3688]]\n"
     ]
    }
   ],
   "source": [
    "names = np.array(['Bob', 'Joe', 'Will', 'Bob', 'Will', 'Joe', 'Joe'])\n",
    "data = randn(7, 4)\n",
    "data2 = np.empty((7,4))\n",
    "names\n",
    "print(data)\n",
    "print(data2)"
   ]
  },
  {
   "cell_type": "code",
   "execution_count": 42,
   "metadata": {
    "collapsed": false
   },
   "outputs": [
    {
     "data": {
      "text/plain": [
       "array([ True, False, False,  True, False, False, False], dtype=bool)"
      ]
     },
     "execution_count": 42,
     "metadata": {},
     "output_type": "execute_result"
    }
   ],
   "source": [
    "names == 'Bob'"
   ]
  },
  {
   "cell_type": "code",
   "execution_count": 43,
   "metadata": {
    "collapsed": false
   },
   "outputs": [
    {
     "data": {
      "text/plain": [
       "array([[-0.9234, -0.1988,  1.1282, -1.1558],\n",
       "       [-1.0651,  0.6366, -0.9178, -1.7451]])"
      ]
     },
     "execution_count": 43,
     "metadata": {},
     "output_type": "execute_result"
    }
   ],
   "source": [
    "data[names == 'Bob']"
   ]
  },
  {
   "cell_type": "code",
   "execution_count": 44,
   "metadata": {
    "collapsed": false
   },
   "outputs": [
    {
     "data": {
      "text/plain": [
       "array([-1.1558, -1.7451])"
      ]
     },
     "execution_count": 44,
     "metadata": {},
     "output_type": "execute_result"
    }
   ],
   "source": [
    "data[names == 'Bob', 2:]\n",
    "data[names == 'Bob', 3]"
   ]
  },
  {
   "cell_type": "code",
   "execution_count": 45,
   "metadata": {
    "collapsed": false
   },
   "outputs": [
    {
     "name": "stderr",
     "output_type": "stream",
     "text": [
      "C:\\ProgramData\\Anaconda3\\lib\\site-packages\\ipykernel\\__main__.py:2: DeprecationWarning: numpy boolean negative, the `-` operator, is deprecated, use the `~` operator or the logical_not function instead.\n",
      "  from ipykernel import kernelapp as app\n"
     ]
    },
    {
     "data": {
      "text/plain": [
       "array([[-1.1023, -0.4845,  0.7963,  0.2119],\n",
       "       [-1.9894, -0.2773,  0.3769,  0.0109],\n",
       "       [-0.0763, -1.2091, -0.3109, -0.1315],\n",
       "       [ 0.016 ,  0.3919,  0.1786,  1.1799],\n",
       "       [ 0.8342,  0.0603, -1.7079, -0.3975]])"
      ]
     },
     "execution_count": 45,
     "metadata": {},
     "output_type": "execute_result"
    }
   ],
   "source": [
    "names != 'Bob'\n",
    "data[-(names == 'Bob')]"
   ]
  },
  {
   "cell_type": "code",
   "execution_count": 46,
   "metadata": {
    "collapsed": false
   },
   "outputs": [
    {
     "data": {
      "text/plain": [
       "array([[-0.9234, -0.1988,  1.1282, -1.1558],\n",
       "       [-1.9894, -0.2773,  0.3769,  0.0109],\n",
       "       [-1.0651,  0.6366, -0.9178, -1.7451],\n",
       "       [-0.0763, -1.2091, -0.3109, -0.1315]])"
      ]
     },
     "execution_count": 46,
     "metadata": {},
     "output_type": "execute_result"
    }
   ],
   "source": [
    "mask = (names == 'Bob') | (names == 'Will')\n",
    "mask\n",
    "data[mask]"
   ]
  },
  {
   "cell_type": "code",
   "execution_count": 47,
   "metadata": {
    "collapsed": false
   },
   "outputs": [
    {
     "data": {
      "text/plain": [
       "array([[ 0.    ,  0.    ,  1.1282,  0.    ],\n",
       "       [ 0.    ,  0.    ,  0.7963,  0.2119],\n",
       "       [ 0.    ,  0.    ,  0.3769,  0.0109],\n",
       "       [ 0.    ,  0.6366,  0.    ,  0.    ],\n",
       "       [ 0.    ,  0.    ,  0.    ,  0.    ],\n",
       "       [ 0.016 ,  0.3919,  0.1786,  1.1799],\n",
       "       [ 0.8342,  0.0603,  0.    ,  0.    ]])"
      ]
     },
     "execution_count": 47,
     "metadata": {},
     "output_type": "execute_result"
    }
   ],
   "source": [
    "data[data < 0] = 0\n",
    "data"
   ]
  },
  {
   "cell_type": "code",
   "execution_count": 48,
   "metadata": {
    "collapsed": false
   },
   "outputs": [
    {
     "data": {
      "text/plain": [
       "array([[ 7.    ,  7.    ,  7.    ,  7.    ],\n",
       "       [ 0.    ,  0.    ,  0.7963,  0.2119],\n",
       "       [ 7.    ,  7.    ,  7.    ,  7.    ],\n",
       "       [ 7.    ,  7.    ,  7.    ,  7.    ],\n",
       "       [ 7.    ,  7.    ,  7.    ,  7.    ],\n",
       "       [ 0.016 ,  0.3919,  0.1786,  1.1799],\n",
       "       [ 0.8342,  0.0603,  0.    ,  0.    ]])"
      ]
     },
     "execution_count": 48,
     "metadata": {},
     "output_type": "execute_result"
    }
   ],
   "source": [
    "data[names != 'Joe'] = 7\n",
    "data"
   ]
  },
  {
   "cell_type": "markdown",
   "metadata": {},
   "source": [
    "### 4.1.6 팬시 색인\n",
    "### Fancy indexing"
   ]
  },
  {
   "cell_type": "code",
   "execution_count": 49,
   "metadata": {
    "collapsed": false
   },
   "outputs": [
    {
     "data": {
      "text/plain": [
       "array([[ 0.,  0.,  0.,  0.],\n",
       "       [ 1.,  1.,  1.,  1.],\n",
       "       [ 2.,  2.,  2.,  2.],\n",
       "       [ 3.,  3.,  3.,  3.],\n",
       "       [ 4.,  4.,  4.,  4.],\n",
       "       [ 5.,  5.,  5.,  5.],\n",
       "       [ 6.,  6.,  6.,  6.],\n",
       "       [ 7.,  7.,  7.,  7.]])"
      ]
     },
     "execution_count": 49,
     "metadata": {},
     "output_type": "execute_result"
    }
   ],
   "source": [
    "arr = np.empty((8, 4))\n",
    "for i in range(8):\n",
    "    arr[i] = i\n",
    "arr"
   ]
  },
  {
   "cell_type": "code",
   "execution_count": 50,
   "metadata": {
    "collapsed": false
   },
   "outputs": [
    {
     "data": {
      "text/plain": [
       "array([[ 4.,  4.,  4.,  4.],\n",
       "       [ 3.,  3.,  3.,  3.],\n",
       "       [ 0.,  0.,  0.,  0.],\n",
       "       [ 6.,  6.,  6.,  6.]])"
      ]
     },
     "execution_count": 50,
     "metadata": {},
     "output_type": "execute_result"
    }
   ],
   "source": [
    "arr[[4, 3, 0, 6]]"
   ]
  },
  {
   "cell_type": "code",
   "execution_count": 51,
   "metadata": {
    "collapsed": false
   },
   "outputs": [
    {
     "data": {
      "text/plain": [
       "array([[ 5.,  5.,  5.,  5.],\n",
       "       [ 3.,  3.,  3.,  3.],\n",
       "       [ 1.,  1.,  1.,  1.]])"
      ]
     },
     "execution_count": 51,
     "metadata": {},
     "output_type": "execute_result"
    }
   ],
   "source": [
    "arr[[-3, -5, -7]]"
   ]
  },
  {
   "cell_type": "code",
   "execution_count": 52,
   "metadata": {
    "collapsed": false
   },
   "outputs": [
    {
     "data": {
      "text/plain": [
       "array([ 4, 23, 29, 10])"
      ]
     },
     "execution_count": 52,
     "metadata": {},
     "output_type": "execute_result"
    }
   ],
   "source": [
    "# more on reshape in Chapter 12\n",
    "arr = np.arange(32).reshape((8, 4))\n",
    "arr\n",
    "arr[[1, 5, 7, 2], [0, 3, 1, 2]]"
   ]
  },
  {
   "cell_type": "code",
   "execution_count": 53,
   "metadata": {
    "collapsed": false
   },
   "outputs": [
    {
     "data": {
      "text/plain": [
       "array([[ 4,  7,  5,  6],\n",
       "       [20, 23, 21, 22],\n",
       "       [28, 31, 29, 30],\n",
       "       [ 8, 11,  9, 10]])"
      ]
     },
     "execution_count": 53,
     "metadata": {},
     "output_type": "execute_result"
    }
   ],
   "source": [
    "arr[[1, 5, 7, 2]][:, [0, 3, 1, 2]]"
   ]
  },
  {
   "cell_type": "code",
   "execution_count": 54,
   "metadata": {
    "collapsed": false
   },
   "outputs": [
    {
     "data": {
      "text/plain": [
       "array([[ 4,  7,  5,  6],\n",
       "       [20, 23, 21, 22],\n",
       "       [28, 31, 29, 30],\n",
       "       [ 8, 11,  9, 10]])"
      ]
     },
     "execution_count": 54,
     "metadata": {},
     "output_type": "execute_result"
    }
   ],
   "source": [
    "arr[np.ix_([1, 5, 7, 2], [0, 3, 1, 2])]"
   ]
  },
  {
   "cell_type": "markdown",
   "metadata": {},
   "source": [
    "### 4.1.7 배열 전치와 축 바꾸기\n",
    "### Transposing arrays and swapping axes"
   ]
  },
  {
   "cell_type": "code",
   "execution_count": 55,
   "metadata": {
    "collapsed": false
   },
   "outputs": [
    {
     "data": {
      "text/plain": [
       "array([[ 0,  5, 10],\n",
       "       [ 1,  6, 11],\n",
       "       [ 2,  7, 12],\n",
       "       [ 3,  8, 13],\n",
       "       [ 4,  9, 14]])"
      ]
     },
     "execution_count": 55,
     "metadata": {},
     "output_type": "execute_result"
    }
   ],
   "source": [
    "arr = np.arange(15).reshape((3, 5))\n",
    "arr\n",
    "arr.T"
   ]
  },
  {
   "cell_type": "code",
   "execution_count": 56,
   "metadata": {
    "collapsed": false
   },
   "outputs": [
    {
     "data": {
      "text/plain": [
       "array([[ 8.1919,  3.7171,  2.3088],\n",
       "       [ 3.7171,  5.6421,  1.271 ],\n",
       "       [ 2.3088,  1.271 ,  3.0786]])"
      ]
     },
     "execution_count": 56,
     "metadata": {},
     "output_type": "execute_result"
    }
   ],
   "source": [
    "arr = np.random.randn(6, 3)\n",
    "np.dot(arr.T, arr)"
   ]
  },
  {
   "cell_type": "code",
   "execution_count": 57,
   "metadata": {
    "collapsed": false
   },
   "outputs": [
    {
     "data": {
      "text/plain": [
       "array([[[ 0,  1,  2,  3],\n",
       "        [ 8,  9, 10, 11]],\n",
       "\n",
       "       [[ 4,  5,  6,  7],\n",
       "        [12, 13, 14, 15]]])"
      ]
     },
     "execution_count": 57,
     "metadata": {},
     "output_type": "execute_result"
    }
   ],
   "source": [
    "arr = np.arange(16).reshape((2, 2, 4))\n",
    "arr\n",
    "arr.transpose((1, 0, 2))"
   ]
  },
  {
   "cell_type": "code",
   "execution_count": 58,
   "metadata": {
    "collapsed": false
   },
   "outputs": [
    {
     "data": {
      "text/plain": [
       "array([[[ 0,  4],\n",
       "        [ 1,  5],\n",
       "        [ 2,  6],\n",
       "        [ 3,  7]],\n",
       "\n",
       "       [[ 8, 12],\n",
       "        [ 9, 13],\n",
       "        [10, 14],\n",
       "        [11, 15]]])"
      ]
     },
     "execution_count": 58,
     "metadata": {},
     "output_type": "execute_result"
    }
   ],
   "source": [
    "arr\n",
    "arr.swapaxes(1, 2)"
   ]
  },
  {
   "cell_type": "markdown",
   "metadata": {},
   "source": [
    "## 유니버설 함수\n",
    "\n",
    "## Universal Functions: Fast element-wise array functions"
   ]
  },
  {
   "cell_type": "code",
   "execution_count": 59,
   "metadata": {
    "collapsed": false
   },
   "outputs": [
    {
     "data": {
      "text/plain": [
       "array([    1.    ,     2.7183,     7.3891,    20.0855,    54.5982,\n",
       "         148.4132,   403.4288,  1096.6332,  2980.958 ,  8103.0839])"
      ]
     },
     "execution_count": 59,
     "metadata": {},
     "output_type": "execute_result"
    }
   ],
   "source": [
    "arr = np.arange(10)\n",
    "np.sqrt(arr)\n",
    "np.exp(arr)"
   ]
  },
  {
   "cell_type": "code",
   "execution_count": 60,
   "metadata": {
    "collapsed": false
   },
   "outputs": [
    {
     "data": {
      "text/plain": [
       "array([-1.3803,  1.8765,  1.5022,  1.132 ,  2.419 , -0.3751,  1.7315,\n",
       "       -0.1462])"
      ]
     },
     "execution_count": 60,
     "metadata": {},
     "output_type": "execute_result"
    }
   ],
   "source": [
    "x = randn(8)\n",
    "y = randn(8)\n",
    "x\n",
    "y\n",
    "np.maximum(x, y) # element-wise maximum"
   ]
  },
  {
   "cell_type": "code",
   "execution_count": 107,
   "metadata": {
    "collapsed": false
   },
   "outputs": [
    {
     "data": {
      "text/plain": [
       "(array([ 0.9554,  0.5118, -0.2866, -0.3919, -0.0709,  0.8796,  0.6692]),\n",
       " array([ 7.,  2., -4., -1., -0.,  2.,  3.]))"
      ]
     },
     "execution_count": 107,
     "metadata": {},
     "output_type": "execute_result"
    }
   ],
   "source": [
    "arr = randn(7) * 5\n",
    "np.modf(arr)"
   ]
  },
  {
   "cell_type": "code",
   "execution_count": 111,
   "metadata": {
    "collapsed": false
   },
   "outputs": [
    {
     "name": "stdout",
     "output_type": "stream",
     "text": [
      "[ 0.731  -0.1792  0.0978 -0.5742 -1.135   0.435  -0.7255]\n"
     ]
    }
   ],
   "source": [
    "a = randn(7) \n",
    "print (a)"
   ]
  },
  {
   "cell_type": "markdown",
   "metadata": {},
   "source": [
    "## 4.3 배열을 사용한 데이터 처리\n",
    "## Data processing using arrays"
   ]
  },
  {
   "cell_type": "code",
   "execution_count": 114,
   "metadata": {
    "collapsed": false
   },
   "outputs": [
    {
     "data": {
      "text/plain": [
       "array([[-5.  , -4.99, -4.98, ...,  4.97,  4.98,  4.99],\n",
       "       [-5.  , -4.99, -4.98, ...,  4.97,  4.98,  4.99],\n",
       "       [-5.  , -4.99, -4.98, ...,  4.97,  4.98,  4.99],\n",
       "       ..., \n",
       "       [-5.  , -4.99, -4.98, ...,  4.97,  4.98,  4.99],\n",
       "       [-5.  , -4.99, -4.98, ...,  4.97,  4.98,  4.99],\n",
       "       [-5.  , -4.99, -4.98, ...,  4.97,  4.98,  4.99]])"
      ]
     },
     "execution_count": 114,
     "metadata": {},
     "output_type": "execute_result"
    }
   ],
   "source": [
    "points = np.arange(-5, 5, 0.01) # 1000 equally spaced points\n",
    "xs, ys = np.meshgrid(points, points)\n",
    "xs"
   ]
  },
  {
   "cell_type": "code",
   "execution_count": 63,
   "metadata": {
    "collapsed": false
   },
   "outputs": [],
   "source": [
    "from matplotlib.pyplot import imshow, title"
   ]
  },
  {
   "cell_type": "code",
   "execution_count": 64,
   "metadata": {
    "collapsed": false
   },
   "outputs": [
    {
     "data": {
      "text/plain": [
       "<matplotlib.text.Text at 0x1a01874f0b8>"
      ]
     },
     "execution_count": 64,
     "metadata": {},
     "output_type": "execute_result"
    },
    {
     "data": {
      "image/png": "[encoded data removed]",
      "text/plain": [
       "<matplotlib.figure.Figure at 0x1a018a82080>"
      ]
     },
     "metadata": {},
     "output_type": "display_data"
    }
   ],
   "source": [
    "import matplotlib.pyplot as plt\n",
    "z = np.sqrt(xs ** 2 + ys ** 2)\n",
    "z\n",
    "plt.imshow(z, cmap=plt.cm.gray); plt.colorbar()\n",
    "plt.title(\"Image plot of $\\sqrt{x^2 + y^2}$ for a grid of values\")"
   ]
  },
  {
   "cell_type": "code",
   "execution_count": 65,
   "metadata": {
    "collapsed": false
   },
   "outputs": [
    {
     "data": {
      "text/plain": [
       "<matplotlib.figure.Figure at 0x1a018a77a58>"
      ]
     },
     "metadata": {},
     "output_type": "display_data"
    }
   ],
   "source": [
    "plt.draw()"
   ]
  },
  {
   "cell_type": "markdown",
   "metadata": {},
   "source": [
    "### 4.3.1 배열연산으로 조건절 표현하기\n",
    "### Expressing conditional logic as array operations"
   ]
  },
  {
   "cell_type": "code",
   "execution_count": 66,
   "metadata": {
    "collapsed": false
   },
   "outputs": [],
   "source": [
    "xarr = np.array([1.1, 1.2, 1.3, 1.4, 1.5])\n",
    "yarr = np.array([2.1, 2.2, 2.3, 2.4, 2.5])\n",
    "cond = np.array([True, False, True, True, False])"
   ]
  },
  {
   "cell_type": "code",
   "execution_count": 67,
   "metadata": {
    "collapsed": false
   },
   "outputs": [
    {
     "data": {
      "text/plain": [
       "[1.1000000000000001, 2.2000000000000002, 1.3, 1.3999999999999999, 2.5]"
      ]
     },
     "execution_count": 67,
     "metadata": {},
     "output_type": "execute_result"
    }
   ],
   "source": [
    "result = [(x if c else y)\n",
    "          for x, y, c in zip(xarr, yarr, cond)]\n",
    "result"
   ]
  },
  {
   "cell_type": "code",
   "execution_count": 68,
   "metadata": {
    "collapsed": false
   },
   "outputs": [
    {
     "data": {
      "text/plain": [
       "array([ 1.1,  2.2,  1.3,  1.4,  2.5])"
      ]
     },
     "execution_count": 68,
     "metadata": {},
     "output_type": "execute_result"
    }
   ],
   "source": [
    "result = np.where(cond, xarr, yarr)\n",
    "result"
   ]
  },
  {
   "cell_type": "code",
   "execution_count": 69,
   "metadata": {
    "collapsed": false
   },
   "outputs": [
    {
     "data": {
      "text/plain": [
       "array([[ 0.2695, -0.8251,  0.6733,  0.2813],\n",
       "       [ 0.7264,  0.936 , -1.113 , -1.9879],\n",
       "       [-0.622 ,  0.4042, -2.9633,  0.1854],\n",
       "       [ 0.9684,  0.0163, -0.0001, -0.4633]])"
      ]
     },
     "execution_count": 69,
     "metadata": {},
     "output_type": "execute_result"
    }
   ],
   "source": [
    "arr = randn(4, 4)\n",
    "arr"
   ]
  },
  {
   "cell_type": "code",
   "execution_count": 70,
   "metadata": {
    "collapsed": false
   },
   "outputs": [
    {
     "data": {
      "text/plain": [
       "array([[ 2.    , -0.8251,  2.    ,  2.    ],\n",
       "       [ 2.    ,  2.    , -1.113 , -1.9879],\n",
       "       [-0.622 ,  2.    , -2.9633,  2.    ],\n",
       "       [ 2.    ,  2.    , -0.0001, -0.4633]])"
      ]
     },
     "execution_count": 70,
     "metadata": {},
     "output_type": "execute_result"
    }
   ],
   "source": [
    "np.where(arr > 0, 2, -2)\n",
    "np.where(arr > 0, 2, arr) # set only positive values to 2"
   ]
  },
  {
   "cell_type": "markdown",
   "metadata": {},
   "source": [
    "##### where를 사용할 때 조금만 더 궁리를 하면 좀 더 복잡한 연산을 수행할 수 있다. 다음 예제를 보자. cond1, cond2라는 2개의 불리언 배열을 가지고 조합 가능한 네 가지 경우마다 다른 값을 대입하고 싶다면 다음처럼 작성가능하다"
   ]
  },
  {
   "cell_type": "code",
   "execution_count": 116,
   "metadata": {
    "collapsed": true
   },
   "outputs": [],
   "source": [
    "cond1 = np.array([False, False])\n",
    "cond2 = np.array([True, False])\n",
    "n = 4"
   ]
  },
  {
   "cell_type": "code",
   "execution_count": 72,
   "metadata": {
    "collapsed": false
   },
   "outputs": [],
   "source": [
    "\n",
    "result = []\n",
    "for i in range(n):\n",
    "    if cond1[i] and cond2[i]:\n",
    "        result.append(0)\n",
    "    elif cond1[i]:\n",
    "        result.append(1)\n",
    "    elif cond2[i]:\n",
    "        result.append(2)\n",
    "    else:\n",
    "        result.append(3)"
   ]
  },
  {
   "cell_type": "markdown",
   "metadata": {},
   "source": [
    "##### 중첩된 where를 사용해서 다음 for 반복문은 앞의 예제와 같은 결과를 얻는다."
   ]
  },
  {
   "cell_type": "code",
   "execution_count": 73,
   "metadata": {
    "collapsed": false
   },
   "outputs": [
    {
     "data": {
      "text/plain": [
       "array([2, 3, 2, 1, 0])"
      ]
     },
     "execution_count": 73,
     "metadata": {},
     "output_type": "execute_result"
    }
   ],
   "source": [
    "np.where(cond1 & cond2, 0,\n",
    "         np.where(cond1, 1,\n",
    "                  np.where(cond2, 2, 3)))"
   ]
  },
  {
   "cell_type": "markdown",
   "metadata": {},
   "source": [
    "##### 불리언 값은 0이거나 1인 값만을 취하므로 가독성이 떨어지긴 해도 다음 코드처럼 산술연산만으로 표현하는 것도 가능하다\n"
   ]
  },
  {
   "cell_type": "code",
   "execution_count": 117,
   "metadata": {
    "collapsed": false
   },
   "outputs": [
    {
     "name": "stderr",
     "output_type": "stream",
     "text": [
      "C:\\ProgramData\\Anaconda3\\lib\\site-packages\\ipykernel\\__main__.py:1: DeprecationWarning: numpy boolean negative, the `-` operator, is deprecated, use the `~` operator or the logical_not function instead.\n",
      "  if __name__ == '__main__':\n"
     ]
    },
    {
     "data": {
      "text/plain": [
       "array([2, 3])"
      ]
     },
     "execution_count": 117,
     "metadata": {},
     "output_type": "execute_result"
    }
   ],
   "source": [
    "result = 1 * cond1 + 2 * cond2 + 3 * -(cond1 | cond2)\n",
    "result"
   ]
  },
  {
   "cell_type": "markdown",
   "metadata": {},
   "source": [
    "### 4.3.2 수학 메서드와 통계 메서드\n",
    "### Mathematical and statistical methods"
   ]
  },
  {
   "cell_type": "code",
   "execution_count": 75,
   "metadata": {
    "collapsed": false
   },
   "outputs": [
    {
     "data": {
      "text/plain": [
       "6.2373126046405059"
      ]
     },
     "execution_count": 75,
     "metadata": {},
     "output_type": "execute_result"
    }
   ],
   "source": [
    "arr = np.random.randn(5, 4) # normally-distributed data\n",
    "arr.mean()\n",
    "np.mean(arr)\n",
    "arr.sum()"
   ]
  },
  {
   "cell_type": "code",
   "execution_count": 76,
   "metadata": {
    "collapsed": false
   },
   "outputs": [
    {
     "data": {
      "text/plain": [
       "array([ 1.3034,  3.9478, -0.7485,  1.7346])"
      ]
     },
     "execution_count": 76,
     "metadata": {},
     "output_type": "execute_result"
    }
   ],
   "source": [
    "arr.mean(axis=1)\n",
    "arr.sum(0)"
   ]
  },
  {
   "cell_type": "code",
   "execution_count": 77,
   "metadata": {
    "collapsed": false
   },
   "outputs": [
    {
     "data": {
      "text/plain": [
       "array([[  0,   0,   0],\n",
       "       [  3,  12,  60],\n",
       "       [  6,  42, 336]], dtype=int32)"
      ]
     },
     "execution_count": 77,
     "metadata": {},
     "output_type": "execute_result"
    }
   ],
   "source": [
    "arr = np.array([[0, 1, 2], [3, 4, 5], [6, 7, 8]])\n",
    "arr.cumsum(0)\n",
    "arr.cumprod(1)"
   ]
  },
  {
   "cell_type": "markdown",
   "metadata": {},
   "source": [
    "### 4.3.3 불리언 배열을 위한 메서드\n",
    "### Methods for boolean arrays"
   ]
  },
  {
   "cell_type": "code",
   "execution_count": 78,
   "metadata": {
    "collapsed": false
   },
   "outputs": [
    {
     "data": {
      "text/plain": [
       "54"
      ]
     },
     "execution_count": 78,
     "metadata": {},
     "output_type": "execute_result"
    }
   ],
   "source": [
    "arr = randn(100)\n",
    "(arr > 0).sum() # Number of positive values"
   ]
  },
  {
   "cell_type": "code",
   "execution_count": 79,
   "metadata": {
    "collapsed": false
   },
   "outputs": [
    {
     "data": {
      "text/plain": [
       "False"
      ]
     },
     "execution_count": 79,
     "metadata": {},
     "output_type": "execute_result"
    }
   ],
   "source": [
    "bools = np.array([False, False, True, False])\n",
    "bools.any()\n",
    "bools.all()"
   ]
  },
  {
   "cell_type": "markdown",
   "metadata": {},
   "source": [
    "### 4.3.4 정렬\n",
    "### Sorting"
   ]
  },
  {
   "cell_type": "code",
   "execution_count": 80,
   "metadata": {
    "collapsed": false
   },
   "outputs": [
    {
     "data": {
      "text/plain": [
       "array([-1.2618, -1.2025, -0.9737, -0.8133, -0.6495, -0.1023,  0.2381,\n",
       "        0.5236])"
      ]
     },
     "execution_count": 80,
     "metadata": {},
     "output_type": "execute_result"
    }
   ],
   "source": [
    "arr = randn(8)\n",
    "arr\n",
    "arr.sort()\n",
    "arr"
   ]
  },
  {
   "cell_type": "code",
   "execution_count": 81,
   "metadata": {
    "collapsed": false
   },
   "outputs": [
    {
     "data": {
      "text/plain": [
       "array([[-1.9034, -0.4316,  0.1553],\n",
       "       [-0.8101, -0.7858,  0.47  ],\n",
       "       [-2.0021,  0.5175,  1.2952],\n",
       "       [-1.0428, -0.1361, -0.0449],\n",
       "       [-1.2615, -0.9121, -0.5207]])"
      ]
     },
     "execution_count": 81,
     "metadata": {},
     "output_type": "execute_result"
    }
   ],
   "source": [
    "arr = randn(5, 3)\n",
    "arr\n",
    "arr.sort(1)\n",
    "arr"
   ]
  },
  {
   "cell_type": "code",
   "execution_count": 82,
   "metadata": {
    "collapsed": false
   },
   "outputs": [
    {
     "data": {
      "text/plain": [
       "-1.6897946205843823"
      ]
     },
     "execution_count": 82,
     "metadata": {},
     "output_type": "execute_result"
    }
   ],
   "source": [
    "large_arr = randn(1000)\n",
    "large_arr.sort()\n",
    "large_arr[int(0.05 * len(large_arr))] # 5% quantile"
   ]
  },
  {
   "cell_type": "markdown",
   "metadata": {},
   "source": [
    "### 집합 함수\n",
    "### Unique and other set logic"
   ]
  },
  {
   "cell_type": "code",
   "execution_count": 83,
   "metadata": {
    "collapsed": false
   },
   "outputs": [
    {
     "data": {
      "text/plain": [
       "array([1, 2, 3, 4])"
      ]
     },
     "execution_count": 83,
     "metadata": {},
     "output_type": "execute_result"
    }
   ],
   "source": [
    "names = np.array(['Bob', 'Joe', 'Will', 'Bob', 'Will', 'Joe', 'Joe'])\n",
    "np.unique(names)\n",
    "ints = np.array([3, 3, 3, 2, 2, 1, 1, 4, 4])\n",
    "np.unique(ints)"
   ]
  },
  {
   "cell_type": "code",
   "execution_count": 84,
   "metadata": {
    "collapsed": false
   },
   "outputs": [
    {
     "data": {
      "text/plain": [
       "['Bob', 'Joe', 'Will']"
      ]
     },
     "execution_count": 84,
     "metadata": {},
     "output_type": "execute_result"
    }
   ],
   "source": [
    "sorted(set(names))"
   ]
  },
  {
   "cell_type": "code",
   "execution_count": 85,
   "metadata": {
    "collapsed": false
   },
   "outputs": [
    {
     "data": {
      "text/plain": [
       "array([ True, False, False,  True,  True, False,  True], dtype=bool)"
      ]
     },
     "execution_count": 85,
     "metadata": {},
     "output_type": "execute_result"
    }
   ],
   "source": [
    "values = np.array([6, 0, 0, 3, 2, 5, 6])\n",
    "np.in1d(values, [2, 3, 6])"
   ]
  },
  {
   "cell_type": "markdown",
   "metadata": {},
   "source": [
    "## 4.4 배열의 파일 입.출력\n",
    "## File input and output with arrays"
   ]
  },
  {
   "cell_type": "markdown",
   "metadata": {},
   "source": [
    "### 4.4.1 배열을 바이너리 형식으로 디스크에 저장하기\n",
    "### Storing arrays on disk in binary format"
   ]
  },
  {
   "cell_type": "code",
   "execution_count": 86,
   "metadata": {
    "collapsed": false
   },
   "outputs": [],
   "source": [
    "arr = np.arange(10)\n",
    "np.save('some_array', arr)"
   ]
  },
  {
   "cell_type": "code",
   "execution_count": 87,
   "metadata": {
    "collapsed": false
   },
   "outputs": [
    {
     "data": {
      "text/plain": [
       "array([0, 1, 2, 3, 4, 5, 6, 7, 8, 9])"
      ]
     },
     "execution_count": 87,
     "metadata": {},
     "output_type": "execute_result"
    }
   ],
   "source": [
    "np.load('some_array.npy')"
   ]
  },
  {
   "cell_type": "code",
   "execution_count": 88,
   "metadata": {
    "collapsed": false
   },
   "outputs": [],
   "source": [
    "np.savez('array_archive.npz', a=arr, b=arr)"
   ]
  },
  {
   "cell_type": "code",
   "execution_count": 89,
   "metadata": {
    "collapsed": false
   },
   "outputs": [
    {
     "data": {
      "text/plain": [
       "array([0, 1, 2, 3, 4, 5, 6, 7, 8, 9])"
      ]
     },
     "execution_count": 89,
     "metadata": {},
     "output_type": "execute_result"
    }
   ],
   "source": [
    "arch = np.load('array_archive.npz')\n",
    "arch['b']"
   ]
  },
  {
   "cell_type": "code",
   "execution_count": 90,
   "metadata": {
    "collapsed": false
   },
   "outputs": [
    {
     "name": "stderr",
     "output_type": "stream",
     "text": [
      "'rm'은(는) 내부 또는 외부 명령, 실행할 수 있는 프로그램, 또는\n",
      "배치 파일이 아닙니다.\n",
      "'rm'은(는) 내부 또는 외부 명령, 실행할 수 있는 프로그램, 또는\n",
      "배치 파일이 아닙니다.\n"
     ]
    }
   ],
   "source": [
    "!rm some_array.npy\n",
    "!rm array_archive.npz"
   ]
  },
  {
   "cell_type": "markdown",
   "metadata": {},
   "source": [
    "### 4.4.2 텍스트 파일 불러오기와 저장하기\n",
    "### Saving and loading text files"
   ]
  },
  {
   "cell_type": "code",
   "execution_count": 118,
   "metadata": {
    "collapsed": false
   },
   "outputs": [
    {
     "name": "stdout",
     "output_type": "stream",
     "text": [
      "��\u00001\u0000\t\u00002\u00000\u00001\u00007\u0000-\u00000\u00002\u0000-\u00000\u00004\u0000\t��육\u0000 \u0000K\u0000T\u0000\t\u00003\u00001\u0000:\u00005\u00004\u0000\t\u00006\u0000\t\u00002\u0000/\u00005\u0000\t\u00000\u0000/\u00001\u0000\t\u00002\u0000/\u00003\u0000\t\u00004\u0000\t\u00003\u0000\t\u00000\u0000\t\u00000\u0000\t\u00002\u0000\n",
      "\u0000\n",
      "\u00001\u0000\t\u00002\u00000\u00001\u00007\u0000-\u00000\u00002\u0000-\u00000\u00002\u0000\t�x��\u0000 �\u0004�맰쑕�\u0000\t\u00003\u00000\u0000:\u00004\u00001\u0000\t\u00001\u00001\u0000\t\u00002\u0000/\u00002\u0000\t\u00001\u0000/\u00002\u0000\t\u00004\u0000/\u00004\u0000\t\u00001\u0000\t\u00006\u0000\t\u00001\u0000\t\u00000\u0000\t\u00002\u0000\n",
      "\u0000\n",
      "\u00001\u0000\t\u00002\u00000\u00001\u00007\u0000-\u00000\u00001\u0000-\u00003\u00000\u0000\t휟흷\u0000 �x읊�塚�\u0000\t\u00003\u00004\u0000:\u00002\u00003\u0000\t\u00001\u00005\u0000\t\u00004\u0000/\u00007\u0000\t\u00002\u0000/\u00004\u0000\t\u00001\u0000/\u00002\u0000\t\u00002\u0000\t\u00005\u0000\t\u00001\u0000\t\u00000\u0000\t\u00006\u0000\n",
      "\u0000\n",
      "\u00001\u0000\t\u00002\u00000\u00001\u00007\u0000-\u00000\u00001\u0000-\u00002\u00008\u0000\t패힙\u0000 넨��\u0000\t\u00003\u00001\u0000:\u00001\u00003\u0000\t\u00002\u0000\t\u00000\u0000/\u00005\u0000\t\u00000\u0000/\u00001\u0000\t\u00002\u0000/\u00002\u0000\t\u00002\u0000\t\u00007\u0000\t\u00004\u0000\t\u00000\u0000\t\u00003\u0000\n",
      "\u0000\n",
      "\u00001\u0000\t\u00002\u00000\u00001\u00007\u0000-\u00000\u00001\u0000-\u00002\u00005\u0000\t틘육\u0000 벰퐻짚\u0000\t\u00003\u00002\u0000:\u00001\u00009\u0000\t\u00001\u00002\u0000\t\u00003\u0000/\u00007\u0000\t\u00001\u0000/\u00001\u0000\t\u00003\u0000/\u00003\u0000\t\u00002\u0000\t\u00004\u0000\t\u00001\u0000\t\u00000\u0000\t\u00001\u0000\n",
      "\u0000\n",
      "\u00001\u0000\t\u00002\u00000\u00001\u00007\u0000-\u00000\u00001\u0000-\u00001\u00007\u0000\t�=패\u0000 \u0000L\u0000G\u0000\t\u00002\u00007\u0000:\u00000\u00002\u0000\t\u00008\u0000\t\u00002\u0000/\u00002\u0000\t\u00001\u0000/\u00002\u0000\t\u00001\u0000/\u00002\u0000\t\u00002\u0000\t\u00004\u0000\t\u00003\u0000\t\u00000\u0000\t\u00002\u0000\n",
      "\u0000\n",
      "\u00001\u0000\t\u00002\u00000\u00001\u00007\u0000-\u00000\u00001\u0000-\u00001\u00004\u0000\tо흷\u0000 �$묵�(짚\u0000\t\u00003\u00000\u0000:\u00001\u00003\u0000\t\u00008\u0000\t\u00004\u0000/\u00005\u0000\t\u00000\u0000/\u00002\u0000\t\u00000\u0000/\u00000\u0000\t\u00002\u0000\t\u00003\u0000\t\u00001\u0000\t\u00000\u0000\t\u00004\u0000\n",
      "\u0000\n",
      "\u00001\u0000\t\u00002\u00000\u00001\u00007\u0000-\u00000\u00001\u0000-\u00001\u00002\u0000\t�\u0004힙\u0000 \u0000K\u0000C\u0000C\u0000\t\u00002\u00004\u0000:\u00000\u00002\u0000\t\u00008\u0000\t\u00004\u0000/\u00006\u0000\t\u00000\u0000/\u00001\u0000\t\u00000\u0000/\u00000\u0000\t\u00002\u0000\t\u00001\u0000\t\u00000\u0000\t\u00000\u0000\t\u00000\u0000\n",
      "\u0000\n",
      "\u00001\u0000\t\u00002\u00000\u00001\u00007\u0000-\u00000\u00001\u0000-\u00001\u00000\u0000\t�\u001c",
      "틘\u0000 \u0000S\u0000K\u0000\t\u00002\u00008\u0000:\u00001\u00001\u0000\t\u00008\u0000\t\u00002\u0000/\u00006\u0000\t\u00000\u0000/\u00001\u0000\t\u00004\u0000/\u00006\u0000\t\u00002\u0000\t\u00008\u0000\t\u00000\u0000\t\u00001\u0000\t\u00002\u0000\n",
      "\u0000\n",
      "\u00001\u0000\t\u00002\u00000\u00001\u00007\u0000-\u00000\u00001\u0000-\u00000\u00007\u0000\t틘육\u0000 벰퐻짚\u0000\t\u00003\u00000\u0000:\u00001\u00006\u0000\t\u00002\u0000\t\u00000\u0000/\u00005\u0000\t\u00000\u0000/\u00000\u0000\t\u00002\u0000/\u00002\u0000\t\u00002\u0000\t\u00007\u0000\t\u00000\u0000\t\u00000\u0000\t\u00001\u0000\n",
      "\u0000\n",
      "\u00001\u0000\t\u00002\u00000\u00001\u00007\u0000-\u00000\u00001\u0000-\u00000\u00004\u0000\t�x��\u0000 �\u0004�맰쑕�\u0000\t\u00002\u00002\u0000:\u00000\u00006\u0000\t\u00006\u0000\t\u00001\u0000/\u00003\u0000\t\u00000\u0000/\u00001\u0000\t\u00004\u0000/\u00004\u0000\t\u00001\u0000\t\u00004\u0000\t\u00001\u0000\t\u00000\u0000\t\u00003\u0000\n",
      "\u0000\n",
      "\u00001\u0000\t\u00002\u00000\u00001\u00007\u0000-\u00000\u00001\u0000-\u00000\u00001\u0000\t�\u0004힙\u0000 \u0000K\u0000C\u0000C\u0000\t\u00002\u00006\u0000:\u00005\u00003\u0000\t\u00008\u0000\t\u00004\u0000/\u00004\u0000\t\u00000\u0000/\u00002\u0000\t\u00000\u0000/\u00000\u0000\t\u00000\u0000\t\u00006\u0000\t\u00000\u0000\t\u00000\u0000\t\u00000\u0000\n",
      "\u0000\n",
      "\u00001\u0000\t\u00002\u00000\u00001\u00006\u0000-\u00001\u00002\u0000-\u00003\u00000\u0000\t��육\u0000 \u0000K\u0000T\u0000\t\u00001\u00006\u0000:\u00002\u00003\u0000\t\u00000\u0000\t\u00000\u0000/\u00003\u0000\t\u00000\u0000/\u00000\u0000\t\u00000\u0000/\u00000\u0000\t\u00000\u0000\t\u00001\u0000\t\u00002\u0000\t\u00000\u0000\t\u00001\u0000\n",
      "\u0000\n",
      "\u00001\u0000\t\u00002\u00000\u00001\u00006\u0000-\u00001\u00002\u0000-\u00002\u00005\u0000\t�\u001c",
      "틘\u0000 \u0000S\u0000K\u0000\t\u00002\u00006\u0000:\u00001\u00002\u0000\t\u00001\u00000\u0000\t\u00004\u0000/\u00005\u0000\t\u00000\u0000/\u00001\u0000\t\u00002\u0000/\u00002\u0000\t\u00002\u0000\t\u00006\u0000\t\u00001\u0000\t\u00000\u0000\t\u00002\u0000\n",
      "\u0000\n",
      "\u00001\u0000\t\u00002\u00000\u00001\u00006\u0000-\u00001\u00002\u0000-\u00002\u00003\u0000\t휟흷\u0000 �x읊�塚�\u0000\t\u00002\u00006\u0000:\u00003\u00001\u0000\t\u00006\u0000\t\u00003\u0000/\u00007\u0000\t\u00000\u0000/\u00003\u0000\t\u00000\u0000/\u00000\u0000\t\u00001\u0000\t\u00001\u0000\t\u00000\u0000\t\u00001\u0000\t\u00001\u0000\n",
      "\u0000\n",
      "\u00001\u0000\t\u00002\u00000\u00001\u00006\u0000-\u00001\u00002\u0000-\u00002\u00001\u0000\tо흷\u0000 �$묵�(짚\u0000\t\u00003\u00000\u0000:\u00002\u00000\u0000\t\u00000\u0000\t\u00000\u0000/\u00002\u0000\t\u00000\u0000/\u00004\u0000\t\u00000\u0000/\u00000\u0000\t\u00002\u0000\t\u00007\u0000\t\u00001\u0000\t\u00000\u0000\t\u00003\u0000\n",
      "\u0000\n",
      "\u00001\u0000\t\u00002\u00000\u00001\u00006\u0000-\u00001\u00002\u0000-\u00001\u00008\u0000\t�=패\u0000 \u0000L\u0000G\u0000\t\u00002\u00005\u0000:\u00000\u00000\u0000\t\u00001\u00003\u0000\t\u00005\u0000/\u00008\u0000\t\u00001\u0000/\u00002\u0000\t\u00000\u0000/\u00001\u0000\t\u00003\u0000\t\u00004\u0000\t\u00004\u0000\t\u00000\u0000\t\u00004\u0000\n",
      "\u0000\n",
      "\u00001\u0000\t\u00002\u00000\u00001\u00006\u0000-\u00001\u00002\u0000-\u00001\u00006\u0000\t패힙\u0000 넨��\u0000\t\u00002\u00002\u0000:\u00002\u00003\u0000\t\u00006\u0000\t\u00001\u0000/\u00005\u0000\t\u00001\u0000/\u00001\u0000\t\u00001\u0000/\u00004\u0000\t\u00003\u0000\t\u00005\u0000\t\u00003\u0000\t\u00000\u0000\t\u00002\u0000\n",
      "\u0000\n",
      "\u00001\u0000\t\u00002\u00000\u00001\u00006\u0000-\u00001\u00002\u0000-\u00001\u00000\u0000\t��육\u0000 \u0000K\u0000T\u0000\t\u00002\u00008\u0000:\u00004\u00007\u0000\t\u00001\u00001\u0000\t\u00003\u0000/\u00006\u0000\t\u00000\u0000/\u00000\u0000\t\u00005\u0000/\u00005\u0000\t\u00008\u0000\t\u00007\u0000\t\u00000\u0000\t\u00001\u0000\t\u00001\u0000\n",
      "\u0000\n",
      "\u00001\u0000\t\u00002\u00000\u00001\u00006\u0000-\u00001\u00002\u0000-\u00000\u00004\u0000\tо흷\u0000 �$묵�(짚\u0000\t\u00002\u00005\u0000:\u00003\u00006\u0000\t\u00001\u00001\u0000\t\u00004\u0000/\u00008\u0000\t\u00000\u0000/\u00001\u0000\t\u00003\u0000/\u00004\u0000\t\u00003\u0000\t\u00002\u0000\t\u00001\u0000\t\u00000\u0000\t\u00001\u0000\n",
      "\u0000\n",
      "\u00001\u0000\t\u00002\u00000\u00001\u00006\u0000-\u00001\u00002\u0000-\u00000\u00003\u0000\t휟흷\u0000 �x읊�塚�\u0000\t\u00002\u00007\u0000:\u00001\u00000\u0000\t\u00001\u00000\u0000\t\u00003\u0000/\u00005\u0000\t\u00001\u0000/\u00001\u0000\t\u00001\u0000/\u00005\u0000\t\u00006\u0000\t\u00001\u00003\u0000\t\u00004\u0000\t\u00000\u0000\t\u00004\u0000\n",
      "\u0000\n",
      "\u00001\u0000\t\u00002\u00000\u00001\u00006\u0000-\u00001\u00002\u0000-\u00000\u00001\u0000\t패힙\u0000 넨��\u0000\t\u00002\u00005\u0000:\u00000\u00000\u0000\t\u00001\u00002\u0000\t\u00004\u0000/\u00008\u0000\t\u00000\u0000/\u00002\u0000\t\u00004\u0000/\u00004\u0000\t\u00002\u0000\t\u00007\u0000\t\u00000\u0000\t\u00000\u0000\t\u00003\u0000\n",
      "\u0000\n",
      "\u00001\u0000\t\u00002\u00000\u00001\u00006\u0000-\u00001\u00001\u0000-\u00002\u00006\u0000\t�x��\u0000 �\u0004�맰쑕�\u0000\t\u00002\u00000\u0000:\u00004\u00004\u0000\t\u00001\u00000\u0000\t\u00004\u0000/\u00007\u0000\t\u00000\u0000/\u00000\u0000\t\u00002\u0000/\u00002\u0000\t\u00004\u0000\t\u00005\u0000\t\u00001\u0000\t\u00000\u0000\t\u00002\u0000\n",
      "\u0000\n",
      "\u00001\u0000\t\u00002\u00000\u00001\u00006\u0000-\u00001\u00001\u0000-\u00002\u00003\u0000\t�\u001c",
      "틘\u0000 \u0000S\u0000K\u0000\t\u00003\u00001\u0000:\u00003\u00004\u0000\t\u00006\u0000\t\u00003\u0000/\u00005\u0000\t\u00000\u0000/\u00000\u0000\t\u00000\u0000/\u00000\u0000\t\u00003\u0000\t\u00001\u00002\u0000\t\u00002\u0000\t\u00000\u0000\t\u00001\u0000\n",
      "\u0000\n",
      "\u00001\u0000\t\u00002\u00000\u00001\u00006\u0000-\u00001\u00001\u0000-\u00002\u00000\u0000\t�=패\u0000 \u0000L\u0000G\u0000\t\u00002\u00000\u0000:\u00004\u00006\u0000\t\u00007\u0000\t\u00000\u0000/\u00002\u0000\t\u00001\u0000/\u00002\u0000\t\u00004\u0000/\u00006\u0000\t\u00001\u0000\t\u00004\u0000\t\u00000\u0000\t\u00000\u0000\t\u00002\u0000\n",
      "\u0000\n",
      "\u00001\u0000\t\u00002\u00000\u00001\u00006\u0000-\u00001\u00001\u0000-\u00001\u00009\u0000\t틘육\u0000 벰퐻짚\u0000\t\u00003\u00002\u0000:\u00003\u00002\u0000\t\u00007\u0000\t\u00002\u0000/\u00008\u0000\t\u00000\u0000/\u00001\u0000\t\u00003\u0000/\u00004\u0000\t\u00001\u0000\t\u00008\u0000\t\u00000\u0000\t\u00000\u0000\t\u00002\u0000\n",
      "\u0000\n",
      "\u00001\u0000\t\u00002\u00000\u00001\u00006\u0000-\u00001\u00001\u0000-\u00001\u00007\u0000\t�\u0004힙\u0000 \u0000K\u0000C\u0000C\u0000\t\u00002\u00005\u0000:\u00004\u00007\u0000\t\u00009\u0000\t\u00002\u0000/\u00005\u0000\t\u00001\u0000/\u00001\u0000\t\u00002\u0000/\u00002\u0000\t\u00002\u0000\t\u00004\u0000\t\u00001\u0000\t\u00000\u0000\t\u00001\u0000\n",
      "\u0000\n",
      "\u00001\u0000\t\u00002\u00000\u00001\u00006\u0000-\u00001\u00001\u0000-\u00001\u00003\u0000\t패힙\u0000 넨��\u0000\t\u00002\u00009\u0000:\u00002\u00005\u0000\t\u00001\u00003\u0000\t\u00003\u0000/\u00005\u0000\t\u00001\u0000/\u00003\u0000\t\u00004\u0000/\u00006\u0000\t\u00003\u0000\t\u00005\u0000\t\u00005\u0000\t\u00000\u0000\t\u00004\u0000\n",
      "\u0000\n",
      "\u00001\u0000\t\u00002\u00000\u00001\u00006\u0000-\u00001\u00001\u0000-\u00001\u00001\u0000\t�=패\u0000 \u0000L\u0000G\u0000\t\u00002\u00008\u0000:\u00001\u00008\u0000\t\u00001\u00006\u0000\t\u00004\u0000/\u00005\u0000\t\u00002\u0000/\u00002\u0000\t\u00002\u0000/\u00002\u0000\t\u00002\u0000\t\u00007\u0000\t\u00001\u0000\t\u00000\u0000\t\u00003\u0000\n",
      "\u0000\n",
      "\u00001\u0000\t\u00002\u00000\u00001\u00006\u0000-\u00001\u00001\u0000-\u00000\u00008\u0000\t�\u0004힙\u0000 \u0000K\u0000C\u0000C\u0000\t\u00002\u00004\u0000:\u00002\u00000\u0000\t\u00009\u0000\t\u00003\u0000/\u00005\u0000\t\u00001\u0000/\u00002\u0000\t\u00000\u0000/\u00000\u0000\t\u00002\u0000\t\u00004\u0000\t\u00001\u0000\t\u00000\u0000\t\u00000\u0000\n",
      "\u0000\n",
      "\u00001\u0000\t\u00002\u00000\u00001\u00006\u0000-\u00001\u00001\u0000-\u00000\u00006\u0000\t�\u001c",
      "틘\u0000 \u0000S\u0000K\u0000\t\u00002\u00008\u0000:\u00004\u00003\u0000\t\u00001\u00009\u0000\t\u00003\u0000/\u00007\u0000\t\u00002\u0000/\u00003\u0000\t\u00007\u0000/\u00008\u0000\t\u00003\u0000\t\u00005\u0000\t\u00000\u0000\t\u00000\u0000\t\u00002\u0000\n",
      "\u0000\n",
      "\u00001\u0000\t\u00002\u00000\u00001\u00006\u0000-\u00001\u00001\u0000-\u00000\u00004\u0000\t�x��\u0000 �\u0004�맰쑕�\u0000\t\u00003\u00001\u0000:\u00004\u00002\u0000\t\u00006\u0000\t\u00003\u0000/\u00005\u0000\t\u00000\u0000/\u00001\u0000\t\u00000\u0000/\u00000\u0000\t\u00003\u0000\t\u00005\u0000\t\u00001\u0000\t\u00000\u0000\t\u00004\u0000\n",
      "\u0000\n",
      "\u00001\u0000\t\u00002\u00000\u00001\u00006\u0000-\u00001\u00001\u0000-\u00000\u00002\u0000\tо흷\u0000 �$묵�(짚\u0000\t\u00003\u00002\u0000:\u00005\u00008\u0000\t\u00001\u00003\u0000\t\u00002\u0000/\u00006\u0000\t\u00001\u0000/\u00003\u0000\t\u00006\u0000/\u00006\u0000\t\u00005\u0000\t\u00008\u0000\t\u00002\u0000\t\u00001\u0000\t\u00001\u0000\n",
      "\u0000\n",
      "\u00001\u0000\t\u00002\u00000\u00001\u00006\u0000-\u00001\u00000\u0000-\u00002\u00009\u0000\t��육\u0000 \u0000K\u0000T\u0000\t\u00002\u00008\u0000:\u00003\u00008\u0000\t\u00002\u0000\t\u00000\u0000/\u00002\u0000\t\u00000\u0000/\u00000\u0000\t\u00002\u0000/\u00002\u0000\t\u00002\u0000\t\u00006\u0000\t\u00000\u0000\t\u00000\u0000\t\u00003\u0000\n",
      "\u0000\n",
      "\u00001\u0000\t\u00002\u00000\u00001\u00006\u0000-\u00001\u00000\u0000-\u00002\u00005\u0000\t휟흷\u0000 �x읊�塚�\u0000\t\u00002\u00003\u0000:\u00001\u00009\u0000\t\u00001\u00003\u0000\t\u00005\u0000/\u00006\u0000\t\u00000\u0000/\u00000\u0000\t\u00003\u0000/\u00005\u0000\t\u00002\u0000\t\u00009\u0000\t\u00003\u0000\t\u00000\u0000\t\u00002\u0000\n",
      "\u0000\n",
      "\u00001\u0000\t\u00002\u00000\u00001\u00006\u0000-\u00001\u00000\u0000-\u00002\u00003\u0000\t틘육\u0000 벰퐻짚\u0000\t\u00002\u00003\u0000:\u00000\u00001\u0000\t\u00001\u00000\u0000\t\u00005\u0000/\u00007\u0000\t\u00000\u0000/\u00000\u0000\t\u00000\u0000/\u00000\u0000\t\u00002\u0000\t\u00004\u0000\t\u00000\u0000\t\u00000\u0000\t\u00002\u0000\n",
      "\u0000\n",
      "\u00001\u00003\u0000\t\u00002\u00000\u00001\u00007\u0000-\u00000\u00002\u0000-\u00000\u00004\u0000\t��육\u0000 \u0000K\u0000T\u0000\t\u00003\u00008\u0000:\u00000\u00000\u0000\t\u00001\u00004\u0000\t\u00004\u0000/\u00008\u0000\t\u00002\u0000/\u00006\u0000\t\u00000\u0000/\u00001\u0000\t\u00002\u0000\t\u00004\u0000\t\u00000\u0000\t\u00000\u0000\t\u00000\u0000\n",
      "\u0000\n",
      "\u00001\u00003\u0000\t\u00002\u00000\u00001\u00007\u0000-\u00000\u00002\u0000-\u00000\u00002\u0000\t�x��\u0000 �\u0004�맰쑕�\u0000\t\u00003\u00004\u0000:\u00002\u00001\u0000\t\u00002\u00002\u0000\t\u00001\u0000/\u00003\u0000\t\u00006\u0000/\u00009\u0000\t\u00002\u0000/\u00002\u0000\t\u00003\u0000\t\u00003\u0000\t\u00001\u0000\t\u00001\u0000\t\u00000\u0000\n",
      "\u0000\n",
      "\u00001\u00003\u0000\t\u00002\u00000\u00001\u00007\u0000-\u00000\u00001\u0000-\u00003\u00000\u0000\t휟흷\u0000 �x읊�塚�\u0000\t\u00003\u00007\u0000:\u00001\u00007\u0000\t\u00009\u0000\t\u00003\u0000/\u00004\u0000\t\u00001\u0000/\u00007\u0000\t\u00000\u0000/\u00000\u0000\t\u00004\u0000\t\u00000\u0000\t\u00001\u0000\t\u00000\u0000\t\u00003\u0000\n",
      "\u0000\n",
      "\u00001\u00003\u0000\t\u00002\u00000\u00001\u00007\u0000-\u00000\u00001\u0000-\u00002\u00008\u0000\t패힙\u0000 넨��\u0000\t\u00002\u00007\u0000:\u00003\u00000\u0000\t\u00003\u0000\t\u00000\u0000/\u00000\u0000\t\u00001\u0000/\u00007\u0000\t\u00000\u0000/\u00000\u0000\t\u00001\u0000\t\u00000\u0000\t\u00000\u0000\t\u00000\u0000\t\u00006\u0000\n",
      "\u0000\n",
      "\u00001\u00003\u0000\t\u00002\u00000\u00001\u00007\u0000-\u00000\u00001\u0000-\u00002\u00005\u0000\t틘육\u0000 벰퐻짚\u0000\t\u00003\u00002\u0000:\u00005\u00000\u0000\t\u00001\u00003\u0000\t\u00003\u0000/\u00004\u0000\t\u00002\u0000/\u00006\u0000\t\u00001\u0000/\u00001\u0000\t\u00001\u0000\t\u00000\u0000\t\u00003\u0000\t\u00000\u0000\t\u00000\u0000\n",
      "\u0000\n",
      "\u00001\u00003\u0000\t\u00002\u00000\u00001\u00007\u0000-\u00000\u00001\u0000-\u00001\u00007\u0000\t�=패\u0000 \u0000L\u0000G\u0000\t\u00003\u00006\u0000:\u00001\u00001\u0000\t\u00001\u00002\u0000\t\u00000\u0000/\u00002\u0000\t\u00004\u0000/\u00009\u0000\t\u00000\u0000/\u00000\u0000\t\u00007\u0000\t\u00002\u0000\t\u00001\u0000\t\u00000\u0000\t\u00003\u0000\n",
      "\u0000\n",
      "\u00001\u00003\u0000\t\u00002\u00000\u00001\u00007\u0000-\u00000\u00001\u0000-\u00001\u00004\u0000\tо흷\u0000 �$묵�(짚\u0000\t\u00003\u00008\u0000:\u00004\u00005\u0000\t\u00002\u00001\u0000\t\u00002\u0000/\u00002\u0000\t\u00005\u0000/\u00008\u0000\t\u00002\u0000/\u00003\u0000\t\u00004\u0000\t\u00002\u0000\t\u00000\u0000\t\u00000\u0000\t\u00003\u0000\n",
      "\u0000\n",
      "\u00001\u00003\u0000\t\u00002\u00000\u00001\u00007\u0000-\u00000\u00001\u0000-\u00001\u00002\u0000\t�\u0004힙\u0000 \u0000K\u0000C\u0000C\u0000\t\u00003\u00000\u0000:\u00002\u00001\u0000\t\u00001\u00003\u0000\t\u00002\u0000/\u00004\u0000\t\u00002\u0000/\u00005\u0000\t\u00003\u0000/\u00005\u0000\t\u00003\u0000\t\u00001\u0000\t\u00001\u0000\t\u00000\u0000\t\u00000\u0000\n",
      "\u0000\n",
      "\u00001\u00003\u0000\t\u00002\u00000\u00001\u00007\u0000-\u00000\u00001\u0000-\u00001\u00000\u0000\t�\u001c",
      "틘\u0000 \u0000S\u0000K\u0000\t\u00003\u00003\u0000:\u00002\u00003\u0000\t\u00002\u00005\u0000\t\u00003\u0000/\u00006\u0000\t\u00006\u0000/\u00009\u0000\t\u00001\u0000/\u00002\u0000\t\u00001\u0000\t\u00000\u0000\t\u00003\u0000\t\u00001\u0000\t\u00001\u0000\n",
      "\u0000\n",
      "\u00001\u00003\u0000\t\u00002\u00000\u00001\u00007\u0000-\u00000\u00001\u0000-\u00000\u00007\u0000\t틘육\u0000 벰퐻짚\u0000\t\u00003\u00004\u0000:\u00005\u00002\u0000\t\u00001\u00000\u0000\t\u00003\u0000/\u00003\u0000\t\u00001\u0000/\u00002\u0000\t\u00001\u0000/\u00002\u0000\t\u00000\u0000\t\u00001\u0000\t\u00000\u0000\t\u00000\u0000\t\u00002\u0000\n",
      "\u0000\n",
      "\u00001\u00003\u0000\t\u00002\u00000\u00001\u00007\u0000-\u00000\u00001\u0000-\u00000\u00004\u0000\t�x��\u0000 �\u0004�맰쑕�\u0000\t\u00001\u00005\u0000:\u00002\u00001\u0000\t\u00004\u0000\t\u00002\u0000/\u00003\u0000\t\u00000\u0000/\u00001\u0000\t\u00000\u0000/\u00000\u0000\t\u00000\u0000\t\u00000\u0000\t\u00000\u0000\t\u00000\u0000\t\u00000\u0000\n",
      "\u0000\n",
      "\u00001\u00003\u0000\t\u00002\u00000\u00001\u00006\u0000-\u00001\u00002\u0000-\u00002\u00005\u0000\t�\u001c",
      "틘\u0000 \u0000S\u0000K\u0000\t\u00003\u00003\u0000:\u00000\u00008\u0000\t\u00004\u0000\t\u00002\u0000/\u00003\u0000\t\u00000\u0000/\u00006\u0000\t\u00000\u0000/\u00001\u0000\t\u00002\u0000\t\u00002\u0000\t\u00000\u0000\t\u00000\u0000\t\u00000\u0000\n",
      "\u0000\n",
      "\u00001\u00003\u0000\t\u00002\u00000\u00001\u00006\u0000-\u00001\u00002\u0000-\u00002\u00003\u0000\t휟흷\u0000 �x읊�塚�\u0000\t\u00003\u00001\u0000:\u00005\u00003\u0000\t\u00001\u00008\u0000\t\u00000\u0000/\u00004\u0000\t\u00005\u0000/\u00009\u0000\t\u00003\u0000/\u00004\u0000\t\u00003\u0000\t\u00001\u0000\t\u00000\u0000\t\u00000\u0000\t\u00001\u0000\n",
      "\u0000\n",
      "\u00001\u00003\u0000\t\u00002\u00000\u00001\u00006\u0000-\u00001\u00002\u0000-\u00002\u00001\u0000\tо흷\u0000 �$묵�(짚\u0000\t\u00003\u00002\u0000:\u00001\u00007\u0000\t\u00009\u0000\t\u00000\u0000/\u00000\u0000\t\u00003\u0000/\u00001\u00000\u0000\t\u00000\u0000/\u00000\u0000\t\u00008\u0000\t\u00001\u0000\t\u00000\u0000\t\u00000\u0000\t\u00001\u0000\n",
      "\u0000\n",
      "\u00001\u00003\u0000\t\u00002\u00000\u00001\u00006\u0000-\u00001\u00002\u0000-\u00001\u00008\u0000\t�=패\u0000 \u0000L\u0000G\u0000\t\u00003\u00002\u0000:\u00002\u00003\u0000\t\u00006\u0000\t\u00000\u0000/\u00001\u0000\t\u00002\u0000/\u00007\u0000\t\u00000\u0000/\u00000\u0000\t\u00004\u0000\t\u00004\u0000\t\u00003\u0000\t\u00001\u0000\t\u00002\u0000\n",
      "\u0000\n",
      "\u00001\u00003\u0000\t\u00002\u00000\u00001\u00006\u0000-\u00001\u00002\u0000-\u00001\u00006\u0000\t패힙\u0000 넨��\u0000\t\u00003\u00002\u0000:\u00005\u00003\u0000\t\u00002\u00003\u0000\t\u00002\u0000/\u00004\u0000\t\u00005\u0000/\u00005\u0000\t\u00004\u0000/\u00004\u0000\t\u00002\u0000\t\u00003\u0000\t\u00000\u0000\t\u00000\u0000\t\u00001\u0000\n",
      "\u0000\n",
      "\u00001\u00003\u0000\t\u00002\u00000\u00001\u00006\u0000-\u00001\u00002\u0000-\u00001\u00000\u0000\t��육\u0000 \u0000K\u0000T\u0000\t\u00002\u00008\u0000:\u00002\u00003\u0000\t\u00007\u0000\t\u00001\u0000/\u00003\u0000\t\u00001\u0000/\u00006\u0000\t\u00002\u0000/\u00002\u0000\t\u00006\u0000\t\u00000\u0000\t\u00001\u0000\t\u00000\u0000\t\u00000\u0000\n",
      "\u0000\n",
      "\u00001\u00003\u0000\t\u00002\u00000\u00001\u00006\u0000-\u00001\u00002\u0000-\u00000\u00004\u0000\tо흷\u0000 �$묵�(짚\u0000\t\u00003\u00002\u0000:\u00001\u00000\u0000\t\u00001\u00006\u0000\t\u00001\u0000/\u00002\u0000\t\u00004\u0000/\u00008\u0000\t\u00002\u0000/\u00005\u0000\t\u00003\u0000\t\u00000\u0000\t\u00000\u0000\t\u00000\u0000\t\u00000\u0000\n",
      "\u0000\n",
      "\u00001\u00003\u0000\t\u00002\u00000\u00001\u00006\u0000-\u00001\u00002\u0000-\u00000\u00003\u0000\t휟흷\u0000 �x읊�塚�\u0000\t\u00003\u00004\u0000:\u00004\u00004\u0000\t\u00001\u00003\u0000\t\u00002\u0000/\u00003\u0000\t\u00003\u0000/\u00007\u0000\t\u00000\u0000/\u00000\u0000\t\u00004\u0000\t\u00005\u0000\t\u00001\u0000\t\u00001\u0000\t\u00000\u0000\n",
      "\u0000\n",
      "\u00001\u00003\u0000\t\u00002\u00000\u00001\u00006\u0000-\u00001\u00002\u0000-\u00000\u00001\u0000\t패힙\u0000 넨��\u0000\t\u00002\u00009\u0000:\u00001\u00000\u0000\t\u00009\u0000\t\u00000\u0000/\u00001\u0000\t\u00003\u0000/\u00006\u0000\t\u00000\u0000/\u00000\u0000\t\u00002\u0000\t\u00000\u0000\t\u00000\u0000\t\u00000\u0000\t\u00002\u0000\n",
      "\u0000\n",
      "\u00001\u00003\u0000\t\u00002\u00000\u00001\u00006\u0000-\u00001\u00001\u0000-\u00002\u00006\u0000\t�x��\u0000 �\u0004�맰쑕�\u0000\t\u00003\u00001\u0000:\u00001\u00000\u0000\t\u00001\u00004\u0000\t\u00003\u0000/\u00003\u0000\t\u00001\u0000/\u00003\u0000\t\u00005\u0000/\u00006\u0000\t\u00000\u0000\t\u00002\u0000\t\u00000\u0000\t\u00001\u0000\t\u00001\u0000\n",
      "\u0000\n",
      "\u00001\u00003\u0000\t\u00002\u00000\u00001\u00006\u0000-\u00001\u00001\u0000-\u00002\u00003\u0000\t�\u001c",
      "틘\u0000 \u0000S\u0000K\u0000\t\u00003\u00005\u0000:\u00000\u00004\u0000\t\u00009\u0000\t\u00000\u0000/\u00005\u0000\t\u00003\u0000/\u00008\u0000\t\u00000\u0000/\u00000\u0000\t\u00002\u0000\t\u00000\u0000\t\u00000\u0000\t\u00001\u0000\t\u00001\u0000\n",
      "\u0000\n",
      "\u00001\u00003\u0000\t\u00002\u00000\u00001\u00006\u0000-\u00001\u00001\u0000-\u00002\u00000\u0000\t�=패\u0000 \u0000L\u0000G\u0000\t\u00003\u00003\u0000:\u00000\u00001\u0000\t\u00001\u00005\u0000\t\u00000\u0000/\u00001\u0000\t\u00005\u0000/\u00007\u0000\t\u00000\u0000/\u00000\u0000\t\u00002\u0000\t\u00001\u0000\t\u00001\u0000\t\u00000\u0000\t\u00001\u0000\n",
      "\u0000\n",
      "\u00001\u00003\u0000\t\u00002\u00000\u00001\u00006\u0000-\u00001\u00001\u0000-\u00001\u00009\u0000\t틘육\u0000 벰퐻짚\u0000\t\u00003\u00006\u0000:\u00001\u00004\u0000\t\u00002\u00004\u0000\t\u00003\u0000/\u00004\u0000\t\u00006\u0000/\u00001\u00001\u0000\t\u00000\u0000/\u00000\u0000\t\u00002\u0000\t\u00000\u0000\t\u00000\u0000\t\u00000\u0000\t\u00000\u0000\n",
      "\u0000\n",
      "\u00001\u00003\u0000\t\u00002\u00000\u00001\u00006\u0000-\u00001\u00001\u0000-\u00001\u00007\u0000\t�\u0004힙\u0000 \u0000K\u0000C\u0000C\u0000\t\u00001\u00006\u0000:\u00004\u00002\u0000\t\u00001\u0000\t\u00000\u0000/\u00000\u0000\t\u00000\u0000/\u00001\u0000\t\u00001\u0000/\u00002\u0000\t\u00001\u0000\t\u00000\u0000\t\u00001\u0000\t\u00000\u0000\t\u00001\u0000\n",
      "\u0000\n",
      "\u00001\u00003\u0000\t\u00002\u00000\u00001\u00006\u0000-\u00001\u00001\u0000-\u00001\u00003\u0000\t패힙\u0000 넨��\u0000\t\u00002\u00007\u0000:\u00002\u00007\u0000\t\u00006\u0000\t\u00002\u0000/\u00003\u0000\t\u00000\u0000/\u00003\u0000\t\u00002\u0000/\u00002\u0000\t\u00002\u0000\t\u00000\u0000\t\u00000\u0000\t\u00000\u0000\t\u00001\u0000\n",
      "\u0000\n",
      "\u00001\u00003\u0000\t\u00002\u00000\u00001\u00006\u0000-\u00001\u00001\u0000-\u00001\u00001\u0000\t�=패\u0000 \u0000L\u0000G\u0000\t\u00001\u00009\u0000:\u00005\u00003\u0000\t\u00003\u0000\t\u00000\u0000/\u00002\u0000\t\u00001\u0000/\u00005\u0000\t\u00000\u0000/\u00000\u0000\t\u00001\u0000\t\u00001\u0000\t\u00000\u0000\t\u00000\u0000\t\u00000\u0000\n",
      "\u0000\n",
      "\u00001\u00003\u0000\t\u00002\u00000\u00001\u00006\u0000-\u00001\u00001\u0000-\u00000\u00004\u0000\t�x��\u0000 �\u0004�맰쑕�\u0000\t\u00001\u0000:\u00005\u00008\u0000\t\u00000\u0000\t\u00000\u0000/\u00001\u0000\t\u00000\u0000/\u00000\u0000\t\u00000\u0000/\u00000\u0000\t\u00000\u0000\t\u00000\u0000\t\u00000\u0000\t\u00000\u0000\t\u00000\u0000\n",
      "\u0000\n",
      "\u00001\u00003\u0000\t\u00002\u00000\u00001\u00006\u0000-\u00001\u00001\u0000-\u00000\u00002\u0000\tо흷\u0000 �$묵�(짚\u0000\t\u00004\u00004\u0000:\u00003\u00003\u0000\t\u00001\u00000\u0000\t\u00001\u0000/\u00004\u0000\t\u00001\u0000/\u00005\u0000\t\u00005\u0000/\u00006\u0000\t\u00004\u0000\t\u00006\u0000\t\u00001\u0000\t\u00000\u0000\t\u00001\u0000\n",
      "\u0000\n",
      "\u00001\u00003\u0000\t\u00002\u00000\u00001\u00006\u0000-\u00001\u00000\u0000-\u00002\u00009\u0000\t��육\u0000 \u0000K\u0000T\u0000\t\u00002\u00004\u0000:\u00004\u00008\u0000\t\u00007\u0000\t\u00001\u0000/\u00001\u0000\t\u00001\u0000/\u00006\u0000\t\u00002\u0000/\u00002\u0000\t\u00002\u0000\t\u00001\u0000\t\u00000\u0000\t\u00000\u0000\t\u00001\u0000\n",
      "\u0000\n",
      "\u00001\u00003\u0000\t\u00002\u00000\u00001\u00006\u0000-\u00001\u00000\u0000-\u00002\u00005\u0000\t휟흷\u0000 �x읊�塚�\u0000\t\u00002\u00002\u0000:\u00000\u00001\u0000\t\u00007\u0000\t\u00002\u0000/\u00004\u0000\t\u00001\u0000/\u00004\u0000\t\u00000\u0000/\u00000\u0000\t\u00001\u0000\t\u00002\u0000\t\u00001\u0000\t\u00000\u0000\t\u00003\u0000\n",
      "\u0000\n",
      "\u00001\u00003\u0000\t\u00002\u00000\u00001\u00006\u0000-\u00001\u00000\u0000-\u00002\u00003\u0000\t틘육\u0000 벰퐻짚\u0000\t\u00002\u00009\u0000:\u00002\u00002\u0000\t\u00001\u00000\u0000\t\u00001\u0000/\u00005\u0000\t\u00002\u0000/\u00005\u0000\t\u00002\u0000/\u00002\u0000\t\u00004\u0000\t\u00001\u0000\t\u00001\u0000\t\u00000\u0000\t\u00003\u0000\n",
      "\u0000\n",
      "\u00001\u00005\u0000\t\u00002\u00000\u00001\u00007\u0000-\u00000\u00002\u0000-\u00000\u00004\u0000\t��육\u0000 \u0000K\u0000T\u0000\t\u00002\u00006\u0000:\u00003\u00005\u0000\t\u00001\u00005\u0000\t\u00006\u0000/\u00001\u00000\u0000\t\u00001\u0000/\u00003\u0000\t\u00000\u0000/\u00001\u0000\t\u00002\u0000\t\u00002\u0000\t\u00001\u0000\t\u00000\u0000\t\u00001\u0000\n",
      "\u0000\n",
      "\u00001\u00005\u0000\t\u00002\u00000\u00001\u00007\u0000-\u00000\u00002\u0000-\u00000\u00002\u0000\t�x��\u0000 �\u0004�맰쑕�\u0000\t\u00003\u00000\u0000:\u00003\u00000\u0000\t\u00007\u0000\t\u00002\u0000/\u00005\u0000\t\u00000\u0000/\u00000\u0000\t\u00003\u0000/\u00004\u0000\t\u00003\u0000\t\u00002\u0000\t\u00000\u0000\t\u00001\u0000\t\u00003\u0000\n",
      "\u0000\n",
      "\u00001\u00005\u0000\t\u00002\u00000\u00001\u00007\u0000-\u00000\u00001\u0000-\u00003\u00000\u0000\t휟흷\u0000 �x읊�塚�\u0000\t\u00003\u00001\u0000:\u00000\u00009\u0000\t\u00001\u00000\u0000\t\u00005\u0000/\u00007\u0000\t\u00000\u0000/\u00003\u0000\t\u00000\u0000/\u00000\u0000\t\u00006\u0000\t\u00002\u0000\t\u00000\u0000\t\u00000\u0000\t\u00002\u0000\n",
      "\u0000\n",
      "\u00001\u00005\u0000\t\u00002\u00000\u00001\u00007\u0000-\u00000\u00001\u0000-\u00002\u00008\u0000\t패힙\u0000 넨��\u0000\t\u00002\u00007\u0000:\u00004\u00009\u0000\t\u00002\u00000\u0000\t\u00007\u0000/\u00009\u0000\t\u00001\u0000/\u00002\u0000\t\u00003\u0000/\u00004\u0000\t\u00003\u0000\t\u00000\u0000\t\u00002\u0000\t\u00000\u0000\t\u00001\u0000\n",
      "\u0000\n",
      "\u00001\u00005\u0000\t\u00002\u00000\u00001\u00007\u0000-\u00000\u00001\u0000-\u00002\u00005\u0000\t틘육\u0000 벰퐻짚\u0000\t\u00003\u00001\u0000:\u00002\u00002\u0000\t\u00001\u00000\u0000\t\u00001\u0000/\u00005\u0000\t\u00001\u0000/\u00003\u0000\t\u00005\u0000/\u00008\u0000\t\u00002\u0000\t\u00001\u0000\t\u00002\u0000\t\u00000\u0000\t\u00000\u0000\n",
      "\u0000\n",
      "\u00001\u00005\u0000\t\u00002\u00000\u00001\u00007\u0000-\u00000\u00001\u0000-\u00001\u00002\u0000\t�\u0004힙\u0000 \u0000K\u0000C\u0000C\u0000\t\u00003\u00000\u0000:\u00001\u00002\u0000\t\u00001\u00001\u0000\t\u00004\u0000/\u00006\u0000\t\u00000\u0000/\u00001\u0000\t\u00003\u0000/\u00003\u0000\t\u00005\u0000\t\u00002\u0000\t\u00000\u0000\t\u00000\u0000\t\u00000\u0000\n",
      "\u0000\n",
      "\u00001\u00005\u0000\t\u00002\u00000\u00001\u00007\u0000-\u00000\u00001\u0000-\u00001\u00000\u0000\t�\u001c",
      "틘\u0000 \u0000S\u0000K\u0000\t\u00003\u00003\u0000:\u00000\u00005\u0000\t\u00009\u0000\t\u00003\u0000/\u00009\u0000\t\u00001\u0000/\u00004\u0000\t\u00000\u0000/\u00000\u0000\t\u00005\u0000\t\u00002\u0000\t\u00003\u0000\t\u00000\u0000\t\u00001\u0000\n",
      "\u0000\n",
      "\u00001\u00005\u0000\t\u00002\u00000\u00001\u00007\u0000-\u00000\u00001\u0000-\u00000\u00007\u0000\t틘육\u0000 벰퐻짚\u0000\t\u00002\u00008\u0000:\u00004\u00007\u0000\t\u00001\u00002\u0000\t\u00005\u0000/\u00008\u0000\t\u00000\u0000/\u00002\u0000\t\u00002\u0000/\u00003\u0000\t\u00003\u0000\t\u00001\u0000\t\u00001\u0000\t\u00000\u0000\t\u00003\u0000\n",
      "\u0000\n",
      "\u00001\u00005\u0000\t\u00002\u00000\u00001\u00007\u0000-\u00000\u00001\u0000-\u00000\u00004\u0000\t�x��\u0000 �\u0004�맰쑕�\u0000\t\u00003\u00004\u0000:\u00002\u00008\u0000\t\u00001\u00005\u0000\t\u00004\u0000/\u00007\u0000\t\u00002\u0000/\u00005\u0000\t\u00001\u0000/\u00002\u0000\t\u00003\u0000\t\u00001\u0000\t\u00002\u0000\t\u00000\u0000\t\u00002\u0000\n",
      "\u0000\n",
      "\u00001\u00005\u0000\t\u00002\u00000\u00001\u00007\u0000-\u00000\u00001\u0000-\u00000\u00001\u0000\t�\u0004힙\u0000 \u0000K\u0000C\u0000C\u0000\t\u00002\u00008\u0000:\u00001\u00002\u0000\t\u00001\u00008\u0000\t\u00006\u0000/\u00009\u0000\t\u00001\u0000/\u00002\u0000\t\u00003\u0000/\u00004\u0000\t\u00004\u0000\t\u00002\u0000\t\u00001\u0000\t\u00002\u0000\t\u00002\u0000\n",
      "\u0000\n",
      "\u00001\u00005\u0000\t\u00002\u00000\u00001\u00006\u0000-\u00001\u00002\u0000-\u00003\u00000\u0000\t��육\u0000 \u0000K\u0000T\u0000\t\u00001\u00008\u0000:\u00005\u00000\u0000\t\u00001\u00003\u0000\t\u00002\u0000/\u00006\u0000\t\u00003\u0000/\u00003\u0000\t\u00000\u0000/\u00000\u0000\t\u00002\u0000\t\u00001\u0000\t\u00002\u0000\t\u00000\u0000\t\u00001\u0000\n",
      "\u0000\n",
      "\u00001\u00005\u0000\t\u00002\u00000\u00001\u00006\u0000-\u00001\u00002\u0000-\u00002\u00005\u0000\t�\u001c",
      "틘\u0000 \u0000S\u0000K\u0000\t\u00003\u00003\u0000:\u00005\u00003\u0000\t\u00001\u00000\u0000\t\u00005\u0000/\u00009\u0000\t\u00000\u0000/\u00000\u0000\t\u00000\u0000/\u00000\u0000\t\u00003\u0000\t\u00002\u0000\t\u00002\u0000\t\u00000\u0000\t\u00000\u0000\n",
      "\u0000\n",
      "\u00001\u00005\u0000\t\u00002\u00000\u00001\u00006\u0000-\u00001\u00002\u0000-\u00002\u00003\u0000\t휟흷\u0000 �x읊�塚�\u0000\t\u00003\u00002\u0000:\u00002\u00004\u0000\t\u00001\u00003\u0000\t\u00004\u0000/\u00001\u00002\u0000\t\u00001\u0000/\u00001\u0000\t\u00002\u0000/\u00002\u0000\t\u00007\u0000\t\u00002\u0000\t\u00001\u0000\t\u00000\u0000\t\u00002\u0000\n",
      "\u0000\n",
      "\u00001\u00005\u0000\t\u00002\u00000\u00001\u00006\u0000-\u00001\u00002\u0000-\u00002\u00001\u0000\tо흷\u0000 �$묵�(짚\u0000\t\u00003\u00007\u0000:\u00000\u00002\u0000\t\u00001\u00001\u0000\t\u00004\u0000/\u00009\u0000\t\u00001\u0000/\u00002\u0000\t\u00000\u0000/\u00000\u0000\t\u00004\u0000\t\u00003\u0000\t\u00001\u0000\t\u00001\u0000\t\u00001\u0000\n",
      "\u0000\n",
      "\u00001\u00005\u0000\t\u00002\u00000\u00001\u00006\u0000-\u00001\u00002\u0000-\u00001\u00008\u0000\t�=패\u0000 \u0000L\u0000G\u0000\t\u00002\u00002\u0000:\u00005\u00002\u0000\t\u00001\u00001\u0000\t\u00002\u0000/\u00006\u0000\t\u00002\u0000/\u00003\u0000\t\u00001\u0000/\u00002\u0000\t\u00001\u0000\t\u00000\u0000\t\u00000\u0000\t\u00000\u0000\t\u00000\u0000\n",
      "\u0000\n",
      "\u00001\u00005\u0000\t\u00002\u00000\u00001\u00006\u0000-\u00001\u00002\u0000-\u00001\u00006\u0000\t패힙\u0000 넨��\u0000\t\u00002\u00007\u0000:\u00000\u00005\u0000\t\u00005\u0000\t\u00002\u0000/\u00005\u0000\t\u00000\u0000/\u00002\u0000\t\u00001\u0000/\u00002\u0000\t\u00002\u0000\t\u00001\u0000\t\u00001\u0000\t\u00000\u0000\t\u00002\u0000\n",
      "\u0000\n",
      "\u00001\u00005\u0000\t\u00002\u00000\u00001\u00006\u0000-\u00001\u00002\u0000-\u00001\u00000\u0000\t��육\u0000 \u0000K\u0000T\u0000\t\u00002\u00009\u0000:\u00005\u00004\u0000\t\u00001\u00008\u0000\t\u00005\u0000/\u00007\u0000\t\u00002\u0000/\u00003\u0000\t\u00002\u0000/\u00004\u0000\t\u00003\u0000\t\u00000\u0000\t\u00000\u0000\t\u00002\u0000\t\u00000\u0000\n",
      "\u0000\n",
      "\u00001\u00005\u0000\t\u00002\u00000\u00001\u00006\u0000-\u00001\u00002\u0000-\u00000\u00004\u0000\tо흷\u0000 �$묵�(짚\u0000\t\u00002\u00009\u0000:\u00002\u00007\u0000\t\u00007\u0000\t\u00002\u0000/\u00004\u0000\t\u00001\u0000/\u00001\u0000\t\u00000\u0000/\u00000\u0000\t\u00001\u0000\t\u00000\u0000\t\u00003\u0000\t\u00000\u0000\t\u00001\u0000\n",
      "\u0000\n",
      "\u00001\u00005\u0000\t\u00002\u00000\u00001\u00006\u0000-\u00001\u00002\u0000-\u00000\u00003\u0000\t휟흷\u0000 �x읊�塚�\u0000\t\u00003\u00003\u0000:\u00005\u00005\u0000\t\u00009\u0000\t\u00003\u0000/\u00008\u0000\t\u00001\u0000/\u00003\u0000\t\u00000\u0000/\u00002\u0000\t\u00004\u0000\t\u00003\u0000\t\u00002\u0000\t\u00000\u0000\t\u00002\u0000\n",
      "\u0000\n",
      "\u00001\u00005\u0000\t\u00002\u00000\u00001\u00006\u0000-\u00001\u00002\u0000-\u00000\u00001\u0000\t패힙\u0000 넨��\u0000\t\u00002\u00003\u0000:\u00000\u00007\u0000\t\u00001\u00001\u0000\t\u00005\u0000/\u00006\u0000\t\u00000\u0000/\u00000\u0000\t\u00001\u0000/\u00002\u0000\t\u00005\u0000\t\u00004\u0000\t\u00000\u0000\t\u00001\u0000\t\u00001\u0000\n",
      "\u0000\n",
      "\u00001\u00005\u0000\t\u00002\u00000\u00001\u00006\u0000-\u00001\u00001\u0000-\u00002\u00006\u0000\t�x��\u0000 �\u0004�맰쑕�\u0000\t\u00002\u00009\u0000:\u00004\u00005\u0000\t\u00001\u00004\u0000\t\u00004\u0000/\u00005\u0000\t\u00002\u0000/\u00003\u0000\t\u00000\u0000/\u00000\u0000\t\u00006\u0000\t\u00000\u0000\t\u00002\u0000\t\u00000\u0000\t\u00005\u0000\n",
      "\u0000\n",
      "\u00001\u00005\u0000\t\u00002\u00000\u00001\u00006\u0000-\u00001\u00001\u0000-\u00002\u00003\u0000\t�\u001c",
      "틘\u0000 \u0000S\u0000K\u0000\t\u00002\u00008\u0000:\u00001\u00000\u0000\t\u00001\u00006\u0000\t\u00006\u0000/\u00001\u00001\u0000\t\u00000\u0000/\u00002\u0000\t\u00004\u0000/\u00007\u0000\t\u00007\u0000\t\u00003\u0000\t\u00001\u0000\t\u00002\u0000\t\u00003\u0000\n",
      "\u0000\n",
      "\u00001\u00005\u0000\t\u00002\u00000\u00001\u00006\u0000-\u00001\u00001\u0000-\u00002\u00000\u0000\t�=패\u0000 \u0000L\u0000G\u0000\t\u00002\u00004\u0000:\u00001\u00003\u0000\t\u00009\u0000\t\u00003\u0000/\u00004\u0000\t\u00001\u0000/\u00002\u0000\t\u00000\u0000/\u00000\u0000\t\u00001\u0000\t\u00005\u0000\t\u00000\u0000\t\u00000\u0000\t\u00000\u0000\n",
      "\u0000\n",
      "\u00001\u00005\u0000\t\u00002\u00000\u00001\u00006\u0000-\u00001\u00001\u0000-\u00001\u00009\u0000\t틘육\u0000 벰퐻짚\u0000\t\u00003\u00002\u0000:\u00004\u00005\u0000\t\u00006\u0000\t\u00002\u0000/\u00007\u0000\t\u00000\u0000/\u00003\u0000\t\u00002\u0000/\u00002\u0000\t\u00007\u0000\t\u00000\u0000\t\u00001\u0000\t\u00001\u0000\t\u00003\u0000\n",
      "\u0000\n",
      "\u00001\u00005\u0000\t\u00002\u00000\u00001\u00006\u0000-\u00001\u00001\u0000-\u00001\u00007\u0000\t�\u0004힙\u0000 \u0000K\u0000C\u0000C\u0000\t\u00003\u00001\u0000:\u00004\u00003\u0000\t\u00001\u00000\u0000\t\u00005\u0000/\u00001\u00000\u0000\t\u00000\u0000/\u00000\u0000\t\u00000\u0000/\u00000\u0000\t\u00007\u0000\t\u00001\u0000\t\u00000\u0000\t\u00000\u0000\t\u00001\u0000\n",
      "\u0000\n",
      "\u00001\u00005\u0000\t\u00002\u00000\u00001\u00006\u0000-\u00001\u00001\u0000-\u00001\u00003\u0000\t패힙\u0000 넨��\u0000\t\u00003\u00001\u0000:\u00004\u00001\u0000\t\u00001\u00003\u0000\t\u00006\u0000/\u00009\u0000\t\u00000\u0000/\u00001\u0000\t\u00001\u0000/\u00002\u0000\t\u00008\u0000\t\u00000\u0000\t\u00001\u0000\t\u00000\u0000\t\u00001\u0000\n",
      "\u0000\n",
      "\u00001\u00005\u0000\t\u00002\u00000\u00001\u00006\u0000-\u00001\u00001\u0000-\u00001\u00001\u0000\t�=패\u0000 \u0000L\u0000G\u0000\t\u00003\u00000\u0000:\u00002\u00003\u0000\t\u00001\u00002\u0000\t\u00001\u0000/\u00005\u0000\t\u00003\u0000/\u00005\u0000\t\u00001\u0000/\u00004\u0000\t\u00007\u0000\t\u00000\u0000\t\u00001\u0000\t\u00001\u0000\t\u00001\u0000\n",
      "\u0000\n",
      "\u00001\u00005\u0000\t\u00002\u00000\u00001\u00006\u0000-\u00001\u00001\u0000-\u00000\u00008\u0000\t�\u0004힙\u0000 \u0000K\u0000C\u0000C\u0000\t\u00002\u00003\u0000:\u00005\u00002\u0000\t\u00001\u00005\u0000\t\u00003\u0000/\u00004\u0000\t\u00003\u0000/\u00003\u0000\t\u00000\u0000/\u00000\u0000\t\u00004\u0000\t\u00001\u0000\t\u00000\u0000\t\u00001\u0000\t\u00000\u0000\n",
      "\u0000\n",
      "\u00001\u00005\u0000\t\u00002\u00000\u00001\u00006\u0000-\u00001\u00001\u0000-\u00000\u00006\u0000\t�\u001c",
      "틘\u0000 \u0000S\u0000K\u0000\t\u00003\u00004\u0000:\u00003\u00004\u0000\t\u00002\u00003\u0000\t\u00006\u0000/\u00008\u0000\t\u00003\u0000/\u00006\u0000\t\u00002\u0000/\u00002\u0000\t\u00004\u0000\t\u00002\u0000\t\u00001\u0000\t\u00000\u0000\t\u00001\u0000\n",
      "\u0000\n",
      "\u00001\u00005\u0000\t\u00002\u00000\u00001\u00006\u0000-\u00001\u00001\u0000-\u00000\u00004\u0000\t�x��\u0000 �\u0004�맰쑕�\u0000\t\u00003\u00005\u0000:\u00003\u00001\u0000\t\u00007\u0000\t\u00002\u0000/\u00009\u0000\t\u00000\u0000/\u00003\u0000\t\u00003\u0000/\u00004\u0000\t\u00007\u0000\t\u00006\u0000\t\u00001\u0000\t\u00001\u0000\t\u00002\u0000\n",
      "\u0000\n",
      "\u00001\u00005\u0000\t\u00002\u00000\u00001\u00006\u0000-\u00001\u00001\u0000-\u00000\u00002\u0000\tо흷\u0000 �$묵�(짚\u0000\t\u00004\u00003\u0000:\u00000\u00002\u0000\t\u00002\u00001\u0000\t\u00003\u0000/\u00008\u0000\t\u00004\u0000/\u00007\u0000\t\u00003\u0000/\u00003\u0000\t\u00007\u0000\t\u00002\u0000\t\u00001\u0000\t\u00000\u0000\t\u00004\u0000\n",
      "\u0000\n",
      "\u00001\u00005\u0000\t\u00002\u00000\u00001\u00006\u0000-\u00001\u00000\u0000-\u00002\u00009\u0000\t��육\u0000 \u0000K\u0000T\u0000\t\u00003\u00005\u0000:\u00002\u00005\u0000\t\u00001\u00007\u0000\t\u00005\u0000/\u00001\u00003\u0000\t\u00002\u0000/\u00006\u0000\t\u00001\u0000/\u00002\u0000\t\u00007\u0000\t\u00003\u0000\t\u00000\u0000\t\u00000\u0000\t\u00000\u0000\n",
      "\u0000\n",
      "\u00001\u00005\u0000\t\u00002\u00000\u00001\u00006\u0000-\u00001\u00000\u0000-\u00002\u00005\u0000\t휟흷\u0000 �x읊�塚�\u0000\t\u00003\u00000\u0000:\u00004\u00002\u0000\t\u00001\u00002\u0000\t\u00005\u0000/\u00007\u0000\t\u00000\u0000/\u00002\u0000\t\u00002\u0000/\u00002\u0000\t\u00005\u0000\t\u00003\u0000\t\u00004\u0000\t\u00000\u0000\t\u00002\u0000\n",
      "\u0000\n",
      "\u00001\u00005\u0000\t\u00002\u00000\u00001\u00006\u0000-\u00001\u00000\u0000-\u00002\u00003\u0000\t틘육\u0000 벰퐻짚\u0000\t\u00002\u00005\u0000:\u00003\u00003\u0000\t\u00001\u00001\u0000\t\u00004\u0000/\u00009\u0000\t\u00001\u0000/\u00001\u0000\t\u00000\u0000/\u00000\u0000\t\u00003\u0000\t\u00002\u0000\t\u00001\u0000\t\u00000\u0000\t\u00002\u0000\n",
      "\u0000\n",
      "\u00001\u00006\u0000\t\u00002\u00000\u00001\u00007\u0000-\u00000\u00001\u0000-\u00000\u00001\u0000\t�\u0004힙\u0000 \u0000K\u0000C\u0000C\u0000\t\u00005\u0000:\u00000\u00008\u0000\t\u00000\u0000\t\u00000\u0000/\u00000\u0000\t\u00000\u0000/\u00000\u0000\t\u00000\u0000/\u00000\u0000\t\u00000\u0000\t\u00000\u0000\t\u00000\u0000\t\u00000\u0000\t\u00001\u0000\n",
      "\u0000\n",
      "\u00001\u00006\u0000\t\u00002\u00000\u00001\u00006\u0000-\u00001\u00002\u0000-\u00003\u00000\u0000\t��육\u0000 \u0000K\u0000T\u0000\t\u00005\u0000:\u00000\u00006\u0000\t\u00003\u0000\t\u00000\u0000/\u00001\u0000\t\u00001\u0000/\u00001\u0000\t\u00000\u0000/\u00002\u0000\t\u00000\u0000\t\u00000\u0000\t\u00000\u0000\t\u00000\u0000\t\u00000\u0000\n",
      "\u0000\n",
      "\u00001\u00006\u0000\t\u00002\u00000\u00001\u00006\u0000-\u00001\u00002\u0000-\u00001\u00000\u0000\t��육\u0000 \u0000K\u0000T\u0000\t\u00001\u0000:\u00000\u00003\u0000\t\u00000\u0000\t\u00000\u0000/\u00000\u0000\t\u00000\u0000/\u00000\u0000\t\u00000\u0000/\u00002\u0000\t\u00000\u0000\t\u00000\u0000\t\u00000\u0000\t\u00000\u0000\t\u00000\u0000\n",
      "\u0000\n",
      "\u00001\u00006\u0000\t\u00002\u00000\u00001\u00006\u0000-\u00001\u00001\u0000-\u00001\u00009\u0000\t틘육\u0000 벰퐻짚\u0000\t\u00001\u0000:\u00002\u00004\u0000\t\u00000\u0000\t\u00000\u0000/\u00000\u0000\t\u00000\u0000/\u00000\u0000\t\u00000\u0000/\u00000\u0000\t\u00001\u0000\t\u00000\u0000\t\u00000\u0000\t\u00000\u0000\t\u00000\u0000\n",
      "\u0000\n",
      "\u00001\u00006\u0000\t\u00002\u00000\u00001\u00006\u0000-\u00001\u00001\u0000-\u00000\u00008\u0000\t�\u0004힙\u0000 \u0000K\u0000C\u0000C\u0000\t\u00007\u0000:\u00001\u00001\u0000\t\u00000\u0000\t\u00000\u0000/\u00001\u0000\t\u00000\u0000/\u00000\u0000\t\u00000\u0000/\u00000\u0000\t\u00000\u0000\t\u00000\u0000\t\u00000\u0000\t\u00000\u0000\t\u00000\u0000\n",
      "\u0000\n",
      "\u00001\u00006\u0000\t\u00002\u00000\u00001\u00006\u0000-\u00001\u00000\u0000-\u00002\u00003\u0000\t틘육\u0000 벰퐻짚\u0000\t\u00000\u0000:\u00001\u00002\u0000\t\u00000\u0000\t\u00000\u0000/\u00000\u0000\t\u00000\u0000/\u00000\u0000\t\u00000\u0000/\u00000\u0000\t\u00000\u0000\t\u00000\u0000\t\u00000\u0000\t\u00000\u0000\t\u00000\u0000\n",
      "\u0000\n",
      "\u00001\u00007\u0000\t\u00002\u00000\u00001\u00007\u0000-\u00000\u00002\u0000-\u00000\u00004\u0000\t��육\u0000 \u0000K\u0000T\u0000\t\u00001\u00001\u0000:\u00004\u00000\u0000\t\u00000\u0000\t\u00000\u0000/\u00001\u0000\t\u00000\u0000/\u00000\u0000\t\u00000\u0000/\u00000\u0000\t\u00000\u0000\t\u00000\u0000\t\u00000\u0000\t\u00000\u0000\t\u00000\u0000\n",
      "\u0000\n",
      "\u00001\u00007\u0000\t\u00002\u00000\u00001\u00007\u0000-\u00000\u00002\u0000-\u00000\u00002\u0000\t�x��\u0000 �\u0004�맰쑕�\u0000\t\u00004\u0000:\u00000\u00007\u0000\t\u00003\u0000\t\u00000\u0000/\u00000\u0000\t\u00001\u0000/\u00001\u0000\t\u00000\u0000/\u00000\u0000\t\u00000\u0000\t\u00000\u0000\t\u00000\u0000\t\u00000\u0000\t\u00000\u0000\n",
      "\u0000\n",
      "\u00001\u00007\u0000\t\u00002\u00000\u00001\u00007\u0000-\u00000\u00001\u0000-\u00002\u00005\u0000\t틘육\u0000 벰퐻짚\u0000\t\u00001\u0000:\u00003\u00004\u0000\t\u00000\u0000\t\u00000\u0000/\u00000\u0000\t\u00000\u0000/\u00000\u0000\t\u00000\u0000/\u00000\u0000\t\u00000\u0000\t\u00000\u0000\t\u00000\u0000\t\u00000\u0000\t\u00000\u0000\n",
      "\u0000\n",
      "\u00001\u00007\u0000\t\u00002\u00000\u00001\u00006\u0000-\u00001\u00002\u0000-\u00001\u00006\u0000\t패힙\u0000 넨��\u0000\t\u00001\u00000\u0000:\u00002\u00008\u0000\t\u00000\u0000\t\u00000\u0000/\u00000\u0000\t\u00000\u0000/\u00000\u0000\t\u00000\u0000/\u00000\u0000\t\u00000\u0000\t\u00000\u0000\t\u00001\u0000\t\u00000\u0000\t\u00001\u0000\n",
      "\u0000\n",
      "\u00001\u00007\u0000\t\u00002\u00000\u00001\u00006\u0000-\u00001\u00002\u0000-\u00001\u00000\u0000\t��육\u0000 \u0000K\u0000T\u0000\t\u00006\u0000:\u00002\u00005\u0000\t\u00003\u0000\t\u00000\u0000/\u00000\u0000\t\u00001\u0000/\u00002\u0000\t\u00000\u0000/\u00000\u0000\t\u00001\u0000\t\u00000\u0000\t\u00000\u0000\t\u00000\u0000\t\u00000\u0000\n",
      "\u0000\n",
      "\u00001\u00007\u0000\t\u00002\u00000\u00001\u00006\u0000-\u00001\u00002\u0000-\u00000\u00003\u0000\t휟흷\u0000 �x읊�塚�\u0000\t\u00001\u0000:\u00001\u00004\u0000\t\u00000\u0000\t\u00000\u0000/\u00000\u0000\t\u00000\u0000/\u00000\u0000\t\u00000\u0000/\u00000\u0000\t\u00000\u0000\t\u00000\u0000\t\u00000\u0000\t\u00000\u0000\t\u00000\u0000\n",
      "\u0000\n",
      "\u00001\u00007\u0000\t\u00002\u00000\u00001\u00006\u0000-\u00001\u00002\u0000-\u00000\u00001\u0000\t패힙\u0000 넨��\u0000\t\u00001\u00003\u0000:\u00001\u00007\u0000\t\u00000\u0000\t\u00000\u0000/\u00000\u0000\t\u00000\u0000/\u00000\u0000\t\u00000\u0000/\u00000\u0000\t\u00001\u0000\t\u00000\u0000\t\u00001\u0000\t\u00001\u0000\t\u00001\u0000\n",
      "\u0000\n",
      "\u00001\u00007\u0000\t\u00002\u00000\u00001\u00006\u0000-\u00001\u00001\u0000-\u00002\u00006\u0000\t�x��\u0000 �\u0004�맰쑕�\u0000\t\u00003\u0000:\u00004\u00000\u0000\t\u00000\u0000\t\u00000\u0000/\u00000\u0000\t\u00000\u0000/\u00001\u0000\t\u00000\u0000/\u00000\u0000\t\u00000\u0000\t\u00000\u0000\t\u00000\u0000\t\u00000\u0000\t\u00000\u0000\n",
      "\u0000\n",
      "\u00001\u00007\u0000\t\u00002\u00000\u00001\u00006\u0000-\u00001\u00001\u0000-\u00001\u00009\u0000\t틘육\u0000 벰퐻짚\u0000\t\u00002\u0000:\u00001\u00005\u0000\t\u00000\u0000\t\u00000\u0000/\u00000\u0000\t\u00000\u0000/\u00000\u0000\t\u00000\u0000/\u00000\u0000\t\u00000\u0000\t\u00000\u0000\t\u00000\u0000\t\u00000\u0000\t\u00001\u0000\n",
      "\u0000\n",
      "\u00001\u00007\u0000\t\u00002\u00000\u00001\u00006\u0000-\u00001\u00001\u0000-\u00001\u00007\u0000\t�\u0004힙\u0000 \u0000K\u0000C\u0000C\u0000\t\u00001\u0000:\u00003\u00001\u0000\t\u00000\u0000\t\u00000\u0000/\u00000\u0000\t\u00000\u0000/\u00000\u0000\t\u00000\u0000/\u00000\u0000\t\u00000\u0000\t\u00000\u0000\t\u00000\u0000\t\u00000\u0000\t\u00000\u0000\n",
      "\u0000\n",
      "\u00001\u00007\u0000\t\u00002\u00000\u00001\u00006\u0000-\u00001\u00001\u0000-\u00001\u00003\u0000\t패힙\u0000 넨��\u0000\t\u00005\u0000:\u00004\u00004\u0000\t\u00000\u0000\t\u00000\u0000/\u00001\u0000\t\u00000\u0000/\u00000\u0000\t\u00000\u0000/\u00000\u0000\t\u00000\u0000\t\u00001\u0000\t\u00000\u0000\t\u00000\u0000\t\u00000\u0000\n",
      "\u0000\n",
      "\u00001\u00007\u0000\t\u00002\u00000\u00001\u00006\u0000-\u00001\u00001\u0000-\u00001\u00001\u0000\t�=패\u0000 \u0000L\u0000G\u0000\t\u00002\u0000:\u00004\u00003\u0000\t\u00000\u0000\t\u00000\u0000/\u00000\u0000\t\u00000\u0000/\u00000\u0000\t\u00000\u0000/\u00000\u0000\t\u00000\u0000\t\u00000\u0000\t\u00000\u0000\t\u00000\u0000\t\u00000\u0000\n",
      "\u0000\n",
      "\u00001\u00007\u0000\t\u00002\u00000\u00001\u00006\u0000-\u00001\u00001\u0000-\u00000\u00008\u0000\t�\u0004힙\u0000 \u0000K\u0000C\u0000C\u0000\t\u00001\u00006\u0000:\u00001\u00006\u0000\t\u00001\u0000\t\u00000\u0000/\u00000\u0000\t\u00000\u0000/\u00000\u0000\t\u00001\u0000/\u00002\u0000\t\u00001\u0000\t\u00000\u0000\t\u00000\u0000\t\u00000\u0000\t\u00000\u0000\n",
      "\u0000\n",
      "\u00001\u00007\u0000\t\u00002\u00000\u00001\u00006\u0000-\u00001\u00001\u0000-\u00000\u00004\u0000\t�x��\u0000 �\u0004�맰쑕�\u0000\t\u00001\u00008\u0000:\u00001\u00006\u0000\t\u00003\u0000\t\u00000\u0000/\u00000\u0000\t\u00001\u0000/\u00005\u0000\t\u00000\u0000/\u00000\u0000\t\u00002\u0000\t\u00000\u0000\t\u00001\u0000\t\u00000\u0000\t\u00000\u0000\n",
      "\u0000\n",
      "\u00001\u00007\u0000\t\u00002\u00000\u00001\u00006\u0000-\u00001\u00000\u0000-\u00002\u00009\u0000\t��육\u0000 \u0000K\u0000T\u0000\t\u00005\u0000:\u00000\u00007\u0000\t\u00000\u0000\t\u00000\u0000/\u00000\u0000\t\u00000\u0000/\u00000\u0000\t\u00000\u0000/\u00000\u0000\t\u00001\u0000\t\u00000\u0000\t\u00000\u0000\t\u00000\u0000\t\u00001\u0000\n",
      "\u0000\n",
      "\u00001\u00007\u0000\t\u00002\u00000\u00001\u00006\u0000-\u00001\u00000\u0000-\u00002\u00003\u0000\t틘육\u0000 벰퐻짚\u0000\t\u00009\u0000:\u00002\u00009\u0000\t\u00004\u0000\t\u00002\u0000/\u00002\u0000\t\u00000\u0000/\u00000\u0000\t\u00000\u0000/\u00000\u0000\t\u00000\u0000\t\u00001\u0000\t\u00000\u0000\t\u00000\u0000\t\u00000\u0000\n",
      "\u0000\n",
      "\u00002\u0000\t\u00002\u00000\u00001\u00007\u0000-\u00000\u00002\u0000-\u00000\u00004\u0000\t��육\u0000 \u0000K\u0000T\u0000\t\u00004\u0000:\u00001\u00005\u0000\t\u00000\u0000\t\u00000\u0000/\u00000\u0000\t\u00000\u0000/\u00001\u0000\t\u00000\u0000/\u00000\u0000\t\u00000\u0000\t\u00000\u0000\t\u00000\u0000\t\u00000\u0000\t\u00000\u0000\n",
      "\u0000\n",
      "\u00002\u0000\t\u00002\u00000\u00001\u00007\u0000-\u00000\u00002\u0000-\u00000\u00002\u0000\t�x��\u0000 �\u0004�맰쑕�\u0000\t\u00003\u0000:\u00000\u00004\u0000\t\u00000\u0000\t\u00000\u0000/\u00000\u0000\t\u00000\u0000/\u00001\u0000\t\u00000\u0000/\u00000\u0000\t\u00000\u0000\t\u00001\u0000\t\u00000\u0000\t\u00000\u0000\t\u00000\u0000\n",
      "\u0000\n",
      "\u00002\u0000\t\u00002\u00000\u00001\u00007\u0000-\u00000\u00001\u0000-\u00003\u00000\u0000\t휟흷\u0000 �x읊�塚�\u0000\t\u00001\u00000\u0000:\u00003\u00008\u0000\t\u00000\u0000\t\u00000\u0000/\u00001\u0000\t\u00000\u0000/\u00000\u0000\t\u00000\u0000/\u00000\u0000\t\u00001\u0000\t\u00000\u0000\t\u00001\u0000\t\u00000\u0000\t\u00001\u0000\n",
      "\u0000\n",
      "\u00002\u0000\t\u00002\u00000\u00001\u00007\u0000-\u00000\u00001\u0000-\u00002\u00008\u0000\t패힙\u0000 넨��\u0000\t\u00001\u00007\u0000:\u00001\u00009\u0000\t\u00002\u0000\t\u00001\u0000/\u00003\u0000\t\u00000\u0000/\u00000\u0000\t\u00000\u0000/\u00000\u0000\t\u00002\u0000\t\u00001\u0000\t\u00000\u0000\t\u00000\u0000\t\u00000\u0000\n",
      "\u0000\n",
      "\u00002\u0000\t\u00002\u00000\u00001\u00007\u0000-\u00000\u00001\u0000-\u00002\u00005\u0000\t틘육\u0000 벰퐻짚\u0000\t\u00006\u0000:\u00004\u00009\u0000\t\u00001\u0000\t\u00000\u0000/\u00001\u0000\t\u00000\u0000/\u00001\u0000\t\u00001\u0000/\u00002\u0000\t\u00001\u0000\t\u00001\u0000\t\u00000\u0000\t\u00000\u0000\t\u00003\u0000\n",
      "\u0000\n",
      "\u00002\u0000\t\u00002\u00000\u00001\u00007\u0000-\u00000\u00001\u0000-\u00001\u00007\u0000\t�=패\u0000 \u0000L\u0000G\u0000\t\u00001\u00003\u0000:\u00003\u00005\u0000\t\u00000\u0000\t\u00000\u0000/\u00001\u0000\t\u00000\u0000/\u00000\u0000\t\u00000\u0000/\u00000\u0000\t\u00003\u0000\t\u00000\u0000\t\u00001\u0000\t\u00000\u0000\t\u00002\u0000\n",
      "\u0000\n",
      "\u00002\u0000\t\u00002\u00000\u00001\u00007\u0000-\u00000\u00001\u0000-\u00001\u00004\u0000\tо흷\u0000 �$묵�(짚\u0000\t\u00002\u00004\u0000:\u00003\u00006\u0000\t\u00004\u0000\t\u00002\u0000/\u00005\u0000\t\u00000\u0000/\u00001\u0000\t\u00000\u0000/\u00000\u0000\t\u00005\u0000\t\u00005\u0000\t\u00000\u0000\t\u00000\u0000\t\u00002\u0000\n",
      "\u0000\n",
      "\u00002\u0000\t\u00002\u00000\u00001\u00007\u0000-\u00000\u00001\u0000-\u00001\u00002\u0000\t�\u0004힙\u0000 \u0000K\u0000C\u0000C\u0000\t\u00002\u00000\u0000:\u00005\u00004\u0000\t\u00005\u0000\t\u00001\u0000/\u00003\u0000\t\u00001\u0000/\u00003\u0000\t\u00000\u0000/\u00000\u0000\t\u00002\u0000\t\u00001\u0000\t\u00000\u0000\t\u00000\u0000\t\u00001\u0000\n",
      "\u0000\n",
      "\u00002\u0000\t\u00002\u00000\u00001\u00007\u0000-\u00000\u00001\u0000-\u00001\u00000\u0000\t�\u001c",
      "틘\u0000 \u0000S\u0000K\u0000\t\u00007\u0000:\u00003\u00004\u0000\t\u00000\u0000\t\u00000\u0000/\u00001\u0000\t\u00000\u0000/\u00000\u0000\t\u00000\u0000/\u00000\u0000\t\u00001\u0000\t\u00001\u0000\t\u00000\u0000\t\u00000\u0000\t\u00001\u0000\n",
      "\u0000\n",
      "\u00002\u0000\t\u00002\u00000\u00001\u00007\u0000-\u00000\u00001\u0000-\u00000\u00007\u0000\t틘육\u0000 벰퐻짚\u0000\t\u00009\u0000:\u00005\u00005\u0000\t\u00003\u0000\t\u00000\u0000/\u00004\u0000\t\u00001\u0000/\u00001\u0000\t\u00000\u0000/\u00000\u0000\t\u00002\u0000\t\u00000\u0000\t\u00001\u0000\t\u00000\u0000\t\u00001\u0000\n",
      "\u0000\n",
      "\u00002\u0000\t\u00002\u00000\u00001\u00007\u0000-\u00000\u00001\u0000-\u00000\u00004\u0000\t�x��\u0000 �\u0004�맰쑕�\u0000\t\u00002\u00004\u0000:\u00001\u00006\u0000\t\u00001\u00004\u0000\t\u00006\u0000/\u00008\u0000\t\u00000\u0000/\u00003\u0000\t\u00002\u0000/\u00002\u0000\t\u00004\u0000\t\u00002\u0000\t\u00005\u0000\t\u00000\u0000\t\u00000\u0000\n",
      "\u0000\n",
      "\u00002\u0000\t\u00002\u00000\u00001\u00007\u0000-\u00000\u00001\u0000-\u00000\u00001\u0000\t�\u0004힙\u0000 \u0000K\u0000C\u0000C\u0000\t\u00001\u00009\u0000:\u00004\u00002\u0000\t\u00006\u0000\t\u00000\u0000/\u00002\u0000\t\u00001\u0000/\u00002\u0000\t\u00003\u0000/\u00004\u0000\t\u00001\u0000\t\u00005\u0000\t\u00002\u0000\t\u00000\u0000\t\u00001\u0000\n",
      "\u0000\n",
      "\u00002\u0000\t\u00002\u00000\u00001\u00006\u0000-\u00001\u00002\u0000-\u00003\u00000\u0000\t��육\u0000 \u0000K\u0000T\u0000\t\u00002\u00004\u0000:\u00002\u00007\u0000\t\u00001\u00009\u0000\t\u00004\u0000/\u00004\u0000\t\u00003\u0000/\u00005\u0000\t\u00002\u0000/\u00002\u0000\t\u00003\u0000\t\u00003\u0000\t\u00002\u0000\t\u00000\u0000\t\u00002\u0000\n",
      "\u0000\n",
      "\u00002\u0000\t\u00002\u00000\u00001\u00006\u0000-\u00001\u00002\u0000-\u00002\u00005\u0000\t�\u001c",
      "틘\u0000 \u0000S\u0000K\u0000\t\u00008\u0000:\u00005\u00004\u0000\t\u00000\u0000\t\u00000\u0000/\u00000\u0000\t\u00000\u0000/\u00000\u0000\t\u00000\u0000/\u00000\u0000\t\u00004\u0000\t\u00001\u0000\t\u00001\u0000\t\u00000\u0000\t\u00000\u0000\n",
      "\u0000\n",
      "\u00002\u0000\t\u00002\u00000\u00001\u00006\u0000-\u00001\u00002\u0000-\u00002\u00003\u0000\t휟흷\u0000 �x읊�塚�\u0000\t\u00006\u0000:\u00004\u00000\u0000\t\u00002\u0000\t\u00001\u0000/\u00002\u0000\t\u00000\u0000/\u00001\u0000\t\u00000\u0000/\u00000\u0000\t\u00002\u0000\t\u00000\u0000\t\u00001\u0000\t\u00000\u0000\t\u00000\u0000\n",
      "\u0000\n",
      "\u00002\u0000\t\u00002\u00000\u00001\u00006\u0000-\u00001\u00002\u0000-\u00002\u00001\u0000\tо흷\u0000 �$묵�(짚\u0000\t\u00001\u00000\u0000:\u00004\u00001\u0000\t\u00006\u0000\t\u00000\u0000/\u00002\u0000\t\u00002\u0000/\u00002\u0000\t\u00000\u0000/\u00000\u0000\t\u00001\u0000\t\u00001\u0000\t\u00001\u0000\t\u00000\u0000\t\u00001\u0000\n",
      "\u0000\n",
      "\u00002\u0000\t\u00002\u00000\u00001\u00006\u0000-\u00001\u00002\u0000-\u00001\u00008\u0000\t�=패\u0000 \u0000L\u0000G\u0000\t\u00001\u00003\u0000:\u00005\u00004\u0000\t\u00004\u0000\t\u00002\u0000/\u00004\u0000\t\u00000\u0000/\u00001\u0000\t\u00000\u0000/\u00001\u0000\t\u00001\u0000\t\u00002\u0000\t\u00000\u0000\t\u00000\u0000\t\u00002\u0000\n",
      "\u0000\n",
      "\u00002\u0000\t\u00002\u00000\u00001\u00006\u0000-\u00001\u00002\u0000-\u00001\u00006\u0000\t패힙\u0000 넨��\u0000\t\u00004\u0000:\u00001\u00004\u0000\t\u00000\u0000\t\u00000\u0000/\u00000\u0000\t\u00000\u0000/\u00000\u0000\t\u00000\u0000/\u00000\u0000\t\u00001\u0000\t\u00000\u0000\t\u00000\u0000\t\u00000\u0000\t\u00000\u0000\n",
      "\u0000\n",
      "\u00002\u0000\t\u00002\u00000\u00001\u00006\u0000-\u00001\u00002\u0000-\u00001\u00000\u0000\t��육\u0000 \u0000K\u0000T\u0000\t\u00004\u0000:\u00005\u00005\u0000\t\u00000\u0000\t\u00000\u0000/\u00001\u0000\t\u00000\u0000/\u00000\u0000\t\u00000\u0000/\u00000\u0000\t\u00000\u0000\t\u00000\u0000\t\u00000\u0000\t\u00000\u0000\t\u00001\u0000\n",
      "\u0000\n",
      "\u00002\u0000\t\u00002\u00000\u00001\u00006\u0000-\u00001\u00002\u0000-\u00000\u00004\u0000\tо흷\u0000 �$묵�(짚\u0000\t\u00004\u0000:\u00001\u00008\u0000\t\u00000\u0000\t\u00000\u0000/\u00000\u0000\t\u00000\u0000/\u00002\u0000\t\u00000\u0000/\u00000\u0000\t\u00000\u0000\t\u00000\u0000\t\u00000\u0000\t\u00000\u0000\t\u00001\u0000\n",
      "\u0000\n",
      "\u00002\u0000\t\u00002\u00000\u00001\u00006\u0000-\u00001\u00002\u0000-\u00000\u00003\u0000\t휟흷\u0000 �x읊�塚�\u0000\t\u00006\u0000:\u00004\u00008\u0000\t\u00007\u0000\t\u00002\u0000/\u00002\u0000\t\u00001\u0000/\u00001\u0000\t\u00000\u0000/\u00000\u0000\t\u00001\u0000\t\u00000\u0000\t\u00000\u0000\t\u00000\u0000\t\u00000\u0000\n",
      "\u0000\n",
      "\u00002\u0000\t\u00002\u00000\u00001\u00006\u0000-\u00001\u00002\u0000-\u00000\u00001\u0000\t패힙\u0000 넨��\u0000\t\u00003\u0000:\u00005\u00006\u0000\t\u00000\u0000\t\u00000\u0000/\u00000\u0000\t\u00000\u0000/\u00000\u0000\t\u00000\u0000/\u00000\u0000\t\u00000\u0000\t\u00000\u0000\t\u00000\u0000\t\u00000\u0000\t\u00001\u0000\n",
      "\u0000\n",
      "\u00002\u0000\t\u00002\u00000\u00001\u00006\u0000-\u00001\u00001\u0000-\u00002\u00006\u0000\t�x��\u0000 �\u0004�맰쑕�\u0000\t\u00001\u00000\u0000:\u00001\u00005\u0000\t\u00000\u0000\t\u00000\u0000/\u00002\u0000\t\u00000\u0000/\u00001\u0000\t\u00000\u0000/\u00000\u0000\t\u00001\u0000\t\u00001\u0000\t\u00001\u0000\t\u00000\u0000\t\u00000\u0000\n",
      "\u0000\n",
      "\u00002\u0000\t\u00002\u00000\u00001\u00006\u0000-\u00001\u00001\u0000-\u00002\u00003\u0000\t�\u001c",
      "틘\u0000 \u0000S\u0000K\u0000\t\u00009\u0000:\u00003\u00002\u0000\t\u00002\u0000\t\u00001\u0000/\u00002\u0000\t\u00000\u0000/\u00001\u0000\t\u00000\u0000/\u00002\u0000\t\u00001\u0000\t\u00000\u0000\t\u00000\u0000\t\u00000\u0000\t\u00001\u0000\n",
      "\u0000\n",
      "\u00002\u0000\t\u00002\u00000\u00001\u00006\u0000-\u00001\u00001\u0000-\u00002\u00000\u0000\t�=패\u0000 \u0000L\u0000G\u0000\t\u00007\u0000:\u00004\u00002\u0000\t\u00000\u0000\t\u00000\u0000/\u00001\u0000\t\u00000\u0000/\u00001\u0000\t\u00000\u0000/\u00000\u0000\t\u00001\u0000\t\u00001\u0000\t\u00000\u0000\t\u00000\u0000\t\u00000\u0000\n",
      "\u0000\n",
      "\u00002\u0000\t\u00002\u00000\u00001\u00006\u0000-\u00001\u00001\u0000-\u00001\u00009\u0000\t틘육\u0000 벰퐻짚\u0000\t\u00001\u00000\u0000:\u00003\u00006\u0000\t\u00007\u0000\t\u00002\u0000/\u00004\u0000\t\u00001\u0000/\u00001\u0000\t\u00000\u0000/\u00000\u0000\t\u00001\u0000\t\u00000\u0000\t\u00002\u0000\t\u00001\u0000\t\u00000\u0000\n",
      "\u0000\n",
      "\u00002\u0000\t\u00002\u00000\u00001\u00006\u0000-\u00001\u00001\u0000-\u00001\u00007\u0000\t�\u0004힙\u0000 \u0000K\u0000C\u0000C\u0000\t\u00001\u00007\u0000:\u00005\u00004\u0000\t\u00002\u0000\t\u00000\u0000/\u00002\u0000\t\u00000\u0000/\u00000\u0000\t\u00002\u0000/\u00002\u0000\t\u00000\u0000\t\u00001\u0000\t\u00001\u0000\t\u00001\u0000\t\u00000\u0000\n",
      "\u0000\n",
      "\u00002\u0000\t\u00002\u00000\u00001\u00006\u0000-\u00001\u00001\u0000-\u00001\u00003\u0000\t패힙\u0000 넨��\u0000\t\u00008\u0000:\u00001\u00008\u0000\t\u00000\u0000\t\u00000\u0000/\u00001\u0000\t\u00000\u0000/\u00001\u0000\t\u00000\u0000/\u00000\u0000\t\u00000\u0000\t\u00001\u0000\t\u00001\u0000\t\u00000\u0000\t\u00000\u0000\n",
      "\u0000\n",
      "\u00002\u0000\t\u00002\u00000\u00001\u00006\u0000-\u00001\u00001\u0000-\u00001\u00001\u0000\t�=패\u0000 \u0000L\u0000G\u0000\t\u00001\u00006\u0000:\u00001\u00008\u0000\t\u00003\u0000\t\u00000\u0000/\u00000\u0000\t\u00001\u0000/\u00003\u0000\t\u00000\u0000/\u00000\u0000\t\u00001\u0000\t\u00004\u0000\t\u00001\u0000\t\u00000\u0000\t\u00000\u0000\n",
      "\u0000\n",
      "\u00002\u0000\t\u00002\u00000\u00001\u00006\u0000-\u00001\u00001\u0000-\u00000\u00008\u0000\t�\u0004힙\u0000 \u0000K\u0000C\u0000C\u0000\t\u00001\u00003\u0000:\u00004\u00004\u0000\t\u00001\u00003\u0000\t\u00002\u0000/\u00004\u0000\t\u00003\u0000/\u00005\u0000\t\u00000\u0000/\u00000\u0000\t\u00002\u0000\t\u00001\u0000\t\u00001\u0000\t\u00000\u0000\t\u00002\u0000\n",
      "\u0000\n",
      "\u00002\u0000\t\u00002\u00000\u00001\u00006\u0000-\u00001\u00001\u0000-\u00000\u00006\u0000\t�\u001c",
      "틘\u0000 \u0000S\u0000K\u0000\t\u00001\u00007\u0000:\u00005\u00001\u0000\t\u00002\u0000\t\u00001\u0000/\u00004\u0000\t\u00000\u0000/\u00001\u0000\t\u00000\u0000/\u00000\u0000\t\u00002\u0000\t\u00001\u0000\t\u00001\u0000\t\u00000\u0000\t\u00000\u0000\n",
      "\u0000\n",
      "\u00002\u0000\t\u00002\u00000\u00001\u00006\u0000-\u00001\u00001\u0000-\u00000\u00004\u0000\t�x��\u0000 �\u0004�맰쑕�\u0000\t\u00001\u00003\u0000:\u00004\u00001\u0000\t\u00000\u0000\t\u00000\u0000/\u00000\u0000\t\u00000\u0000/\u00002\u0000\t\u00000\u0000/\u00000\u0000\t\u00002\u0000\t\u00000\u0000\t\u00000\u0000\t\u00000\u0000\t\u00000\u0000\n",
      "\u0000\n",
      "\u00002\u0000\t\u00002\u00000\u00001\u00006\u0000-\u00001\u00001\u0000-\u00000\u00002\u0000\tо흷\u0000 �$묵�(짚\u0000\t\u00009\u0000:\u00000\u00004\u0000\t\u00003\u0000\t\u00000\u0000/\u00000\u0000\t\u00001\u0000/\u00003\u0000\t\u00000\u0000/\u00000\u0000\t\u00000\u0000\t\u00002\u0000\t\u00000\u0000\t\u00001\u0000\t\u00001\u0000\n",
      "\u0000\n",
      "\u00002\u0000\t\u00002\u00000\u00001\u00006\u0000-\u00001\u00000\u0000-\u00002\u00009\u0000\t��육\u0000 \u0000K\u0000T\u0000\t\u00001\u00004\u0000:\u00004\u00000\u0000\t\u00001\u00002\u0000\t\u00005\u0000/\u00007\u0000\t\u00000\u0000/\u00003\u0000\t\u00002\u0000/\u00002\u0000\t\u00002\u0000\t\u00001\u0000\t\u00003\u0000\t\u00000\u0000\t\u00000\u0000\n",
      "\u0000\n",
      "\u00002\u0000\t\u00002\u00000\u00001\u00006\u0000-\u00001\u00000\u0000-\u00002\u00005\u0000\t휟흷\u0000 �x읊�塚�\u0000\t\u00002\u00005\u0000:\u00003\u00004\u0000\t\u00001\u00001\u0000\t\u00002\u0000/\u00004\u0000\t\u00001\u0000/\u00002\u0000\t\u00004\u0000/\u00004\u0000\t\u00003\u0000\t\u00002\u0000\t\u00003\u0000\t\u00000\u0000\t\u00002\u0000\n",
      "\u0000\n",
      "\u00002\u0000\t\u00002\u00000\u00001\u00006\u0000-\u00001\u00000\u0000-\u00002\u00003\u0000\t틘육\u0000 벰퐻짚\u0000\t\u00001\u00001\u0000:\u00004\u00003\u0000\t\u00001\u0000\t\u00000\u0000/\u00001\u0000\t\u00000\u0000/\u00000\u0000\t\u00001\u0000/\u00002\u0000\t\u00000\u0000\t\u00000\u0000\t\u00001\u0000\t\u00000\u0000\t\u00001\u0000\n",
      "\u0000\n",
      "\u00002\u00000\u0000\t\u00002\u00000\u00001\u00007\u0000-\u00000\u00002\u0000-\u00000\u00004\u0000\t��육\u0000 \u0000K\u0000T\u0000\t\u00003\u00009\u0000:\u00001\u00002\u0000\t\u00002\u00009\u0000\t\u00001\u00002\u0000/\u00001\u00006\u0000\t\u00000\u0000/\u00000\u0000\t\u00005\u0000/\u00007\u0000\t\u00001\u00009\u0000\t\u00000\u0000\t\u00001\u0000\t\u00002\u0000\t\u00001\u0000\n",
      "\u0000\n",
      "\u00002\u00000\u0000\t\u00002\u00000\u00001\u00007\u0000-\u00000\u00002\u0000-\u00000\u00002\u0000\t�x��\u0000 �\u0004�맰쑕�\u0000\t\u00003\u00005\u0000:\u00005\u00002\u0000\t\u00001\u00007\u0000\t\u00006\u0000/\u00009\u0000\t\u00000\u0000/\u00000\u0000\t\u00005\u0000/\u00005\u0000\t\u00001\u00008\u0000\t\u00003\u0000\t\u00001\u0000\t\u00001\u0000\t\u00001\u0000\n",
      "\u0000\n",
      "\u00002\u00000\u0000\t\u00002\u00000\u00001\u00007\u0000-\u00000\u00001\u0000-\u00003\u00000\u0000\t휟흷\u0000 �x읊�塚�\u0000\t\u00004\u00000\u0000:\u00000\u00000\u0000\t\u00002\u00006\u0000\t\u00001\u00001\u0000/\u00001\u00006\u0000\t\u00000\u0000/\u00001\u0000\t\u00004\u0000/\u00004\u0000\t\u00001\u00005\u0000\t\u00005\u0000\t\u00001\u0000\t\u00001\u0000\t\u00002\u0000\n",
      "\u0000\n",
      "\u00002\u00000\u0000\t\u00002\u00000\u00001\u00007\u0000-\u00000\u00001\u0000-\u00002\u00008\u0000\t패힙\u0000 넨��\u0000\t\u00003\u00007\u0000:\u00005\u00005\u0000\t\u00002\u00003\u0000\t\u00009\u0000/\u00001\u00004\u0000\t\u00000\u0000/\u00000\u0000\t\u00005\u0000/\u00007\u0000\t\u00001\u00000\u0000\t\u00003\u0000\t\u00002\u0000\t\u00003\u0000\t\u00002\u0000\n",
      "\u0000\n",
      "\u00002\u00000\u0000\t\u00002\u00000\u00001\u00007\u0000-\u00000\u00001\u0000-\u00002\u00005\u0000\t틘육\u0000 벰퐻짚\u0000\t\u00003\u00008\u0000:\u00003\u00000\u0000\t\u00002\u00000\u0000\t\u00009\u0000/\u00001\u00008\u0000\t\u00000\u0000/\u00000\u0000\t\u00002\u0000/\u00002\u0000\t\u00001\u00006\u0000\t\u00004\u0000\t\u00001\u0000\t\u00005\u0000\t\u00001\u0000\n",
      "\u0000\n",
      "\u00002\u00000\u0000\t\u00002\u00000\u00001\u00007\u0000-\u00000\u00001\u0000-\u00001\u00007\u0000\t�=패\u0000 \u0000L\u0000G\u0000\t\u00003\u00008\u0000:\u00003\u00000\u0000\t\u00002\u00006\u0000\t\u00001\u00000\u0000/\u00001\u00003\u0000\t\u00000\u0000/\u00000\u0000\t\u00006\u0000/\u00008\u0000\t\u00001\u00003\u0000\t\u00001\u0000\t\u00000\u0000\t\u00003\u0000\t\u00006\u0000\n",
      "\u0000\n",
      "\u00002\u00000\u0000\t\u00002\u00000\u00001\u00007\u0000-\u00000\u00001\u0000-\u00001\u00004\u0000\tо흷\u0000 �$묵�(짚\u0000\t\u00003\u00006\u0000:\u00005\u00002\u0000\t\u00002\u00004\u0000\t\u00009\u0000/\u00001\u00007\u0000\t\u00000\u0000/\u00000\u0000\t\u00006\u0000/\u00008\u0000\t\u00001\u00005\u0000\t\u00003\u0000\t\u00002\u0000\t\u00001\u0000\t\u00001\u0000\n",
      "\u0000\n",
      "\u00002\u00000\u0000\t\u00002\u00000\u00001\u00007\u0000-\u00000\u00001\u0000-\u00001\u00002\u0000\t�\u0004힙\u0000 \u0000K\u0000C\u0000C\u0000\t\u00003\u00007\u0000:\u00005\u00005\u0000\t\u00001\u00005\u0000\t\u00006\u0000/\u00001\u00003\u0000\t\u00000\u0000/\u00000\u0000\t\u00003\u0000/\u00003\u0000\t\u00001\u00000\u0000\t\u00005\u0000\t\u00001\u0000\t\u00001\u0000\t\u00001\u0000\n",
      "\u0000\n",
      "\u00002\u00000\u0000\t\u00002\u00000\u00001\u00007\u0000-\u00000\u00001\u0000-\u00001\u00000\u0000\t�\u001c",
      "틘\u0000 \u0000S\u0000K\u0000\t\u00003\u00006\u0000:\u00005\u00003\u0000\t\u00003\u00002\u0000\t\u00001\u00003\u0000/\u00001\u00007\u0000\t\u00000\u0000/\u00000\u0000\t\u00006\u0000/\u00007\u0000\t\u00001\u00006\u0000\t\u00003\u0000\t\u00000\u0000\t\u00001\u0000\t\u00002\u0000\n",
      "\u0000\n",
      "\u00002\u00000\u0000\t\u00002\u00000\u00001\u00007\u0000-\u00000\u00001\u0000-\u00000\u00007\u0000\t틘육\u0000 벰퐻짚\u0000\t\u00003\u00002\u0000:\u00001\u00001\u0000\t\u00002\u00002\u0000\t\u00001\u00000\u0000/\u00001\u00006\u0000\t\u00000\u0000/\u00000\u0000\t\u00002\u0000/\u00003\u0000\t\u00001\u00001\u0000\t\u00000\u0000\t\u00000\u0000\t\u00000\u0000\t\u00002\u0000\n",
      "\u0000\n",
      "\u00002\u00000\u0000\t\u00002\u00000\u00001\u00007\u0000-\u00000\u00001\u0000-\u00000\u00004\u0000\t�x��\u0000 �\u0004�맰쑕�\u0000\t\u00003\u00009\u0000:\u00000\u00006\u0000\t\u00002\u00002\u0000\t\u00001\u00000\u0000/\u00001\u00004\u0000\t\u00000\u0000/\u00000\u0000\t\u00002\u0000/\u00002\u0000\t\u00001\u00004\u0000\t\u00002\u0000\t\u00001\u0000\t\u00002\u0000\t\u00005\u0000\n",
      "\u0000\n",
      "\u00002\u00000\u0000\t\u00002\u00000\u00001\u00007\u0000-\u00000\u00001\u0000-\u00000\u00001\u0000\t�\u0004힙\u0000 \u0000K\u0000C\u0000C\u0000\t\u00003\u00002\u0000:\u00001\u00003\u0000\t\u00002\u00006\u0000\t\u00001\u00001\u0000/\u00001\u00003\u0000\t\u00000\u0000/\u00000\u0000\t\u00004\u0000/\u00005\u0000\t\u00001\u00003\u0000\t\u00004\u0000\t\u00000\u0000\t\u00002\u0000\t\u00001\u0000\n",
      "\u0000\n",
      "\u00002\u00000\u0000\t\u00002\u00000\u00001\u00006\u0000-\u00001\u00002\u0000-\u00003\u00000\u0000\t��육\u0000 \u0000K\u0000T\u0000\t\u00003\u00002\u0000:\u00002\u00001\u0000\t\u00002\u00002\u0000\t\u00009\u0000/\u00001\u00002\u0000\t\u00000\u0000/\u00000\u0000\t\u00004\u0000/\u00007\u0000\t\u00001\u00006\u0000\t\u00004\u0000\t\u00001\u0000\t\u00001\u0000\t\u00001\u0000\n",
      "\u0000\n",
      "\u00002\u00000\u0000\t\u00002\u00000\u00001\u00006\u0000-\u00001\u00002\u0000-\u00002\u00005\u0000\t�\u001c",
      "틘\u0000 \u0000S\u0000K\u0000\t\u00003\u00000\u0000:\u00001\u00001\u0000\t\u00002\u00001\u0000\t\u00009\u0000/\u00001\u00006\u0000\t\u00000\u0000/\u00000\u0000\t\u00003\u0000/\u00006\u0000\t\u00001\u00002\u0000\t\u00002\u0000\t\u00002\u0000\t\u00002\u0000\t\u00005\u0000\n",
      "\u0000\n",
      "\u00002\u00000\u0000\t\u00002\u00000\u00001\u00006\u0000-\u00001\u00002\u0000-\u00002\u00003\u0000\t휟흷\u0000 �x읊�塚�\u0000\t\u00003\u00005\u0000:\u00003\u00002\u0000\t\u00001\u00007\u0000\t\u00007\u0000/\u00001\u00002\u0000\t\u00000\u0000/\u00000\u0000\t\u00003\u0000/\u00004\u0000\t\u00001\u00001\u0000\t\u00002\u0000\t\u00002\u0000\t\u00001\u0000\t\u00001\u0000\n",
      "\u0000\n",
      "\u00002\u00000\u0000\t\u00002\u00000\u00001\u00006\u0000-\u00001\u00002\u0000-\u00002\u00001\u0000\tо흷\u0000 �$묵�(짚\u0000\t\u00003\u00007\u0000:\u00003\u00003\u0000\t\u00002\u00006\u0000\t\u00001\u00001\u0000/\u00002\u00000\u0000\t\u00000\u0000/\u00000\u0000\t\u00004\u0000/\u00006\u0000\t\u00001\u00008\u0000\t\u00002\u0000\t\u00000\u0000\t\u00000\u0000\t\u00001\u0000\n",
      "\u0000\n",
      "\u00002\u00000\u0000\t\u00002\u00000\u00001\u00006\u0000-\u00001\u00002\u0000-\u00001\u00008\u0000\t�=패\u0000 \u0000L\u0000G\u0000\t\u00003\u00006\u0000:\u00001\u00009\u0000\t\u00002\u00008\u0000\t\u00001\u00003\u0000/\u00001\u00007\u0000\t\u00000\u0000/\u00000\u0000\t\u00002\u0000/\u00002\u0000\t\u00009\u0000\t\u00002\u0000\t\u00001\u0000\t\u00001\u0000\t\u00000\u0000\n",
      "\u0000\n",
      "\u00002\u00000\u0000\t\u00002\u00000\u00001\u00006\u0000-\u00001\u00002\u0000-\u00001\u00006\u0000\t패힙\u0000 넨��\u0000\t\u00003\u00003\u0000:\u00003\u00009\u0000\t\u00001\u00004\u0000\t\u00006\u0000/\u00001\u00001\u0000\t\u00000\u0000/\u00000\u0000\t\u00002\u0000/\u00002\u0000\t\u00008\u0000\t\u00002\u0000\t\u00002\u0000\t\u00002\u0000\t\u00005\u0000\n",
      "\u0000\n",
      "\u00002\u00000\u0000\t\u00002\u00000\u00001\u00006\u0000-\u00001\u00002\u0000-\u00001\u00000\u0000\t��육\u0000 \u0000K\u0000T\u0000\t\u00003\u00007\u0000:\u00005\u00001\u0000\t\u00002\u00004\u0000\t\u00001\u00000\u0000/\u00001\u00002\u0000\t\u00000\u0000/\u00000\u0000\t\u00004\u0000/\u00006\u0000\t\u00001\u00000\u0000\t\u00003\u0000\t\u00000\u0000\t\u00001\u0000\t\u00002\u0000\n",
      "\u0000\n",
      "\u00002\u00000\u0000\t\u00002\u00000\u00001\u00006\u0000-\u00001\u00002\u0000-\u00000\u00004\u0000\tо흷\u0000 �$묵�(짚\u0000\t\u00003\u00001\u0000:\u00003\u00009\u0000\t\u00002\u00000\u0000\t\u00009\u0000/\u00001\u00009\u0000\t\u00000\u0000/\u00000\u0000\t\u00002\u0000/\u00002\u0000\t\u00001\u00001\u0000\t\u00001\u0000\t\u00001\u0000\t\u00001\u0000\t\u00001\u0000\n",
      "\u0000\n",
      "\u00002\u00000\u0000\t\u00002\u00000\u00001\u00006\u0000-\u00001\u00002\u0000-\u00000\u00003\u0000\t휟흷\u0000 �x읊�塚�\u0000\t\u00003\u00006\u0000:\u00001\u00005\u0000\t\u00003\u00003\u0000\t\u00001\u00005\u0000/\u00001\u00008\u0000\t\u00000\u0000/\u00000\u0000\t\u00003\u0000/\u00004\u0000\t\u00001\u00002\u0000\t\u00000\u0000\t\u00000\u0000\t\u00004\u0000\t\u00002\u0000\n",
      "\u0000\n",
      "\u00002\u00000\u0000\t\u00002\u00000\u00001\u00006\u0000-\u00001\u00002\u0000-\u00000\u00001\u0000\t패힙\u0000 넨��\u0000\t\u00003\u00001\u0000:\u00004\u00008\u0000\t\u00002\u00001\u0000\t\u00009\u0000/\u00001\u00003\u0000\t\u00000\u0000/\u00000\u0000\t\u00003\u0000/\u00003\u0000\t\u00001\u00005\u0000\t\u00006\u0000\t\u00001\u0000\t\u00001\u0000\t\u00001\u0000\n",
      "\u0000\n",
      "\u00002\u00000\u0000\t\u00002\u00000\u00001\u00006\u0000-\u00001\u00001\u0000-\u00002\u00006\u0000\t�x��\u0000 �\u0004�맰쑕�\u0000\t\u00003\u00006\u0000:\u00000\u00005\u0000\t\u00001\u00006\u0000\t\u00007\u0000/\u00001\u00003\u0000\t\u00000\u0000/\u00001\u0000\t\u00002\u0000/\u00002\u0000\t\u00001\u00002\u0000\t\u00000\u0000\t\u00001\u0000\t\u00002\u0000\t\u00002\u0000\n",
      "\u0000\n",
      "\u00002\u00000\u0000\t\u00002\u00000\u00001\u00006\u0000-\u00001\u00001\u0000-\u00002\u00003\u0000\t�\u001c",
      "틘\u0000 \u0000S\u0000K\u0000\t\u00003\u00003\u0000:\u00000\u00008\u0000\t\u00002\u00008\u0000\t\u00001\u00002\u0000/\u00001\u00008\u0000\t\u00000\u0000/\u00000\u0000\t\u00004\u0000/\u00005\u0000\t\u00001\u00009\u0000\t\u00002\u0000\t\u00001\u0000\t\u00000\u0000\t\u00001\u0000\n",
      "\u0000\n",
      "\u00002\u00000\u0000\t\u00002\u00000\u00001\u00006\u0000-\u00001\u00001\u0000-\u00002\u00000\u0000\t�=패\u0000 \u0000L\u0000G\u0000\t\u00003\u00004\u0000:\u00000\u00003\u0000\t\u00002\u00008\u0000\t\u00001\u00004\u0000/\u00001\u00007\u0000\t\u00000\u0000/\u00000\u0000\t\u00000\u0000/\u00001\u0000\t\u00001\u00003\u0000\t\u00000\u0000\t\u00002\u0000\t\u00002\u0000\t\u00002\u0000\n",
      "\u0000\n",
      "\u00002\u00000\u0000\t\u00002\u00000\u00001\u00006\u0000-\u00001\u00001\u0000-\u00001\u00009\u0000\t틘육\u0000 벰퐻짚\u0000\t\u00002\u00009\u0000:\u00000\u00000\u0000\t\u00001\u00000\u0000\t\u00004\u0000/\u00006\u0000\t\u00000\u0000/\u00000\u0000\t\u00002\u0000/\u00003\u0000\t\u00001\u00004\u0000\t\u00004\u0000\t\u00000\u0000\t\u00000\u0000\t\u00003\u0000\n",
      "\u0000\n",
      "\u00002\u00000\u0000\t\u00002\u00000\u00001\u00006\u0000-\u00001\u00001\u0000-\u00001\u00007\u0000\t�\u0004힙\u0000 \u0000K\u0000C\u0000C\u0000\t\u00003\u00008\u0000:\u00003\u00005\u0000\t\u00003\u00006\u0000\t\u00001\u00005\u0000/\u00002\u00000\u0000\t\u00000\u0000/\u00000\u0000\t\u00006\u0000/\u00006\u0000\t\u00001\u00001\u0000\t\u00000\u0000\t\u00000\u0000\t\u00003\u0000\t\u00002\u0000\n",
      "\u0000\n",
      "\u00002\u00000\u0000\t\u00002\u00000\u00001\u00006\u0000-\u00001\u00001\u0000-\u00001\u00003\u0000\t패힙\u0000 넨��\u0000\t\u00003\u00005\u0000:\u00002\u00008\u0000\t\u00002\u00007\u0000\t\u00001\u00001\u0000/\u00002\u00000\u0000\t\u00000\u0000/\u00001\u0000\t\u00005\u0000/\u00005\u0000\t\u00001\u00001\u0000\t\u00005\u0000\t\u00001\u0000\t\u00000\u0000\t\u00001\u0000\n",
      "\u0000\n",
      "\u00002\u00000\u0000\t\u00002\u00000\u00001\u00006\u0000-\u00001\u00001\u0000-\u00001\u00001\u0000\t�=패\u0000 \u0000L\u0000G\u0000\t\u00003\u00001\u0000:\u00003\u00003\u0000\t\u00002\u00009\u0000\t\u00001\u00004\u0000/\u00001\u00009\u0000\t\u00000\u0000/\u00000\u0000\t\u00001\u0000/\u00001\u0000\t\u00009\u0000\t\u00003\u0000\t\u00000\u0000\t\u00002\u0000\t\u00003\u0000\n",
      "\u0000\n",
      "\u00002\u00000\u0000\t\u00002\u00000\u00001\u00006\u0000-\u00001\u00001\u0000-\u00000\u00008\u0000\t�\u0004힙\u0000 \u0000K\u0000C\u0000C\u0000\t\u00002\u00005\u0000:\u00005\u00002\u0000\t\u00001\u00003\u0000\t\u00006\u0000/\u00008\u0000\t\u00000\u0000/\u00000\u0000\t\u00001\u0000/\u00002\u0000\t\u00007\u0000\t\u00003\u0000\t\u00001\u0000\t\u00002\u0000\t\u00006\u0000\n",
      "\u0000\n",
      "\u00002\u00000\u0000\t\u00002\u00000\u00001\u00006\u0000-\u00001\u00001\u0000-\u00000\u00006\u0000\t�\u001c",
      "틘\u0000 \u0000S\u0000K\u0000\t\u00004\u00000\u0000:\u00000\u00000\u0000\t\u00001\u00004\u0000\t\u00005\u0000/\u00001\u00000\u0000\t\u00000\u0000/\u00000\u0000\t\u00004\u0000/\u00006\u0000\t\u00001\u00002\u0000\t\u00003\u0000\t\u00001\u0000\t\u00002\u0000\t\u00001\u0000\n",
      "\u0000\n",
      "\u00002\u00000\u0000\t\u00002\u00000\u00001\u00006\u0000-\u00001\u00001\u0000-\u00000\u00004\u0000\t�x��\u0000 �\u0004�맰쑕�\u0000\t\u00002\u00005\u0000:\u00000\u00006\u0000\t\u00002\u00002\u0000\t\u00009\u0000/\u00001\u00001\u0000\t\u00000\u0000/\u00000\u0000\t\u00004\u0000/\u00005\u0000\t\u00008\u0000\t\u00000\u0000\t\u00000\u0000\t\u00000\u0000\t\u00004\u0000\n",
      "\u0000\n",
      "\u00002\u00000\u0000\t\u00002\u00000\u00001\u00006\u0000-\u00001\u00001\u0000-\u00000\u00002\u0000\tо흷\u0000 �$묵�(짚\u0000\t\u00005\u00000\u0000:\u00000\u00000\u0000\t\u00003\u00004\u0000\t\u00001\u00003\u0000/\u00001\u00008\u0000\t\u00000\u0000/\u00000\u0000\t\u00008\u0000/\u00001\u00002\u0000\t\u00001\u00002\u0000\t\u00000\u0000\t\u00000\u0000\t\u00000\u0000\t\u00004\u0000\n",
      "\u0000\n",
      "\u00002\u00000\u0000\t\u00002\u00000\u00001\u00006\u0000-\u00001\u00000\u0000-\u00002\u00009\u0000\t��육\u0000 \u0000K\u0000T\u0000\t\u00003\u00005\u0000:\u00002\u00003\u0000\t\u00002\u00007\u0000\t\u00001\u00003\u0000/\u00001\u00006\u0000\t\u00000\u0000/\u00000\u0000\t\u00001\u0000/\u00002\u0000\t\u00001\u00002\u0000\t\u00002\u0000\t\u00000\u0000\t\u00001\u0000\t\u00001\u0000\n",
      "\u0000\n",
      "\u00002\u00000\u0000\t\u00002\u00000\u00001\u00006\u0000-\u00001\u00000\u0000-\u00002\u00005\u0000\t휟흷\u0000 �x읊�塚�\u0000\t\u00003\u00005\u0000:\u00003\u00008\u0000\t\u00001\u00007\u0000\t\u00008\u0000/\u00001\u00001\u0000\t\u00000\u0000/\u00000\u0000\t\u00001\u0000/\u00004\u0000\t\u00001\u00001\u0000\t\u00004\u0000\t\u00000\u0000\t\u00001\u0000\t\u00000\u0000\n",
      "\u0000\n",
      "\u00002\u00000\u0000\t\u00002\u00000\u00001\u00006\u0000-\u00001\u00000\u0000-\u00002\u00003\u0000\t틘육\u0000 벰퐻짚\u0000\t\u00003\u00006\u0000:\u00003\u00008\u0000\t\u00001\u00009\u0000\t\u00007\u0000/\u00001\u00003\u0000\t\u00000\u0000/\u00000\u0000\t\u00005\u0000/\u00005\u0000\t\u00001\u00008\u0000\t\u00005\u0000\t\u00002\u0000\t\u00002\u0000\t\u00001\u0000\n",
      "\u0000\n",
      "\u00002\u00001\u0000\t\u00002\u00000\u00001\u00007\u0000-\u00000\u00001\u0000-\u00000\u00001\u0000\t�\u0004힙\u0000 \u0000K\u0000C\u0000C\u0000\t\u00004\u0000:\u00000\u00008\u0000\t\u00000\u0000\t\u00000\u0000/\u00001\u0000\t\u00000\u0000/\u00001\u0000\t\u00000\u0000/\u00000\u0000\t\u00000\u0000\t\u00000\u0000\t\u00000\u0000\t\u00000\u0000\t\u00000\u0000\n",
      "\u0000\n",
      "\u00002\u00001\u0000\t\u00002\u00000\u00001\u00006\u0000-\u00001\u00002\u0000-\u00003\u00000\u0000\t��육\u0000 \u0000K\u0000T\u0000\t\u00006\u0000:\u00001\u00000\u0000\t\u00000\u0000\t\u00000\u0000/\u00001\u0000\t\u00000\u0000/\u00000\u0000\t\u00000\u0000/\u00000\u0000\t\u00001\u0000\t\u00000\u0000\t\u00000\u0000\t\u00000\u0000\t\u00001\u0000\n",
      "\u0000\n",
      "\u00003\u00001\u0000\t\u00002\u00000\u00001\u00007\u0000-\u00000\u00002\u0000-\u00000\u00004\u0000\t��육\u0000 \u0000K\u0000T\u0000\t\u00001\u00002\u0000:\u00005\u00005\u0000\t\u00000\u0000\t\u00000\u0000/\u00004\u0000\t\u00000\u0000/\u00001\u0000\t\u00000\u0000/\u00000\u0000\t\u00001\u0000\t\u00000\u0000\t\u00001\u0000\t\u00000\u0000\t\u00000\u0000\n",
      "\u0000\n",
      "\u00003\u00001\u0000\t\u00002\u00000\u00001\u00007\u0000-\u00000\u00002\u0000-\u00000\u00002\u0000\t�x��\u0000 �\u0004�맰쑕�\u0000\t\u00002\u00004\u0000:\u00003\u00002\u0000\t\u00001\u00007\u0000\t\u00006\u0000/\u00001\u00006\u0000\t\u00000\u0000/\u00000\u0000\t\u00005\u0000/\u00005\u0000\t\u00006\u0000\t\u00001\u0000\t\u00000\u0000\t\u00000\u0000\t\u00003\u0000\n",
      "\u0000\n",
      "\u00003\u00001\u0000\t\u00002\u00000\u00001\u00007\u0000-\u00000\u00001\u0000-\u00003\u00000\u0000\t휟흷\u0000 �x읊�塚�\u0000\t\u00002\u00000\u0000:\u00000\u00000\u0000\t\u00002\u0000\t\u00001\u0000/\u00004\u0000\t\u00000\u0000/\u00001\u0000\t\u00000\u0000/\u00002\u0000\t\u00004\u0000\t\u00000\u0000\t\u00002\u0000\t\u00000\u0000\t\u00000\u0000\n",
      "\u0000\n",
      "\u00003\u00001\u0000\t\u00002\u00000\u00001\u00007\u0000-\u00000\u00001\u0000-\u00002\u00008\u0000\t패힙\u0000 넨��\u0000\t\u00002\u00004\u0000:\u00005\u00008\u0000\t\u00008\u0000\t\u00004\u0000/\u00007\u0000\t\u00000\u0000/\u00002\u0000\t\u00000\u0000/\u00000\u0000\t\u00001\u0000\t\u00001\u0000\t\u00002\u0000\t\u00000\u0000\t\u00002\u0000\n",
      "\u0000\n",
      "\u00003\u00001\u0000\t\u00002\u00000\u00001\u00007\u0000-\u00000\u00001\u0000-\u00002\u00005\u0000\t틘육\u0000 벰퐻짚\u0000\t\u00002\u00006\u0000:\u00004\u00006\u0000\t\u00002\u00002\u0000\t\u00001\u00001\u0000/\u00001\u00002\u0000\t\u00000\u0000/\u00001\u0000\t\u00000\u0000/\u00000\u0000\t\u00007\u0000\t\u00000\u0000\t\u00001\u0000\t\u00000\u0000\t\u00002\u0000\n",
      "\u0000\n",
      "\u00003\u00001\u0000\t\u00002\u00000\u00001\u00007\u0000-\u00000\u00001\u0000-\u00001\u00007\u0000\t�=패\u0000 \u0000L\u0000G\u0000\t\u00002\u00002\u0000:\u00001\u00000\u0000\t\u00009\u0000\t\u00004\u0000/\u00009\u0000\t\u00000\u0000/\u00000\u0000\t\u00001\u0000/\u00001\u0000\t\u00002\u0000\t\u00001\u0000\t\u00000\u0000\t\u00001\u0000\t\u00004\u0000\n",
      "\u0000\n",
      "\u00003\u00001\u0000\t\u00002\u00000\u00001\u00007\u0000-\u00000\u00001\u0000-\u00001\u00004\u0000\tо흷\u0000 �$묵�(짚\u0000\t\u00002\u00003\u0000:\u00000\u00008\u0000\t\u00001\u00005\u0000\t\u00005\u0000/\u00008\u0000\t\u00001\u0000/\u00002\u0000\t\u00002\u0000/\u00003\u0000\t\u00003\u0000\t\u00001\u0000\t\u00000\u0000\t\u00004\u0000\t\u00001\u0000\n",
      "\u0000\n",
      "\u00003\u00001\u0000\t\u00002\u00000\u00001\u00007\u0000-\u00000\u00001\u0000-\u00001\u00002\u0000\t�\u0004힙\u0000 \u0000K\u0000C\u0000C\u0000\t\u00001\u00004\u0000:\u00001\u00001\u0000\t\u00003\u0000\t\u00001\u0000/\u00006\u0000\t\u00000\u0000/\u00001\u0000\t\u00001\u0000/\u00002\u0000\t\u00004\u0000\t\u00000\u0000\t\u00000\u0000\t\u00000\u0000\t\u00001\u0000\n",
      "\u0000\n",
      "\u00003\u00001\u0000\t\u00002\u00000\u00001\u00007\u0000-\u00000\u00001\u0000-\u00001\u00000\u0000\t�\u001c",
      "틘\u0000 \u0000S\u0000K\u0000\t\u00002\u00001\u0000:\u00001\u00000\u0000\t\u00001\u00003\u0000\t\u00003\u0000/\u00005\u0000\t\u00002\u0000/\u00003\u0000\t\u00001\u0000/\u00002\u0000\t\u00005\u0000\t\u00000\u0000\t\u00001\u0000\t\u00001\u0000\t\u00003\u0000\n",
      "\u0000\n",
      "\u00003\u00001\u0000\t\u00002\u00000\u00001\u00007\u0000-\u00000\u00001\u0000-\u00000\u00007\u0000\t틘육\u0000 벰퐻짚\u0000\t\u00002\u00005\u0000:\u00000\u00004\u0000\t\u00001\u00002\u0000\t\u00006\u0000/\u00001\u00000\u0000\t\u00000\u0000/\u00000\u0000\t\u00000\u0000/\u00000\u0000\t\u00004\u0000\t\u00000\u0000\t\u00000\u0000\t\u00000\u0000\t\u00000\u0000\n",
      "\u0000\n",
      "\u00003\u00001\u0000\t\u00002\u00000\u00001\u00007\u0000-\u00000\u00001\u0000-\u00000\u00004\u0000\t�x��\u0000 �\u0004�맰쑕�\u0000\t\u00002\u00000\u0000:\u00004\u00001\u0000\t\u00001\u00002\u0000\t\u00002\u0000/\u00003\u0000\t\u00001\u0000/\u00002\u0000\t\u00005\u0000/\u00005\u0000\t\u00004\u0000\t\u00000\u0000\t\u00000\u0000\t\u00001\u0000\t\u00002\u0000\n",
      "\u0000\n",
      "\u00003\u00001\u0000\t\u00002\u00000\u00001\u00007\u0000-\u00000\u00001\u0000-\u00000\u00001\u0000\t�\u0004힙\u0000 \u0000K\u0000C\u0000C\u0000\t\u00002\u00001\u0000:\u00003\u00002\u0000\t\u00001\u00008\u0000\t\u00006\u0000/\u00008\u0000\t\u00002\u0000/\u00002\u0000\t\u00000\u0000/\u00000\u0000\t\u00004\u0000\t\u00000\u0000\t\u00000\u0000\t\u00000\u0000\t\u00001\u0000\n",
      "\u0000\n",
      "\u00003\u00001\u0000\t\u00002\u00000\u00001\u00006\u0000-\u00001\u00002\u0000-\u00003\u00000\u0000\t��육\u0000 \u0000K\u0000T\u0000\t\u00001\u00009\u0000:\u00003\u00004\u0000\t\u00003\u0000\t\u00001\u0000/\u00005\u0000\t\u00000\u0000/\u00000\u0000\t\u00001\u0000/\u00002\u0000\t\u00002\u0000\t\u00001\u0000\t\u00000\u0000\t\u00003\u0000\t\u00002\u0000\n",
      "\u0000\n",
      "\u00003\u00001\u0000\t\u00002\u00000\u00001\u00006\u0000-\u00001\u00002\u0000-\u00002\u00005\u0000\t�\u001c",
      "틘\u0000 \u0000S\u0000K\u0000\t\u00002\u00000\u0000:\u00001\u00008\u0000\t\u00002\u0000\t\u00001\u0000/\u00004\u0000\t\u00000\u0000/\u00000\u0000\t\u00000\u0000/\u00000\u0000\t\u00001\u0000\t\u00000\u0000\t\u00000\u0000\t\u00002\u0000\t\u00000\u0000\n",
      "\u0000\n",
      "\u00003\u00001\u0000\t\u00002\u00000\u00001\u00006\u0000-\u00001\u00002\u0000-\u00002\u00003\u0000\t휟흷\u0000 �x읊�塚�\u0000\t\u00002\u00002\u0000:\u00003\u00004\u0000\t\u00001\u00000\u0000\t\u00004\u0000/\u00007\u0000\t\u00000\u0000/\u00000\u0000\t\u00002\u0000/\u00002\u0000\t\u00001\u0000\t\u00000\u0000\t\u00002\u0000\t\u00000\u0000\t\u00002\u0000\n",
      "\u0000\n",
      "\u00003\u00001\u0000\t\u00002\u00000\u00001\u00006\u0000-\u00001\u00002\u0000-\u00002\u00001\u0000\tо흷\u0000 �$묵�(짚\u0000\t\u00002\u00000\u0000:\u00000\u00000\u0000\t\u00001\u00005\u0000\t\u00007\u0000/\u00001\u00001\u0000\t\u00000\u0000/\u00000\u0000\t\u00001\u0000/\u00002\u0000\t\u00008\u0000\t\u00001\u0000\t\u00000\u0000\t\u00000\u0000\t\u00000\u0000\n",
      "\u0000\n",
      "\u00003\u00001\u0000\t\u00002\u00000\u00001\u00006\u0000-\u00001\u00002\u0000-\u00001\u00008\u0000\t�=패\u0000 \u0000L\u0000G\u0000\t\u00002\u00002\u0000:\u00000\u00003\u0000\t\u00005\u0000\t\u00001\u0000/\u00004\u0000\t\u00001\u0000/\u00002\u0000\t\u00000\u0000/\u00000\u0000\t\u00002\u0000\t\u00001\u0000\t\u00000\u0000\t\u00000\u0000\t\u00001\u0000\n",
      "\u0000\n",
      "\u00003\u00001\u0000\t\u00002\u00000\u00001\u00006\u0000-\u00001\u00002\u0000-\u00001\u00006\u0000\t패힙\u0000 넨��\u0000\t\u00002\u00000\u0000:\u00003\u00008\u0000\t\u00005\u0000\t\u00002\u0000/\u00008\u0000\t\u00000\u0000/\u00000\u0000\t\u00001\u0000/\u00002\u0000\t\u00006\u0000\t\u00001\u0000\t\u00000\u0000\t\u00001\u0000\t\u00003\u0000\n",
      "\u0000\n",
      "\u00003\u00001\u0000\t\u00002\u00000\u00001\u00006\u0000-\u00001\u00002\u0000-\u00001\u00000\u0000\t��육\u0000 \u0000K\u0000T\u0000\t\u00002\u00001\u0000:\u00000\u00007\u0000\t\u00001\u00004\u0000\t\u00004\u0000/\u00008\u0000\t\u00002\u0000/\u00002\u0000\t\u00000\u0000/\u00000\u0000\t\u00004\u0000\t\u00001\u0000\t\u00000\u0000\t\u00002\u0000\t\u00002\u0000\n",
      "\u0000\n",
      "\u00003\u00001\u0000\t\u00002\u00000\u00001\u00006\u0000-\u00001\u00002\u0000-\u00000\u00004\u0000\tо흷\u0000 �$묵�(짚\u0000\t\u00002\u00001\u0000:\u00000\u00007\u0000\t\u00001\u00001\u0000\t\u00005\u0000/\u00001\u00001\u0000\t\u00000\u0000/\u00000\u0000\t\u00001\u0000/\u00001\u0000\t\u00003\u0000\t\u00002\u0000\t\u00000\u0000\t\u00000\u0000\t\u00001\u0000\n",
      "\u0000\n",
      "\u00003\u00001\u0000\t\u00002\u00000\u00001\u00006\u0000-\u00001\u00002\u0000-\u00000\u00003\u0000\t휟흷\u0000 �x읊�塚�\u0000\t\u00002\u00000\u0000:\u00002\u00009\u0000\t\u00001\u00006\u0000\t\u00006\u0000/\u00009\u0000\t\u00000\u0000/\u00000\u0000\t\u00004\u0000/\u00007\u0000\t\u00004\u0000\t\u00001\u0000\t\u00000\u0000\t\u00002\u0000\t\u00002\u0000\n",
      "\u0000\n",
      "\u00003\u00001\u0000\t\u00002\u00000\u00001\u00006\u0000-\u00001\u00002\u0000-\u00000\u00001\u0000\t패힙\u0000 넨��\u0000\t\u00002\u00000\u0000:\u00003\u00001\u0000\t\u00001\u00002\u0000\t\u00005\u0000/\u00007\u0000\t\u00000\u0000/\u00000\u0000\t\u00002\u0000/\u00002\u0000\t\u00001\u0000\t\u00000\u0000\t\u00000\u0000\t\u00001\u0000\t\u00001\u0000\n",
      "\u0000\n",
      "\u00003\u00001\u0000\t\u00002\u00000\u00001\u00006\u0000-\u00001\u00001\u0000-\u00002\u00006\u0000\t�x��\u0000 �\u0004�맰쑕�\u0000\t\u00002\u00000\u0000:\u00000\u00000\u0000\t\u00004\u0000\t\u00002\u0000/\u00003\u0000\t\u00000\u0000/\u00000\u0000\t\u00000\u0000/\u00000\u0000\t\u00002\u0000\t\u00001\u0000\t\u00000\u0000\t\u00001\u0000\t\u00003\u0000\n",
      "\u0000\n",
      "\u00003\u00001\u0000\t\u00002\u00000\u00001\u00006\u0000-\u00001\u00001\u0000-\u00002\u00003\u0000\t�\u001c",
      "틘\u0000 \u0000S\u0000K\u0000\t\u00001\u00005\u0000:\u00005\u00001\u0000\t\u00005\u0000\t\u00002\u0000/\u00006\u0000\t\u00000\u0000/\u00001\u0000\t\u00001\u0000/\u00002\u0000\t\u00006\u0000\t\u00000\u0000\t\u00001\u0000\t\u00000\u0000\t\u00002\u0000\n",
      "\u0000\n",
      "\u00003\u00001\u0000\t\u00002\u00000\u00001\u00006\u0000-\u00001\u00001\u0000-\u00002\u00000\u0000\t�=패\u0000 \u0000L\u0000G\u0000\t\u00002\u00000\u0000:\u00004\u00000\u0000\t\u00009\u0000\t\u00004\u0000/\u00008\u0000\t\u00000\u0000/\u00000\u0000\t\u00001\u0000/\u00001\u0000\t\u00001\u0000\t\u00003\u0000\t\u00000\u0000\t\u00001\u0000\t\u00002\u0000\n",
      "\u0000\n",
      "\u00003\u00001\u0000\t\u00002\u00000\u00001\u00006\u0000-\u00001\u00001\u0000-\u00001\u00009\u0000\t틘육\u0000 벰퐻짚\u0000\t\u00002\u00001\u0000:\u00002\u00004\u0000\t\u00001\u00001\u0000\t\u00004\u0000/\u00001\u00000\u0000\t\u00000\u0000/\u00001\u0000\t\u00003\u0000/\u00003\u0000\t\u00006\u0000\t\u00000\u0000\t\u00000\u0000\t\u00000\u0000\t\u00000\u0000\n",
      "\u0000\n",
      "\u00003\u00001\u0000\t\u00002\u00000\u00001\u00006\u0000-\u00001\u00001\u0000-\u00001\u00007\u0000\t�\u0004힙\u0000 \u0000K\u0000C\u0000C\u0000\t\u00002\u00003\u0000:\u00001\u00002\u0000\t\u00001\u00006\u0000\t\u00007\u0000/\u00001\u00001\u0000\t\u00000\u0000/\u00001\u0000\t\u00002\u0000/\u00002\u0000\t\u00003\u0000\t\u00001\u0000\t\u00000\u0000\t\u00000\u0000\t\u00002\u0000\n",
      "\u0000\n",
      "\u00003\u00001\u0000\t\u00002\u00000\u00001\u00006\u0000-\u00001\u00001\u0000-\u00001\u00003\u0000\t패힙\u0000 넨��\u0000\t\u00002\u00000\u0000:\u00000\u00000\u0000\t\u00002\u0000\t\u00001\u0000/\u00002\u0000\t\u00000\u0000/\u00001\u0000\t\u00000\u0000/\u00000\u0000\t\u00001\u0000\t\u00001\u0000\t\u00001\u0000\t\u00001\u0000\t\u00000\u0000\n",
      "\u0000\n",
      "\u00003\u00001\u0000\t\u00002\u00000\u00001\u00006\u0000-\u00001\u00001\u0000-\u00001\u00001\u0000\t�=패\u0000 \u0000L\u0000G\u0000\t\u00002\u00000\u0000:\u00000\u00000\u0000\t\u00009\u0000\t\u00003\u0000/\u00005\u0000\t\u00001\u0000/\u00001\u0000\t\u00000\u0000/\u00000\u0000\t\u00005\u0000\t\u00001\u0000\t\u00001\u0000\t\u00000\u0000\t\u00003\u0000\n",
      "\u0000\n",
      "\u00003\u00001\u0000\t\u00002\u00000\u00001\u00006\u0000-\u00001\u00001\u0000-\u00000\u00008\u0000\t�\u0004힙\u0000 \u0000K\u0000C\u0000C\u0000\t\u00001\u00006\u0000:\u00003\u00000\u0000\t\u00002\u0000\t\u00001\u0000/\u00003\u0000\t\u00000\u0000/\u00000\u0000\t\u00000\u0000/\u00000\u0000\t\u00005\u0000\t\u00001\u0000\t\u00000\u0000\t\u00000\u0000\t\u00001\u0000\n",
      "\u0000\n",
      "\u00003\u00001\u0000\t\u00002\u00000\u00001\u00006\u0000-\u00001\u00001\u0000-\u00000\u00006\u0000\t�\u001c",
      "틘\u0000 \u0000S\u0000K\u0000\t\u00002\u00003\u0000:\u00003\u00003\u0000\t\u00007\u0000\t\u00003\u0000/\u00007\u0000\t\u00000\u0000/\u00001\u0000\t\u00001\u0000/\u00002\u0000\t\u00002\u0000\t\u00001\u0000\t\u00000\u0000\t\u00000\u0000\t\u00001\u0000\n",
      "\u0000\n",
      "\u00003\u00001\u0000\t\u00002\u00000\u00001\u00006\u0000-\u00001\u00001\u0000-\u00000\u00004\u0000\t�x��\u0000 �\u0004�맰쑕�\u0000\t\u00003\u00001\u0000:\u00003\u00003\u0000\t\u00001\u00007\u0000\t\u00008\u0000/\u00001\u00005\u0000\t\u00000\u0000/\u00000\u0000\t\u00001\u0000/\u00004\u0000\t\u00006\u0000\t\u00001\u0000\t\u00001\u0000\t\u00001\u0000\t\u00002\u0000\n",
      "\u0000\n",
      "\u00003\u00001\u0000\t\u00002\u00000\u00001\u00006\u0000-\u00001\u00001\u0000-\u00000\u00002\u0000\tо흷\u0000 �$묵�(짚\u0000\t\u00003\u00002\u0000:\u00000\u00001\u0000\t\u00001\u00001\u0000\t\u00005\u0000/\u00009\u0000\t\u00000\u0000/\u00004\u0000\t\u00001\u0000/\u00002\u0000\t\u00005\u0000\t\u00002\u0000\t\u00000\u0000\t\u00001\u0000\t\u00001\u0000\n",
      "\u0000\n",
      "\u00003\u00001\u0000\t\u00002\u00000\u00001\u00006\u0000-\u00001\u00000\u0000-\u00002\u00009\u0000\t��육\u0000 \u0000K\u0000T\u0000\t\u00002\u00003\u0000:\u00000\u00003\u0000\t\u00009\u0000\t\u00003\u0000/\u00007\u0000\t\u00001\u0000/\u00001\u0000\t\u00000\u0000/\u00000\u0000\t\u00009\u0000\t\u00002\u0000\t\u00001\u0000\t\u00000\u0000\t\u00003\u0000\n",
      "\u0000\n",
      "\u00003\u00001\u0000\t\u00002\u00000\u00001\u00006\u0000-\u00001\u00000\u0000-\u00002\u00005\u0000\t휟흷\u0000 �x읊�塚�\u0000\t\u00002\u00000\u0000:\u00000\u00000\u0000\t\u00001\u00006\u0000\t\u00004\u0000/\u00005\u0000\t\u00001\u0000/\u00001\u0000\t\u00005\u0000/\u00006\u0000\t\u00003\u0000\t\u00000\u0000\t\u00000\u0000\t\u00000\u0000\t\u00000\u0000\n",
      "\u0000\n",
      "\u00003\u00001\u0000\t\u00002\u00000\u00001\u00006\u0000-\u00001\u00000\u0000-\u00002\u00003\u0000\t틘육\u0000 벰퐻짚\u0000\t\u00002\u00000\u0000:\u00001\u00009\u0000\t\u00001\u00002\u0000\t\u00005\u0000/\u00005\u0000\t\u00000\u0000/\u00001\u0000\t\u00002\u0000/\u00003\u0000\t\u00001\u0000\t\u00000\u0000\t\u00000\u0000\t\u00003\u0000\t\u00001\u0000\n",
      "\u0000\n",
      "\u00003\u00002\u0000\t\u00002\u00000\u00001\u00007\u0000-\u00000\u00002\u0000-\u00000\u00004\u0000\t��육\u0000 \u0000K\u0000T\u0000\t\u00002\u00000\u0000:\u00004\u00008\u0000\t\u00001\u00000\u0000\t\u00005\u0000/\u00001\u00002\u0000\t\u00000\u0000/\u00000\u0000\t\u00000\u0000/\u00001\u0000\t\u00007\u0000\t\u00006\u0000\t\u00003\u0000\t\u00000\u0000\t\u00004\u0000\n",
      "\u0000\n",
      "\u00003\u00002\u0000\t\u00002\u00000\u00001\u00007\u0000-\u00000\u00002\u0000-\u00000\u00002\u0000\t�x��\u0000 �\u0004�맰쑕�\u0000\t\u00002\u00004\u0000:\u00000\u00008\u0000\t\u00001\u00000\u0000\t\u00003\u0000/\u00009\u0000\t\u00001\u0000/\u00002\u0000\t\u00001\u0000/\u00001\u0000\t\u00003\u0000\t\u00002\u0000\t\u00002\u0000\t\u00000\u0000\t\u00003\u0000\n",
      "\u0000\n",
      "\u00003\u00002\u0000\t\u00002\u00000\u00001\u00007\u0000-\u00000\u00001\u0000-\u00003\u00000\u0000\t휟흷\u0000 �x읊�塚�\u0000\t\u00002\u00000\u0000:\u00000\u00000\u0000\t\u00001\u00001\u0000\t\u00005\u0000/\u00001\u00000\u0000\t\u00000\u0000/\u00001\u0000\t\u00001\u0000/\u00002\u0000\t\u00006\u0000\t\u00004\u0000\t\u00001\u0000\t\u00000\u0000\t\u00006\u0000\n",
      "\u0000\n",
      "\u00003\u00002\u0000\t\u00002\u00000\u00001\u00007\u0000-\u00000\u00001\u0000-\u00002\u00008\u0000\t패힙\u0000 넨��\u0000\t\u00002\u00002\u0000:\u00000\u00005\u0000\t\u00001\u00000\u0000\t\u00002\u0000/\u00006\u0000\t\u00002\u0000/\u00004\u0000\t\u00000\u0000/\u00000\u0000\t\u00006\u0000\t\u00007\u0000\t\u00003\u0000\t\u00001\u0000\t\u00003\u0000\n",
      "\u0000\n",
      "\u00003\u00002\u0000\t\u00002\u00000\u00001\u00007\u0000-\u00000\u00001\u0000-\u00002\u00005\u0000\t틘육\u0000 벰퐻짚\u0000\t\u00001\u00008\u0000:\u00001\u00006\u0000\t\u00009\u0000\t\u00003\u0000/\u00007\u0000\t\u00001\u0000/\u00001\u0000\t\u00000\u0000/\u00000\u0000\t\u00003\u0000\t\u00005\u0000\t\u00000\u0000\t\u00001\u0000\t\u00002\u0000\n",
      "\u0000\n",
      "\u00003\u00002\u0000\t\u00002\u00000\u00001\u00007\u0000-\u00000\u00001\u0000-\u00001\u00007\u0000\t�=패\u0000 \u0000L\u0000G\u0000\t\u00002\u00001\u0000:\u00003\u00000\u0000\t\u00001\u00005\u0000\t\u00005\u0000/\u00001\u00002\u0000\t\u00001\u0000/\u00001\u0000\t\u00002\u0000/\u00002\u0000\t\u00004\u0000\t\u00001\u0000\t\u00000\u0000\t\u00001\u0000\t\u00004\u0000\n",
      "\u0000\n",
      "\u00003\u00002\u0000\t\u00002\u00000\u00001\u00007\u0000-\u00000\u00001\u0000-\u00001\u00004\u0000\tо흷\u0000 �$묵�(짚\u0000\t\u00002\u00000\u0000:\u00000\u00000\u0000\t\u00007\u0000\t\u00003\u0000/\u00001\u00001\u0000\t\u00000\u0000/\u00003\u0000\t\u00001\u0000/\u00002\u0000\t\u00005\u0000\t\u00001\u0000\t\u00002\u0000\t\u00001\u0000\t\u00004\u0000\n",
      "\u0000\n",
      "\u00003\u00002\u0000\t\u00002\u00000\u00001\u00007\u0000-\u00000\u00001\u0000-\u00001\u00002\u0000\t�\u0004힙\u0000 \u0000K\u0000C\u0000C\u0000\t\u00002\u00002\u0000:\u00000\u00005\u0000\t\u00002\u00000\u0000\t\u00007\u0000/\u00001\u00000\u0000\t\u00001\u0000/\u00002\u0000\t\u00003\u0000/\u00003\u0000\t\u00009\u0000\t\u00001\u0000\t\u00004\u0000\t\u00001\u0000\t\u00008\u0000\n",
      "\u0000\n",
      "\u00003\u00002\u0000\t\u00002\u00000\u00001\u00007\u0000-\u00000\u00001\u0000-\u00001\u00000\u0000\t�\u001c",
      "틘\u0000 \u0000S\u0000K\u0000\t\u00002\u00002\u0000:\u00000\u00003\u0000\t\u00004\u0000\t\u00001\u0000/\u00004\u0000\t\u00000\u0000/\u00000\u0000\t\u00002\u0000/\u00002\u0000\t\u00005\u0000\t\u00009\u0000\t\u00001\u0000\t\u00000\u0000\t\u00003\u0000\n",
      "\u0000\n",
      "\u00003\u00002\u0000\t\u00002\u00000\u00001\u00007\u0000-\u00000\u00001\u0000-\u00000\u00007\u0000\t틘육\u0000 벰퐻짚\u0000\t\u00002\u00007\u0000:\u00004\u00009\u0000\t\u00001\u00000\u0000\t\u00005\u0000/\u00001\u00003\u0000\t\u00000\u0000/\u00001\u0000\t\u00000\u0000/\u00000\u0000\t\u00006\u0000\t\u00009\u0000\t\u00002\u0000\t\u00002\u0000\t\u00002\u0000\n",
      "\u0000\n",
      "\u00003\u00002\u0000\t\u00002\u00000\u00001\u00007\u0000-\u00000\u00001\u0000-\u00000\u00004\u0000\t�x��\u0000 �\u0004�맰쑕�\u0000\t\u00002\u00000\u0000:\u00005\u00001\u0000\t\u00001\u00008\u0000\t\u00005\u0000/\u00007\u0000\t\u00002\u0000/\u00003\u0000\t\u00002\u0000/\u00003\u0000\t\u00003\u0000\t\u00004\u0000\t\u00000\u0000\t\u00000\u0000\t\u00002\u0000\n",
      "\u0000\n",
      "\u00003\u00002\u0000\t\u00002\u00000\u00001\u00007\u0000-\u00000\u00001\u0000-\u00000\u00001\u0000\t�\u0004힙\u0000 \u0000K\u0000C\u0000C\u0000\t\u00002\u00002\u0000:\u00002\u00000\u0000\t\u00006\u0000\t\u00003\u0000/\u00005\u0000\t\u00000\u0000/\u00000\u0000\t\u00000\u0000/\u00000\u0000\t\u00005\u0000\t\u00006\u0000\t\u00003\u0000\t\u00002\u0000\t\u00006\u0000\n",
      "\u0000\n",
      "\u00003\u00002\u0000\t\u00002\u00000\u00001\u00006\u0000-\u00001\u00002\u0000-\u00003\u00000\u0000\t��육\u0000 \u0000K\u0000T\u0000\t\u00002\u00006\u0000:\u00002\u00004\u0000\t\u00002\u00002\u0000\t\u00008\u0000/\u00009\u0000\t\u00002\u0000/\u00004\u0000\t\u00000\u0000/\u00000\u0000\t\u00001\u00000\u0000\t\u00001\u00000\u0000\t\u00000\u0000\t\u00001\u0000\t\u00003\u0000\n",
      "\u0000\n",
      "\u00003\u00002\u0000\t\u00002\u00000\u00001\u00006\u0000-\u00001\u00002\u0000-\u00002\u00005\u0000\t�\u001c",
      "틘\u0000 \u0000S\u0000K\u0000\t\u00002\u00009\u0000:\u00004\u00009\u0000\t\u00002\u00001\u0000\t\u00007\u0000/\u00001\u00007\u0000\t\u00000\u0000/\u00000\u0000\t\u00007\u0000/\u00008\u0000\t\u00001\u00002\u0000\t\u00005\u0000\t\u00001\u0000\t\u00002\u0000\t\u00004\u0000\n",
      "\u0000\n",
      "\u00003\u00002\u0000\t\u00002\u00000\u00001\u00006\u0000-\u00001\u00002\u0000-\u00002\u00003\u0000\t휟흷\u0000 �x읊�塚�\u0000\t\u00002\u00001\u0000:\u00005\u00004\u0000\t\u00001\u00002\u0000\t\u00004\u0000/\u00007\u0000\t\u00000\u0000/\u00000\u0000\t\u00004\u0000/\u00004\u0000\t\u00008\u0000\t\u00001\u00001\u0000\t\u00003\u0000\t\u00000\u0000\t\u00004\u0000\n",
      "\u0000\n",
      "\u00003\u00002\u0000\t\u00002\u00000\u00001\u00006\u0000-\u00001\u00002\u0000-\u00002\u00001\u0000\tо흷\u0000 �$묵�(짚\u0000\t\u00002\u00002\u0000:\u00002\u00007\u0000\t\u00001\u00007\u0000\t\u00006\u0000/\u00001\u00001\u0000\t\u00000\u0000/\u00002\u0000\t\u00005\u0000/\u00007\u0000\t\u00005\u0000\t\u00002\u0000\t\u00000\u0000\t\u00000\u0000\t\u00002\u0000\n",
      "\u0000\n",
      "\u00003\u00002\u0000\t\u00002\u00000\u00001\u00006\u0000-\u00001\u00002\u0000-\u00001\u00008\u0000\t�=패\u0000 \u0000L\u0000G\u0000\t\u00002\u00000\u0000:\u00003\u00002\u0000\t\u00007\u0000\t\u00003\u0000/\u00001\u00002\u0000\t\u00000\u0000/\u00000\u0000\t\u00001\u0000/\u00004\u0000\t\u00004\u0000\t\u00003\u0000\t\u00002\u0000\t\u00000\u0000\t\u00002\u0000\n",
      "\u0000\n",
      "\u00003\u00002\u0000\t\u00002\u00000\u00001\u00006\u0000-\u00001\u00002\u0000-\u00001\u00006\u0000\t패힙\u0000 넨��\u0000\t\u00002\u00006\u0000:\u00001\u00009\u0000\t\u00001\u00006\u0000\t\u00003\u0000/\u00008\u0000\t\u00002\u0000/\u00002\u0000\t\u00004\u0000/\u00006\u0000\t\u00005\u0000\t\u00007\u0000\t\u00003\u0000\t\u00001\u0000\t\u00003\u0000\n",
      "\u0000\n",
      "\u00003\u00002\u0000\t\u00002\u00000\u00001\u00006\u0000-\u00001\u00002\u0000-\u00001\u00000\u0000\t��육\u0000 \u0000K\u0000T\u0000\t\u00002\u00001\u0000:\u00003\u00003\u0000\t\u00001\u00000\u0000\t\u00004\u0000/\u00009\u0000\t\u00000\u0000/\u00001\u0000\t\u00002\u0000/\u00004\u0000\t\u00009\u0000\t\u00006\u0000\t\u00003\u0000\t\u00000\u0000\t\u00001\u0000\n",
      "\u0000\n",
      "\u00003\u00002\u0000\t\u00002\u00000\u00001\u00006\u0000-\u00001\u00002\u0000-\u00000\u00004\u0000\tо흷\u0000 �$묵�(짚\u0000\t\u00002\u00007\u0000:\u00001\u00004\u0000\t\u00001\u00002\u0000\t\u00004\u0000/\u00001\u00003\u0000\t\u00000\u0000/\u00001\u0000\t\u00004\u0000/\u00008\u0000\t\u00008\u0000\t\u00006\u0000\t\u00000\u0000\t\u00000\u0000\t\u00004\u0000\n",
      "\u0000\n",
      "\u00003\u00002\u0000\t\u00002\u00000\u00001\u00006\u0000-\u00001\u00002\u0000-\u00000\u00003\u0000\t휟흷\u0000 �x읊�塚�\u0000\t\u00002\u00002\u0000:\u00000\u00002\u0000\t\u00006\u0000\t\u00003\u0000/\u00008\u0000\t\u00000\u0000/\u00000\u0000\t\u00000\u0000/\u00002\u0000\t\u00005\u0000\t\u00002\u0000\t\u00001\u0000\t\u00000\u0000\t\u00004\u0000\n",
      "\u0000\n",
      "\u00003\u00002\u0000\t\u00002\u00000\u00001\u00006\u0000-\u00001\u00002\u0000-\u00000\u00001\u0000\t패힙\u0000 넨��\u0000\t\u00002\u00005\u0000:\u00001\u00006\u0000\t\u00002\u00003\u0000\t\u00008\u0000/\u00001\u00004\u0000\t\u00000\u0000/\u00000\u0000\t\u00007\u0000/\u00009\u0000\t\u00008\u0000\t\u00003\u0000\t\u00002\u0000\t\u00000\u0000\t\u00002\u0000\n",
      "\u0000\n",
      "\u00003\u00002\u0000\t\u00002\u00000\u00001\u00006\u0000-\u00001\u00001\u0000-\u00002\u00006\u0000\t�x��\u0000 �\u0004�맰쑕�\u0000\t\u00002\u00003\u0000:\u00005\u00005\u0000\t\u00001\u00005\u0000\t\u00006\u0000/\u00001\u00000\u0000\t\u00001\u0000/\u00003\u0000\t\u00000\u0000/\u00000\u0000\t\u00004\u0000\t\u00007\u0000\t\u00002\u0000\t\u00000\u0000\t\u00003\u0000\n",
      "\u0000\n",
      "\u00003\u00002\u0000\t\u00002\u00000\u00001\u00006\u0000-\u00001\u00001\u0000-\u00002\u00003\u0000\t�\u001c",
      "틘\u0000 \u0000S\u0000K\u0000\t\u00002\u00005\u0000:\u00001\u00002\u0000\t\u00001\u00007\u0000\t\u00007\u0000/\u00009\u0000\t\u00001\u0000/\u00002\u0000\t\u00000\u0000/\u00000\u0000\t\u00007\u0000\t\u00008\u0000\t\u00000\u0000\t\u00000\u0000\t\u00003\u0000\n",
      "\u0000\n",
      "\u00003\u00002\u0000\t\u00002\u00000\u00001\u00006\u0000-\u00001\u00001\u0000-\u00002\u00000\u0000\t�=패\u0000 \u0000L\u0000G\u0000\t\u00002\u00005\u0000:\u00001\u00001\u0000\t\u00002\u00004\u0000\t\u00009\u0000/\u00001\u00002\u0000\t\u00000\u0000/\u00001\u0000\t\u00006\u0000/\u00006\u0000\t\u00008\u0000\t\u00005\u0000\t\u00000\u0000\t\u00000\u0000\t\u00004\u0000\n",
      "\u0000\n",
      "\u00003\u00002\u0000\t\u00002\u00000\u00001\u00006\u0000-\u00001\u00001\u0000-\u00001\u00009\u0000\t틘육\u0000 벰퐻짚\u0000\t\u00002\u00002\u0000:\u00005\u00004\u0000\t\u00001\u00004\u0000\t\u00005\u0000/\u00001\u00000\u0000\t\u00000\u0000/\u00000\u0000\t\u00004\u0000/\u00006\u0000\t\u00008\u0000\t\u00005\u0000\t\u00001\u0000\t\u00000\u0000\t\u00004\u0000\n",
      "\u0000\n",
      "\u00003\u00002\u0000\t\u00002\u00000\u00001\u00006\u0000-\u00001\u00001\u0000-\u00001\u00007\u0000\t�\u0004힙\u0000 \u0000K\u0000C\u0000C\u0000\t\u00001\u00008\u0000:\u00001\u00003\u0000\t\u00008\u0000\t\u00004\u0000/\u00009\u0000\t\u00000\u0000/\u00002\u0000\t\u00000\u0000/\u00000\u0000\t\u00005\u0000\t\u00004\u0000\t\u00001\u0000\t\u00000\u0000\t\u00002\u0000\n",
      "\u0000\n",
      "\u00003\u00002\u0000\t\u00002\u00000\u00001\u00006\u0000-\u00001\u00001\u0000-\u00001\u00003\u0000\t패힙\u0000 넨��\u0000\t\u00002\u00004\u0000:\u00003\u00002\u0000\t\u00002\u00000\u0000\t\u00009\u0000/\u00001\u00006\u0000\t\u00000\u0000/\u00000\u0000\t\u00002\u0000/\u00004\u0000\t\u00006\u0000\t\u00002\u0000\t\u00001\u0000\t\u00000\u0000\t\u00000\u0000\n",
      "\u0000\n",
      "\u00003\u00002\u0000\t\u00002\u00000\u00001\u00006\u0000-\u00001\u00001\u0000-\u00001\u00001\u0000\t�=패\u0000 \u0000L\u0000G\u0000\t\u00002\u00006\u0000:\u00005\u00009\u0000\t\u00001\u00001\u0000\t\u00002\u0000/\u00001\u00000\u0000\t\u00000\u0000/\u00000\u0000\t\u00007\u0000/\u00009\u0000\t\u00008\u0000\t\u00007\u0000\t\u00001\u0000\t\u00000\u0000\t\u00004\u0000\n",
      "\u0000\n",
      "\u00003\u00002\u0000\t\u00002\u00000\u00001\u00006\u0000-\u00001\u00001\u0000-\u00000\u00008\u0000\t�\u0004힙\u0000 \u0000K\u0000C\u0000C\u0000\t\u00002\u00006\u0000:\u00002\u00009\u0000\t\u00001\u00006\u0000\t\u00006\u0000/\u00009\u0000\t\u00000\u0000/\u00002\u0000\t\u00004\u0000/\u00006\u0000\t\u00006\u0000\t\u00004\u0000\t\u00002\u0000\t\u00000\u0000\t\u00004\u0000\n",
      "\u0000\n",
      "\u00003\u00002\u0000\t\u00002\u00000\u00001\u00006\u0000-\u00001\u00001\u0000-\u00000\u00006\u0000\t�\u001c",
      "틘\u0000 \u0000S\u0000K\u0000\t\u00002\u00000\u0000:\u00000\u00000\u0000\t\u00002\u00003\u0000\t\u00001\u00001\u0000/\u00001\u00008\u0000\t\u00000\u0000/\u00000\u0000\t\u00001\u0000/\u00002\u0000\t\u00007\u0000\t\u00003\u0000\t\u00000\u0000\t\u00001\u0000\t\u00001\u0000\n",
      "\u0000\n",
      "\u00003\u00002\u0000\t\u00002\u00000\u00001\u00006\u0000-\u00001\u00001\u0000-\u00000\u00004\u0000\t�x��\u0000 �\u0004�맰쑕�\u0000\t\u00002\u00003\u0000:\u00002\u00001\u0000\t\u00001\u00008\u0000\t\u00005\u0000/\u00001\u00001\u0000\t\u00001\u0000/\u00003\u0000\t\u00005\u0000/\u00009\u0000\t\u00001\u00001\u0000\t\u00002\u0000\t\u00000\u0000\t\u00001\u0000\t\u00007\u0000\n",
      "\u0000\n",
      "\u00003\u00002\u0000\t\u00002\u00000\u00001\u00006\u0000-\u00001\u00001\u0000-\u00000\u00002\u0000\tо흷\u0000 �$묵�(짚\u0000\t\u00001\u00008\u0000:\u00004\u00005\u0000\t\u00001\u00000\u0000\t\u00004\u0000/\u00006\u0000\t\u00000\u0000/\u00000\u0000\t\u00002\u0000/\u00003\u0000\t\u00008\u0000\t\u00004\u0000\t\u00000\u0000\t\u00001\u0000\t\u00000\u0000\n",
      "\u0000\n",
      "\u00003\u00002\u0000\t\u00002\u00000\u00001\u00006\u0000-\u00001\u00000\u0000-\u00002\u00009\u0000\t��육\u0000 \u0000K\u0000T\u0000\t\u00002\u00001\u0000:\u00003\u00004\u0000\t\u00001\u00006\u0000\t\u00007\u0000/\u00009\u0000\t\u00000\u0000/\u00001\u0000\t\u00002\u0000/\u00003\u0000\t\u00004\u0000\t\u00006\u0000\t\u00003\u0000\t\u00000\u0000\t\u00003\u0000\n",
      "\u0000\n",
      "\u00003\u00002\u0000\t\u00002\u00000\u00001\u00006\u0000-\u00001\u00000\u0000-\u00002\u00005\u0000\t휟흷\u0000 �x읊�塚�\u0000\t\u00002\u00004\u0000:\u00002\u00002\u0000\t\u00002\u00006\u0000\t\u00001\u00000\u0000/\u00001\u00003\u0000\t\u00002\u0000/\u00003\u0000\t\u00000\u0000/\u00000\u0000\t\u00003\u0000\t\u00005\u0000\t\u00001\u0000\t\u00002\u0000\t\u00002\u0000\n",
      "\u0000\n",
      "\u00003\u00002\u0000\t\u00002\u00000\u00001\u00006\u0000-\u00001\u00000\u0000-\u00002\u00003\u0000\t틘육\u0000 벰퐻짚\u0000\t\u00002\u00003\u0000:\u00002\u00002\u0000\t\u00001\u00009\u0000\t\u00008\u0000/\u00001\u00002\u0000\t\u00000\u0000/\u00001\u0000\t\u00003\u0000/\u00003\u0000\t\u00005\u0000\t\u00002\u0000\t\u00004\u0000\t\u00000\u0000\t\u00003\u0000\n",
      "\u0000\n",
      "\u00004\u0000\t\u00002\u00000\u00001\u00007\u0000-\u00000\u00002\u0000-\u00000\u00004\u0000\t��육\u0000 \u0000K\u0000T\u0000\t\u00001\u00001\u0000:\u00003\u00001\u0000\t\u00000\u0000\t\u00000\u0000/\u00001\u0000\t\u00000\u0000/\u00000\u0000\t\u00000\u0000/\u00000\u0000\t\u00000\u0000\t\u00002\u0000\t\u00000\u0000\t\u00000\u0000\t\u00000\u0000\n",
      "\u0000\n",
      "\u00004\u0000\t\u00002\u00000\u00001\u00007\u0000-\u00000\u00002\u0000-\u00000\u00002\u0000\t�x��\u0000 �\u0004�맰쑕�\u0000\t\u00002\u0000:\u00005\u00003\u0000\t\u00000\u0000\t\u00000\u0000/\u00000\u0000\t\u00000\u0000/\u00000\u0000\t\u00000\u0000/\u00000\u0000\t\u00000\u0000\t\u00000\u0000\t\u00000\u0000\t\u00000\u0000\t\u00000\u0000\n",
      "\u0000\n",
      "\u00004\u0000\t\u00002\u00000\u00001\u00007\u0000-\u00000\u00001\u0000-\u00003\u00000\u0000\t휟흷\u0000 �x읊�塚�\u0000\t\u00001\u0000:\u00000\u00009\u0000\t\u00000\u0000\t\u00000\u0000/\u00000\u0000\t\u00000\u0000/\u00000\u0000\t\u00000\u0000/\u00000\u0000\t\u00000\u0000\t\u00000\u0000\t\u00000\u0000\t\u00000\u0000\t\u00000\u0000\n",
      "\u0000\n",
      "\u00004\u0000\t\u00002\u00000\u00001\u00007\u0000-\u00000\u00001\u0000-\u00002\u00005\u0000\t틘육\u0000 벰퐻짚\u0000\t\u00002\u0000:\u00002\u00003\u0000\t\u00000\u0000\t\u00000\u0000/\u00001\u0000\t\u00000\u0000/\u00000\u0000\t\u00000\u0000/\u00000\u0000\t\u00000\u0000\t\u00001\u0000\t\u00000\u0000\t\u00000\u0000\t\u00000\u0000\n",
      "\u0000\n",
      "\u00004\u0000\t\u00002\u00000\u00001\u00007\u0000-\u00000\u00001\u0000-\u00001\u00007\u0000\t�=패\u0000 \u0000L\u0000G\u0000\t\u00001\u00004\u0000:\u00004\u00001\u0000\t\u00000\u0000\t\u00000\u0000/\u00002\u0000\t\u00000\u0000/\u00001\u0000\t\u00000\u0000/\u00000\u0000\t\u00000\u0000\t\u00001\u0000\t\u00000\u0000\t\u00000\u0000\t\u00001\u0000\n",
      "\u0000\n",
      "\u00004\u0000\t\u00002\u00000\u00001\u00007\u0000-\u00000\u00001\u0000-\u00001\u00004\u0000\tо흷\u0000 �$묵�(짚\u0000\t\u00002\u0000:\u00005\u00005\u0000\t\u00000\u0000\t\u00000\u0000/\u00000\u0000\t\u00000\u0000/\u00000\u0000\t\u00000\u0000/\u00000\u0000\t\u00000\u0000\t\u00000\u0000\t\u00000\u0000\t\u00000\u0000\t\u00000\u0000\n",
      "\u0000\n",
      "\u00004\u0000\t\u00002\u00000\u00001\u00007\u0000-\u00000\u00001\u0000-\u00001\u00002\u0000\t�\u0004힙\u0000 \u0000K\u0000C\u0000C\u0000\t\u00006\u0000:\u00004\u00000\u0000\t\u00002\u0000\t\u00001\u0000/\u00003\u0000\t\u00000\u0000/\u00000\u0000\t\u00000\u0000/\u00000\u0000\t\u00001\u0000\t\u00002\u0000\t\u00000\u0000\t\u00000\u0000\t\u00000\u0000\n",
      "\u0000\n",
      "\u00004\u0000\t\u00002\u00000\u00001\u00007\u0000-\u00000\u00001\u0000-\u00001\u00000\u0000\t�\u001c",
      "틘\u0000 \u0000S\u0000K\u0000\t\u00000\u0000:\u00000\u00004\u0000\t\u00000\u0000\t\u00000\u0000/\u00000\u0000\t\u00000\u0000/\u00000\u0000\t\u00000\u0000/\u00000\u0000\t\u00000\u0000\t\u00000\u0000\t\u00000\u0000\t\u00000\u0000\t\u00000\u0000\n",
      "\u0000\n",
      "\u00004\u0000\t\u00002\u00000\u00001\u00007\u0000-\u00000\u00001\u0000-\u00000\u00004\u0000\t�x��\u0000 �\u0004�맰쑕�\u0000\t\u00004\u0000:\u00002\u00001\u0000\t\u00000\u0000\t\u00000\u0000/\u00000\u0000\t\u00000\u0000/\u00000\u0000\t\u00000\u0000/\u00000\u0000\t\u00001\u0000\t\u00001\u0000\t\u00000\u0000\t\u00000\u0000\t\u00002\u0000\n",
      "\u0000\n",
      "\u00004\u0000\t\u00002\u00000\u00001\u00007\u0000-\u00000\u00001\u0000-\u00000\u00001\u0000\t�\u0004힙\u0000 \u0000K\u0000C\u0000C\u0000\t\u00009\u0000:\u00000\u00006\u0000\t\u00000\u0000\t\u00000\u0000/\u00000\u0000\t\u00000\u0000/\u00001\u0000\t\u00000\u0000/\u00000\u0000\t\u00000\u0000\t\u00000\u0000\t\u00001\u0000\t\u00000\u0000\t\u00001\u0000\n",
      "\u0000\n",
      "\u00004\u0000\t\u00002\u00000\u00001\u00006\u0000-\u00001\u00002\u0000-\u00003\u00000\u0000\t��육\u0000 \u0000K\u0000T\u0000\t\u00001\u00009\u0000:\u00000\u00008\u0000\t\u00008\u0000\t\u00004\u0000/\u00004\u0000\t\u00000\u0000/\u00002\u0000\t\u00000\u0000/\u00000\u0000\t\u00001\u0000\t\u00001\u0000\t\u00002\u0000\t\u00000\u0000\t\u00001\u0000\n",
      "\u0000\n",
      "\u00004\u0000\t\u00002\u00000\u00001\u00006\u0000-\u00001\u00002\u0000-\u00002\u00005\u0000\t�\u001c",
      "틘\u0000 \u0000S\u0000K\u0000\t\u00000\u0000:\u00004\u00001\u0000\t\u00000\u0000\t\u00000\u0000/\u00000\u0000\t\u00000\u0000/\u00000\u0000\t\u00000\u0000/\u00000\u0000\t\u00000\u0000\t\u00000\u0000\t\u00000\u0000\t\u00000\u0000\t\u00000\u0000\n",
      "\u0000\n",
      "\u00004\u0000\t\u00002\u00000\u00001\u00006\u0000-\u00001\u00002\u0000-\u00002\u00003\u0000\t휟흷\u0000 �x읊�塚�\u0000\t\u00000\u0000:\u00002\u00002\u0000\t\u00000\u0000\t\u00000\u0000/\u00000\u0000\t\u00000\u0000/\u00000\u0000\t\u00000\u0000/\u00000\u0000\t\u00000\u0000\t\u00000\u0000\t\u00000\u0000\t\u00000\u0000\t\u00000\u0000\n",
      "\u0000\n",
      "\u00004\u0000\t\u00002\u00000\u00001\u00006\u0000-\u00001\u00002\u0000-\u00002\u00001\u0000\tо흷\u0000 �$묵�(짚\u0000\t\u00004\u0000:\u00005\u00005\u0000\t\u00000\u0000\t\u00000\u0000/\u00001\u0000\t\u00000\u0000/\u00000\u0000\t\u00000\u0000/\u00000\u0000\t\u00001\u0000\t\u00001\u0000\t\u00000\u0000\t\u00000\u0000\t\u00000\u0000\n",
      "\u0000\n",
      "\u00004\u0000\t\u00002\u00000\u00001\u00006\u0000-\u00001\u00002\u0000-\u00001\u00008\u0000\t�=패\u0000 \u0000L\u0000G\u0000\t\u00006\u0000:\u00005\u00004\u0000\t\u00002\u0000\t\u00000\u0000/\u00000\u0000\t\u00000\u0000/\u00001\u0000\t\u00002\u0000/\u00002\u0000\t\u00001\u0000\t\u00001\u0000\t\u00001\u0000\t\u00000\u0000\t\u00001\u0000\n",
      "\u0000\n",
      "\u00004\u0000\t\u00002\u00000\u00001\u00006\u0000-\u00001\u00002\u0000-\u00001\u00006\u0000\t패힙\u0000 넨��\u0000\t\u00004\u0000:\u00004\u00004\u0000\t\u00000\u0000\t\u00000\u0000/\u00000\u0000\t\u00000\u0000/\u00000\u0000\t\u00000\u0000/\u00000\u0000\t\u00001\u0000\t\u00001\u0000\t\u00000\u0000\t\u00000\u0000\t\u00000\u0000\n",
      "\u0000\n",
      "\u00004\u0000\t\u00002\u00000\u00001\u00006\u0000-\u00001\u00002\u0000-\u00001\u00000\u0000\t��육\u0000 \u0000K\u0000T\u0000\t\u00005\u0000:\u00000\u00005\u0000\t\u00002\u0000\t\u00001\u0000/\u00002\u0000\t\u00000\u0000/\u00000\u0000\t\u00000\u0000/\u00000\u0000\t\u00000\u0000\t\u00001\u0000\t\u00000\u0000\t\u00000\u0000\t\u00001\u0000\n",
      "\u0000\n",
      "\u00004\u0000\t\u00002\u00000\u00001\u00006\u0000-\u00001\u00002\u0000-\u00000\u00004\u0000\tо흷\u0000 �$묵�(짚\u0000\t\u00007\u0000:\u00002\u00007\u0000\t\u00000\u0000\t\u00000\u0000/\u00000\u0000\t\u00000\u0000/\u00002\u0000\t\u00000\u0000/\u00000\u0000\t\u00001\u0000\t\u00003\u0000\t\u00001\u0000\t\u00000\u0000\t\u00000\u0000\n",
      "\u0000\n",
      "\u00004\u0000\t\u00002\u00000\u00001\u00006\u0000-\u00001\u00002\u0000-\u00000\u00003\u0000\t휟흷\u0000 �x읊�塚�\u0000\t\u00007\u0000:\u00001\u00009\u0000\t\u00000\u0000\t\u00000\u0000/\u00000\u0000\t\u00000\u0000/\u00001\u0000\t\u00000\u0000/\u00000\u0000\t\u00002\u0000\t\u00002\u0000\t\u00000\u0000\t\u00000\u0000\t\u00001\u0000\n",
      "\u0000\n",
      "\u00004\u0000\t\u00002\u00000\u00001\u00006\u0000-\u00001\u00002\u0000-\u00000\u00001\u0000\t패힙\u0000 넨��\u0000\t\u00009\u0000:\u00005\u00009\u0000\t\u00002\u0000\t\u00001\u0000/\u00005\u0000\t\u00000\u0000/\u00000\u0000\t\u00000\u0000/\u00000\u0000\t\u00003\u0000\t\u00003\u0000\t\u00003\u0000\t\u00000\u0000\t\u00002\u0000\n",
      "\u0000\n",
      "\u00004\u0000\t\u00002\u00000\u00001\u00006\u0000-\u00001\u00001\u0000-\u00002\u00006\u0000\t�x��\u0000 �\u0004�맰쑕�\u0000\t\u00005\u0000:\u00003\u00005\u0000\t\u00002\u0000\t\u00001\u0000/\u00001\u0000\t\u00000\u0000/\u00000\u0000\t\u00000\u0000/\u00000\u0000\t\u00001\u0000\t\u00001\u0000\t\u00000\u0000\t\u00000\u0000\t\u00000\u0000\n",
      "\u0000\n",
      "\u00004\u0000\t\u00002\u00000\u00001\u00006\u0000-\u00001\u00001\u0000-\u00002\u00003\u0000\t�\u001c",
      "틘\u0000 \u0000S\u0000K\u0000\t\u00003\u0000:\u00001\u00000\u0000\t\u00000\u0000\t\u00000\u0000/\u00000\u0000\t\u00000\u0000/\u00000\u0000\t\u00000\u0000/\u00000\u0000\t\u00000\u0000\t\u00000\u0000\t\u00001\u0000\t\u00000\u0000\t\u00000\u0000\n",
      "\u0000\n",
      "\u00004\u0000\t\u00002\u00000\u00001\u00006\u0000-\u00001\u00001\u0000-\u00002\u00000\u0000\t�=패\u0000 \u0000L\u0000G\u0000\t\u00009\u0000:\u00001\u00009\u0000\t\u00000\u0000\t\u00000\u0000/\u00000\u0000\t\u00000\u0000/\u00000\u0000\t\u00000\u0000/\u00000\u0000\t\u00001\u0000\t\u00005\u0000\t\u00000\u0000\t\u00000\u0000\t\u00002\u0000\n",
      "\u0000\n",
      "\u00004\u0000\t\u00002\u00000\u00001\u00006\u0000-\u00001\u00001\u0000-\u00001\u00009\u0000\t틘육\u0000 벰퐻짚\u0000\t\u00002\u0000:\u00000\u00002\u0000\t\u00002\u0000\t\u00000\u0000/\u00000\u0000\t\u00000\u0000/\u00001\u0000\t\u00002\u0000/\u00002\u0000\t\u00000\u0000\t\u00000\u0000\t\u00000\u0000\t\u00000\u0000\t\u00000\u0000\n",
      "\u0000\n",
      "\u00004\u0000\t\u00002\u00000\u00001\u00006\u0000-\u00001\u00001\u0000-\u00001\u00007\u0000\t�\u0004힙\u0000 \u0000K\u0000C\u0000C\u0000\t\u00002\u0000:\u00001\u00002\u0000\t\u00000\u0000\t\u00000\u0000/\u00001\u0000\t\u00000\u0000/\u00000\u0000\t\u00000\u0000/\u00000\u0000\t\u00000\u0000\t\u00001\u0000\t\u00000\u0000\t\u00000\u0000\t\u00000\u0000\n",
      "\u0000\n",
      "\u00004\u0000\t\u00002\u00000\u00001\u00006\u0000-\u00001\u00001\u0000-\u00000\u00008\u0000\t�\u0004힙\u0000 \u0000K\u0000C\u0000C\u0000\t\u00005\u0000:\u00004\u00000\u0000\t\u00004\u0000\t\u00001\u0000/\u00001\u0000\t\u00000\u0000/\u00002\u0000\t\u00002\u0000/\u00002\u0000\t\u00000\u0000\t\u00000\u0000\t\u00000\u0000\t\u00000\u0000\t\u00002\u0000\n",
      "\u0000\n",
      "\u00004\u0000\t\u00002\u00000\u00001\u00006\u0000-\u00001\u00001\u0000-\u00000\u00006\u0000\t�\u001c",
      "틘\u0000 \u0000S\u0000K\u0000\t\u00007\u0000:\u00000\u00006\u0000\t\u00000\u0000\t\u00000\u0000/\u00000\u0000\t\u00000\u0000/\u00000\u0000\t\u00000\u0000/\u00000\u0000\t\u00001\u0000\t\u00001\u0000\t\u00001\u0000\t\u00000\u0000\t\u00000\u0000\n",
      "\u0000\n",
      "\u00004\u0000\t\u00002\u00000\u00001\u00006\u0000-\u00001\u00001\u0000-\u00000\u00002\u0000\tо흷\u0000 �$묵�(짚\u0000\t\u00001\u00005\u0000:\u00001\u00001\u0000\t\u00005\u0000\t\u00001\u0000/\u00002\u0000\t\u00001\u0000/\u00003\u0000\t\u00000\u0000/\u00000\u0000\t\u00002\u0000\t\u00002\u0000\t\u00001\u0000\t\u00000\u0000\t\u00000\u0000\n",
      "\u0000\n",
      "\u00004\u0000\t\u00002\u00000\u00001\u00006\u0000-\u00001\u00000\u0000-\u00002\u00009\u0000\t��육\u0000 \u0000K\u0000T\u0000\t\u00000\u0000:\u00002\u00004\u0000\t\u00000\u0000\t\u00000\u0000/\u00000\u0000\t\u00000\u0000/\u00000\u0000\t\u00000\u0000/\u00000\u0000\t\u00000\u0000\t\u00000\u0000\t\u00000\u0000\t\u00000\u0000\t\u00000\u0000\n",
      "\u0000\n",
      "\u00004\u0000\t\u00002\u00000\u00001\u00006\u0000-\u00001\u00000\u0000-\u00002\u00005\u0000\t휟흷\u0000 �x읊�塚�\u0000\t\u00004\u0000:\u00002\u00007\u0000\t\u00002\u0000\t\u00001\u0000/\u00001\u0000\t\u00000\u0000/\u00001\u0000\t\u00000\u0000/\u00000\u0000\t\u00003\u0000\t\u00000\u0000\t\u00000\u0000\t\u00000\u0000\t\u00000\u0000\n",
      "\u0000\n",
      "\u00004\u0000\t\u00002\u00000\u00001\u00006\u0000-\u00001\u00000\u0000-\u00002\u00003\u0000\t틘육\u0000 벰퐻짚\u0000\t\u00007\u0000:\u00002\u00007\u0000\t\u00000\u0000\t\u00000\u0000/\u00001\u0000\t\u00000\u0000/\u00000\u0000\t\u00000\u0000/\u00002\u0000\t\u00004\u0000\t\u00001\u0000\t\u00000\u0000\t\u00000\u0000\t\u00000\u0000\n",
      "\u0000\n",
      "\u00005\u0000\t\u00002\u00000\u00001\u00007\u0000-\u00000\u00002\u0000-\u00000\u00004\u0000\t��육\u0000 \u0000K\u0000T\u0000\t\u00000\u0000:\u00000\u00002\u0000\t\u00000\u0000\t\u00000\u0000/\u00000\u0000\t\u00000\u0000/\u00000\u0000\t\u00000\u0000/\u00000\u0000\t\u00000\u0000\t\u00000\u0000\t\u00000\u0000\t\u00000\u0000\t\u00000\u0000\n",
      "\u0000\n",
      "\u00005\u0000\t\u00002\u00000\u00001\u00007\u0000-\u00000\u00002\u0000-\u00000\u00002\u0000\t�x��\u0000 �\u0004�맰쑕�\u0000\t\u00003\u0000:\u00002\u00006\u0000\t\u00000\u0000\t\u00000\u0000/\u00002\u0000\t\u00000\u0000/\u00000\u0000\t\u00000\u0000/\u00000\u0000\t\u00001\u0000\t\u00000\u0000\t\u00000\u0000\t\u00000\u0000\t\u00000\u0000\n",
      "\u0000\n",
      "\u00005\u0000\t\u00002\u00000\u00001\u00007\u0000-\u00000\u00001\u0000-\u00003\u00000\u0000\t휟흷\u0000 �x읊�塚�\u0000\t\u00000\u0000:\u00005\u00006\u0000\t\u00000\u0000\t\u00000\u0000/\u00000\u0000\t\u00000\u0000/\u00000\u0000\t\u00000\u0000/\u00000\u0000\t\u00000\u0000\t\u00000\u0000\t\u00000\u0000\t\u00000\u0000\t\u00000\u0000\n",
      "\u0000\n",
      "\u00005\u0000\t\u00002\u00000\u00001\u00007\u0000-\u00000\u00001\u0000-\u00002\u00008\u0000\t패힙\u0000 넨��\u0000\t\u00002\u0000:\u00000\u00003\u0000\t\u00000\u0000\t\u00000\u0000/\u00000\u0000\t\u00000\u0000/\u00000\u0000\t\u00000\u0000/\u00000\u0000\t\u00000\u0000\t\u00000\u0000\t\u00000\u0000\t\u00000\u0000\t\u00001\u0000\n",
      "\u0000\n",
      "\u00005\u0000\t\u00002\u00000\u00001\u00007\u0000-\u00000\u00001\u0000-\u00002\u00005\u0000\t틘육\u0000 벰퐻짚\u0000\t\u00002\u0000:\u00003\u00002\u0000\t\u00000\u0000\t\u00000\u0000/\u00000\u0000\t\u00000\u0000/\u00000\u0000\t\u00000\u0000/\u00000\u0000\t\u00000\u0000\t\u00000\u0000\t\u00000\u0000\t\u00000\u0000\t\u00000\u0000\n",
      "\u0000\n",
      "\u00005\u0000\t\u00002\u00000\u00001\u00007\u0000-\u00000\u00001\u0000-\u00001\u00007\u0000\t�=패\u0000 \u0000L\u0000G\u0000\t\u00001\u00005\u0000:\u00000\u00006\u0000\t\u00003\u0000\t\u00000\u0000/\u00000\u0000\t\u00001\u0000/\u00005\u0000\t\u00000\u0000/\u00000\u0000\t\u00000\u0000\t\u00002\u0000\t\u00000\u0000\t\u00000\u0000\t\u00000\u0000\n",
      "\u0000\n",
      "\u00005\u0000\t\u00002\u00000\u00001\u00007\u0000-\u00000\u00001\u0000-\u00001\u00004\u0000\tо흷\u0000 �$묵�(짚\u0000\t\u00001\u00002\u0000:\u00001\u00000\u0000\t\u00000\u0000\t\u00000\u0000/\u00000\u0000\t\u00000\u0000/\u00000\u0000\t\u00000\u0000/\u00000\u0000\t\u00001\u0000\t\u00001\u0000\t\u00002\u0000\t\u00000\u0000\t\u00000\u0000\n",
      "\u0000\n",
      "\u00005\u0000\t\u00002\u00000\u00001\u00007\u0000-\u00000\u00001\u0000-\u00001\u00002\u0000\t�\u0004힙\u0000 \u0000K\u0000C\u0000C\u0000\t\u00003\u0000:\u00002\u00008\u0000\t\u00000\u0000\t\u00000\u0000/\u00000\u0000\t\u00000\u0000/\u00000\u0000\t\u00000\u0000/\u00000\u0000\t\u00001\u0000\t\u00000\u0000\t\u00000\u0000\t\u00000\u0000\t\u00000\u0000\n",
      "\u0000\n",
      "\u00005\u0000\t\u00002\u00000\u00001\u00007\u0000-\u00000\u00001\u0000-\u00001\u00000\u0000\t�\u001c",
      "틘\u0000 \u0000S\u0000K\u0000\t\u00000\u0000:\u00002\u00006\u0000\t\u00000\u0000\t\u00000\u0000/\u00000\u0000\t\u00000\u0000/\u00000\u0000\t\u00000\u0000/\u00000\u0000\t\u00000\u0000\t\u00000\u0000\t\u00000\u0000\t\u00000\u0000\t\u00000\u0000\n",
      "\u0000\n",
      "\u00005\u0000\t\u00002\u00000\u00001\u00007\u0000-\u00000\u00001\u0000-\u00000\u00007\u0000\t틘육\u0000 벰퐻짚\u0000\t\u00001\u0000:\u00002\u00002\u0000\t\u00000\u0000\t\u00000\u0000/\u00000\u0000\t\u00000\u0000/\u00000\u0000\t\u00000\u0000/\u00000\u0000\t\u00000\u0000\t\u00000\u0000\t\u00000\u0000\t\u00000\u0000\t\u00000\u0000\n",
      "\u0000\n",
      "\u00005\u0000\t\u00002\u00000\u00001\u00007\u0000-\u00000\u00001\u0000-\u00000\u00004\u0000\t�x��\u0000 �\u0004�맰쑕�\u0000\t\u00004\u0000:\u00001\u00001\u0000\t\u00000\u0000\t\u00000\u0000/\u00000\u0000\t\u00000\u0000/\u00000\u0000\t\u00000\u0000/\u00000\u0000\t\u00000\u0000\t\u00000\u0000\t\u00000\u0000\t\u00000\u0000\t\u00000\u0000\n",
      "\u0000\n",
      "\u00005\u0000\t\u00002\u00000\u00001\u00007\u0000-\u00000\u00001\u0000-\u00000\u00001\u0000\t�\u0004힙\u0000 \u0000K\u0000C\u0000C\u0000\t\u00001\u00007\u0000:\u00005\u00002\u0000\t\u00004\u0000\t\u00002\u0000/\u00002\u0000\t\u00000\u0000/\u00002\u0000\t\u00000\u0000/\u00000\u0000\t\u00001\u0000\t\u00001\u0000\t\u00000\u0000\t\u00000\u0000\t\u00002\u0000\n",
      "\u0000\n",
      "\u00005\u0000\t\u00002\u00000\u00001\u00006\u0000-\u00001\u00002\u0000-\u00003\u00000\u0000\t��육\u0000 \u0000K\u0000T\u0000\t\u00001\u00001\u0000:\u00003\u00007\u0000\t\u00002\u0000\t\u00001\u0000/\u00001\u0000\t\u00000\u0000/\u00000\u0000\t\u00000\u0000/\u00000\u0000\t\u00000\u0000\t\u00000\u0000\t\u00000\u0000\t\u00000\u0000\t\u00001\u0000\n",
      "\u0000\n",
      "\u00005\u0000\t\u00002\u00000\u00001\u00006\u0000-\u00001\u00002\u0000-\u00002\u00005\u0000\t�\u001c",
      "틘\u0000 \u0000S\u0000K\u0000\t\u00003\u0000:\u00002\u00005\u0000\t\u00000\u0000\t\u00000\u0000/\u00000\u0000\t\u00000\u0000/\u00000\u0000\t\u00000\u0000/\u00000\u0000\t\u00000\u0000\t\u00000\u0000\t\u00000\u0000\t\u00000\u0000\t\u00000\u0000\n",
      "\u0000\n",
      "\u00005\u0000\t\u00002\u00000\u00001\u00006\u0000-\u00001\u00002\u0000-\u00002\u00003\u0000\t휟흷\u0000 �x읊�塚�\u0000\t\u00008\u0000:\u00004\u00001\u0000\t\u00003\u0000\t\u00000\u0000/\u00001\u0000\t\u00001\u0000/\u00001\u0000\t\u00000\u0000/\u00000\u0000\t\u00000\u0000\t\u00001\u0000\t\u00000\u0000\t\u00000\u0000\t\u00000\u0000\n",
      "\u0000\n",
      "\u00005\u0000\t\u00002\u00000\u00001\u00006\u0000-\u00001\u00002\u0000-\u00002\u00001\u0000\tо흷\u0000 �$묵�(짚\u0000\t\u00000\u0000:\u00000\u00006\u0000\t\u00000\u0000\t\u00000\u0000/\u00000\u0000\t\u00000\u0000/\u00000\u0000\t\u00000\u0000/\u00000\u0000\t\u00000\u0000\t\u00000\u0000\t\u00000\u0000\t\u00000\u0000\t\u00000\u0000\n",
      "\u0000\n",
      "\u00005\u0000\t\u00002\u00000\u00001\u00006\u0000-\u00001\u00002\u0000-\u00001\u00008\u0000\t�=패\u0000 \u0000L\u0000G\u0000\t\u00008\u0000:\u00004\u00006\u0000\t\u00000\u0000\t\u00000\u0000/\u00001\u0000\t\u00000\u0000/\u00002\u0000\t\u00000\u0000/\u00000\u0000\t\u00001\u0000\t\u00000\u0000\t\u00000\u0000\t\u00000\u0000\t\u00001\u0000\n",
      "\u0000\n",
      "\u00005\u0000\t\u00002\u00000\u00001\u00006\u0000-\u00001\u00002\u0000-\u00001\u00000\u0000\t��육\u0000 \u0000K\u0000T\u0000\t\u00008\u0000:\u00004\u00009\u0000\t\u00002\u0000\t\u00001\u0000/\u00001\u0000\t\u00000\u0000/\u00001\u0000\t\u00000\u0000/\u00000\u0000\t\u00000\u0000\t\u00000\u0000\t\u00000\u0000\t\u00000\u0000\t\u00000\u0000\n",
      "\u0000\n",
      "\u00005\u0000\t\u00002\u00000\u00001\u00006\u0000-\u00001\u00002\u0000-\u00000\u00004\u0000\tо흷\u0000 �$묵�(짚\u0000\t\u00008\u0000:\u00003\u00002\u0000\t\u00000\u0000\t\u00000\u0000/\u00000\u0000\t\u00000\u0000/\u00000\u0000\t\u00000\u0000/\u00000\u0000\t\u00001\u0000\t\u00000\u0000\t\u00000\u0000\t\u00000\u0000\t\u00000\u0000\n",
      "\u0000\n",
      "\u00005\u0000\t\u00002\u00000\u00001\u00006\u0000-\u00001\u00002\u0000-\u00000\u00003\u0000\t휟흷\u0000 �x읊�塚�\u0000\t\u00002\u0000:\u00001\u00007\u0000\t\u00002\u0000\t\u00000\u0000/\u00000\u0000\t\u00000\u0000/\u00000\u0000\t\u00002\u0000/\u00002\u0000\t\u00001\u0000\t\u00001\u0000\t\u00000\u0000\t\u00000\u0000\t\u00001\u0000\n",
      "\u0000\n",
      "\u00005\u0000\t\u00002\u00000\u00001\u00006\u0000-\u00001\u00002\u0000-\u00000\u00001\u0000\t패힙\u0000 넨��\u0000\t\u00006\u0000:\u00004\u00000\u0000\t\u00002\u0000\t\u00001\u0000/\u00001\u0000\t\u00000\u0000/\u00001\u0000\t\u00000\u0000/\u00000\u0000\t\u00000\u0000\t\u00002\u0000\t\u00000\u0000\t\u00001\u0000\t\u00000\u0000\n",
      "\u0000\n",
      "\u00005\u0000\t\u00002\u00000\u00001\u00006\u0000-\u00001\u00001\u0000-\u00002\u00006\u0000\t�x��\u0000 �\u0004�맰쑕�\u0000\t\u00003\u0000:\u00001\u00009\u0000\t\u00000\u0000\t\u00000\u0000/\u00001\u0000\t\u00000\u0000/\u00000\u0000\t\u00000\u0000/\u00000\u0000\t\u00001\u0000\t\u00000\u0000\t\u00000\u0000\t\u00000\u0000\t\u00000\u0000\n",
      "\u0000\n",
      "\u00005\u0000\t\u00002\u00000\u00001\u00006\u0000-\u00001\u00001\u0000-\u00002\u00003\u0000\t�\u001c",
      "틘\u0000 \u0000S\u0000K\u0000\t\u00005\u0000:\u00000\u00008\u0000\t\u00000\u0000\t\u00000\u0000/\u00001\u0000\t\u00000\u0000/\u00000\u0000\t\u00000\u0000/\u00000\u0000\t\u00000\u0000\t\u00000\u0000\t\u00000\u0000\t\u00000\u0000\t\u00000\u0000\n",
      "\u0000\n",
      "\u00005\u0000\t\u00002\u00000\u00001\u00006\u0000-\u00001\u00001\u0000-\u00002\u00000\u0000\t�=패\u0000 \u0000L\u0000G\u0000\t\u00007\u0000:\u00003\u00009\u0000\t\u00000\u0000\t\u00000\u0000/\u00001\u0000\t\u00000\u0000/\u00000\u0000\t\u00000\u0000/\u00000\u0000\t\u00000\u0000\t\u00000\u0000\t\u00000\u0000\t\u00000\u0000\t\u00000\u0000\n",
      "\u0000\n",
      "\u00005\u0000\t\u00002\u00000\u00001\u00006\u0000-\u00001\u00001\u0000-\u00001\u00009\u0000\t틘육\u0000 벰퐻짚\u0000\t\u00000\u0000:\u00000\u00006\u0000\t\u00000\u0000\t\u00000\u0000/\u00000\u0000\t\u00000\u0000/\u00000\u0000\t\u00000\u0000/\u00000\u0000\t\u00000\u0000\t\u00000\u0000\t\u00000\u0000\t\u00000\u0000\t\u00000\u0000\n",
      "\u0000\n",
      "\u00005\u0000\t\u00002\u00000\u00001\u00006\u0000-\u00001\u00001\u0000-\u00001\u00007\u0000\t�\u0004힙\u0000 \u0000K\u0000C\u0000C\u0000\t\u00001\u00002\u0000:\u00002\u00002\u0000\t\u00000\u0000\t\u00000\u0000/\u00001\u0000\t\u00000\u0000/\u00000\u0000\t\u00000\u0000/\u00000\u0000\t\u00000\u0000\t\u00000\u0000\t\u00000\u0000\t\u00000\u0000\t\u00000\u0000\n",
      "\u0000\n",
      "\u00005\u0000\t\u00002\u00000\u00001\u00006\u0000-\u00001\u00001\u0000-\u00001\u00003\u0000\t패힙\u0000 넨��\u0000\t\u00006\u0000:\u00000\u00000\u0000\t\u00000\u0000\t\u00000\u0000/\u00002\u0000\t\u00000\u0000/\u00000\u0000\t\u00000\u0000/\u00000\u0000\t\u00001\u0000\t\u00000\u0000\t\u00000\u0000\t\u00000\u0000\t\u00000\u0000\n",
      "\u0000\n",
      "\u00005\u0000\t\u00002\u00000\u00001\u00006\u0000-\u00001\u00001\u0000-\u00001\u00001\u0000\t�=패\u0000 \u0000L\u0000G\u0000\t\u00001\u00002\u0000:\u00001\u00001\u0000\t\u00005\u0000\t\u00001\u0000/\u00001\u0000\t\u00001\u0000/\u00002\u0000\t\u00000\u0000/\u00000\u0000\t\u00002\u0000\t\u00003\u0000\t\u00000\u0000\t\u00000\u0000\t\u00001\u0000\n",
      "\u0000\n",
      "\u00005\u0000\t\u00002\u00000\u00001\u00006\u0000-\u00001\u00001\u0000-\u00000\u00008\u0000\t�\u0004힙\u0000 \u0000K\u0000C\u0000C\u0000\t\u00002\u00005\u0000:\u00005\u00008\u0000\t\u00008\u0000\t\u00001\u0000/\u00002\u0000\t\u00002\u0000/\u00004\u0000\t\u00000\u0000/\u00000\u0000\t\u00002\u0000\t\u00003\u0000\t\u00001\u0000\t\u00000\u0000\t\u00001\u0000\n",
      "\u0000\n",
      "\u00005\u0000\t\u00002\u00000\u00001\u00006\u0000-\u00001\u00001\u0000-\u00000\u00006\u0000\t�\u001c",
      "틘\u0000 \u0000S\u0000K\u0000\t\u00002\u00001\u0000:\u00005\u00000\u0000\t\u00000\u0000\t\u00000\u0000/\u00000\u0000\t\u00000\u0000/\u00004\u0000\t\u00000\u0000/\u00000\u0000\t\u00000\u0000\t\u00000\u0000\t\u00001\u0000\t\u00000\u0000\t\u00001\u0000\n",
      "\u0000\n",
      "\u00005\u0000\t\u00002\u00000\u00001\u00006\u0000-\u00001\u00001\u0000-\u00000\u00004\u0000\t�x��\u0000 �\u0004�맰쑕�\u0000\t\u00001\u00000\u0000:\u00003\u00004\u0000\t\u00003\u0000\t\u00000\u0000/\u00000\u0000\t\u00001\u0000/\u00001\u0000\t\u00000\u0000/\u00000\u0000\t\u00001\u0000\t\u00002\u0000\t\u00000\u0000\t\u00000\u0000\t\u00000\u0000\n",
      "\u0000\n",
      "\u00007\u0000\t\u00002\u00000\u00001\u00007\u0000-\u00000\u00001\u0000-\u00001\u00007\u0000\t�=패\u0000 \u0000L\u0000G\u0000\t\u00001\u0000:\u00000\u00004\u0000\t\u00000\u0000\t\u00000\u0000/\u00000\u0000\t\u00000\u0000/\u00000\u0000\t\u00000\u0000/\u00000\u0000\t\u00000\u0000\t\u00000\u0000\t\u00000\u0000\t\u00000\u0000\t\u00000\u0000\n",
      "\u0000\n",
      "\u00007\u0000\t\u00002\u00000\u00001\u00007\u0000-\u00000\u00001\u0000-\u00001\u00004\u0000\tо흷\u0000 �$묵�(짚\u0000\t\u00001\u0000:\u00003\u00004\u0000\t\u00000\u0000\t\u00000\u0000/\u00000\u0000\t\u00000\u0000/\u00000\u0000\t\u00000\u0000/\u00000\u0000\t\u00000\u0000\t\u00000\u0000\t\u00000\u0000\t\u00000\u0000\t\u00000\u0000\n",
      "\u0000\n",
      "\u00007\u0000\t\u00002\u00000\u00001\u00007\u0000-\u00000\u00001\u0000-\u00001\u00002\u0000\t�\u0004힙\u0000 \u0000K\u0000C\u0000C\u0000\t\u00001\u0000:\u00000\u00004\u0000\t\u00000\u0000\t\u00000\u0000/\u00000\u0000\t\u00000\u0000/\u00001\u0000\t\u00000\u0000/\u00000\u0000\t\u00000\u0000\t\u00000\u0000\t\u00001\u0000\t\u00000\u0000\t\u00000\u0000\n",
      "\u0000\n",
      "\u00007\u0000\t\u00002\u00000\u00001\u00007\u0000-\u00000\u00001\u0000-\u00001\u00000\u0000\t�\u001c",
      "틘\u0000 \u0000S\u0000K\u0000\t\u00005\u0000:\u00004\u00003\u0000\t\u00000\u0000\t\u00000\u0000/\u00000\u0000\t\u00000\u0000/\u00001\u0000\t\u00000\u0000/\u00000\u0000\t\u00000\u0000\t\u00000\u0000\t\u00000\u0000\t\u00000\u0000\t\u00001\u0000\n",
      "\u0000\n",
      "\u00007\u0000\t\u00002\u00000\u00001\u00007\u0000-\u00000\u00001\u0000-\u00000\u00001\u0000\t�\u0004힙\u0000 \u0000K\u0000C\u0000C\u0000\t\u00006\u0000:\u00001\u00009\u0000\t\u00003\u0000\t\u00000\u0000/\u00000\u0000\t\u00001\u0000/\u00002\u0000\t\u00000\u0000/\u00000\u0000\t\u00000\u0000\t\u00000\u0000\t\u00000\u0000\t\u00000\u0000\t\u00001\u0000\n",
      "\u0000\n",
      "\u00007\u0000\t\u00002\u00000\u00001\u00006\u0000-\u00001\u00002\u0000-\u00003\u00000\u0000\t��육\u0000 \u0000K\u0000T\u0000\t\u00006\u0000:\u00001\u00000\u0000\t\u00008\u0000\t\u00001\u0000/\u00001\u0000\t\u00002\u0000/\u00003\u0000\t\u00000\u0000/\u00000\u0000\t\u00000\u0000\t\u00000\u0000\t\u00000\u0000\t\u00000\u0000\t\u00001\u0000\n",
      "\u0000\n",
      "\u00007\u0000\t\u00002\u00000\u00001\u00006\u0000-\u00001\u00002\u0000-\u00000\u00004\u0000\tо흷\u0000 �$묵�(짚\u0000\t\u00005\u0000:\u00003\u00003\u0000\t\u00000\u0000\t\u00000\u0000/\u00000\u0000\t\u00000\u0000/\u00000\u0000\t\u00000\u0000/\u00000\u0000\t\u00000\u0000\t\u00000\u0000\t\u00000\u0000\t\u00000\u0000\t\u00000\u0000\n",
      "\u0000\n",
      "\u00007\u0000\t\u00002\u00000\u00001\u00006\u0000-\u00001\u00002\u0000-\u00000\u00003\u0000\t휟흷\u0000 �x읊�塚�\u0000\t\u00001\u0000:\u00001\u00004\u0000\t\u00002\u0000\t\u00001\u0000/\u00001\u0000\t\u00000\u0000/\u00001\u0000\t\u00000\u0000/\u00000\u0000\t\u00000\u0000\t\u00000\u0000\t\u00000\u0000\t\u00000\u0000\t\u00000\u0000\n",
      "\u0000\n",
      "\u00007\u0000\t\u00002\u00000\u00001\u00006\u0000-\u00001\u00002\u0000-\u00000\u00001\u0000\t패힙\u0000 넨��\u0000\t\u00002\u0000:\u00005\u00006\u0000\t\u00000\u0000\t\u00000\u0000/\u00000\u0000\t\u00000\u0000/\u00000\u0000\t\u00000\u0000/\u00000\u0000\t\u00001\u0000\t\u00000\u0000\t\u00000\u0000\t\u00000\u0000\t\u00001\u0000\n",
      "\u0000\n",
      "\u00007\u0000\t\u00002\u00000\u00001\u00006\u0000-\u00001\u00001\u0000-\u00002\u00003\u0000\t�\u001c",
      "틘\u0000 \u0000S\u0000K\u0000\t\u00004\u0000:\u00004\u00005\u0000\t\u00000\u0000\t\u00000\u0000/\u00000\u0000\t\u00000\u0000/\u00001\u0000\t\u00000\u0000/\u00000\u0000\t\u00000\u0000\t\u00000\u0000\t\u00000\u0000\t\u00000\u0000\t\u00000\u0000\n",
      "\u0000\n",
      "\u00007\u0000\t\u00002\u00000\u00001\u00006\u0000-\u00001\u00001\u0000-\u00002\u00000\u0000\t�=패\u0000 \u0000L\u0000G\u0000\t\u00005\u0000:\u00001\u00009\u0000\t\u00008\u0000\t\u00001\u0000/\u00001\u0000\t\u00002\u0000/\u00002\u0000\t\u00000\u0000/\u00000\u0000\t\u00000\u0000\t\u00000\u0000\t\u00000\u0000\t\u00000\u0000\t\u00000\u0000\n",
      "\u0000\n",
      "\u00007\u0000\t\u00002\u00000\u00001\u00006\u0000-\u00001\u00001\u0000-\u00000\u00008\u0000\t�\u0004힙\u0000 \u0000K\u0000C\u0000C\u0000\t\u00004\u0000:\u00000\u00008\u0000\t\u00000\u0000\t\u00000\u0000/\u00000\u0000\t\u00000\u0000/\u00000\u0000\t\u00000\u0000/\u00000\u0000\t\u00003\u0000\t\u00000\u0000\t\u00000\u0000\t\u00000\u0000\t\u00000\u0000\n",
      "\u0000\n",
      "\u00007\u0000\t\u00002\u00000\u00001\u00006\u0000-\u00001\u00001\u0000-\u00000\u00002\u0000\tо흷\u0000 �$묵�(짚\u0000\t\u00002\u0000:\u00003\u00005\u0000\t\u00000\u0000\t\u00000\u0000/\u00000\u0000\t\u00000\u0000/\u00001\u0000\t\u00000\u0000/\u00000\u0000\t\u00001\u0000\t\u00000\u0000\t\u00000\u0000\t\u00000\u0000\t\u00000\u0000\n",
      "\u0000\n",
      "\u00009\u0000\t\u00002\u00000\u00001\u00007\u0000-\u00000\u00002\u0000-\u00000\u00004\u0000\t��육\u0000 \u0000K\u0000T\u0000\t\u00003\u0000:\u00000\u00008\u0000\t\u00000\u0000\t\u00000\u0000/\u00000\u0000\t\u00000\u0000/\u00000\u0000\t\u00000\u0000/\u00000\u0000\t\u00000\u0000\t\u00000\u0000\t\u00000\u0000\t\u00000\u0000\t\u00000\u0000\n",
      "\u0000\n",
      "\u00009\u0000\t\u00002\u00000\u00001\u00007\u0000-\u00000\u00002\u0000-\u00000\u00002\u0000\t�x��\u0000 �\u0004�맰쑕�\u0000\t\u00006\u0000:\u00002\u00006\u0000\t\u00002\u0000\t\u00001\u0000/\u00001\u0000\t\u00000\u0000/\u00000\u0000\t\u00000\u0000/\u00001\u0000\t\u00000\u0000\t\u00001\u0000\t\u00000\u0000\t\u00000\u0000\t\u00000\u0000\n",
      "\u0000\n",
      "\u00009\u0000\t\u00002\u00000\u00001\u00007\u0000-\u00000\u00001\u0000-\u00003\u00000\u0000\t휟흷\u0000 �x읊�塚�\u0000\t\u00004\u0000:\u00002\u00008\u0000\t\u00000\u0000\t\u00000\u0000/\u00000\u0000\t\u00000\u0000/\u00000\u0000\t\u00000\u0000/\u00000\u0000\t\u00001\u0000\t\u00000\u0000\t\u00000\u0000\t\u00000\u0000\t\u00000\u0000\n",
      "\u0000\n",
      "\u00009\u0000\t\u00002\u00000\u00001\u00007\u0000-\u00000\u00001\u0000-\u00002\u00008\u0000\t패힙\u0000 넨��\u0000\t\u00009\u0000:\u00000\u00008\u0000\t\u00000\u0000\t\u00000\u0000/\u00000\u0000\t\u00000\u0000/\u00000\u0000\t\u00000\u0000/\u00000\u0000\t\u00000\u0000\t\u00000\u0000\t\u00000\u0000\t\u00000\u0000\t\u00000\u0000\n",
      "\u0000\n",
      "\u00009\u0000\t\u00002\u00000\u00001\u00007\u0000-\u00000\u00001\u0000-\u00002\u00005\u0000\t틘육\u0000 벰퐻짚\u0000\t\u00006\u0000:\u00003\u00009\u0000\t\u00000\u0000\t\u00000\u0000/\u00000\u0000\t\u00000\u0000/\u00000\u0000\t\u00000\u0000/\u00000\u0000\t\u00001\u0000\t\u00002\u0000\t\u00000\u0000\t\u00000\u0000\t\u00000\u0000\n",
      "\u0000\n",
      "\u00009\u0000\t\u00002\u00000\u00001\u00007\u0000-\u00000\u00001\u0000-\u00001\u00007\u0000\t�=패\u0000 \u0000L\u0000G\u0000\t\u00001\u00000\u0000:\u00001\u00001\u0000\t\u00000\u0000\t\u00000\u0000/\u00000\u0000\t\u00000\u0000/\u00002\u0000\t\u00000\u0000/\u00000\u0000\t\u00000\u0000\t\u00000\u0000\t\u00001\u0000\t\u00000\u0000\t\u00000\u0000\n",
      "\u0000\n",
      "\u00009\u0000\t\u00002\u00000\u00001\u00007\u0000-\u00000\u00001\u0000-\u00001\u00004\u0000\tо흷\u0000 �$묵�(짚\u0000\t\u00009\u0000:\u00004\u00007\u0000\t\u00000\u0000\t\u00000\u0000/\u00001\u0000\t\u00000\u0000/\u00001\u0000\t\u00000\u0000/\u00000\u0000\t\u00002\u0000\t\u00000\u0000\t\u00000\u0000\t\u00000\u0000\t\u00000\u0000\n",
      "\u0000\n",
      "\u00009\u0000\t\u00002\u00000\u00001\u00007\u0000-\u00000\u00001\u0000-\u00001\u00002\u0000\t�\u0004힙\u0000 \u0000K\u0000C\u0000C\u0000\t\u00009\u0000:\u00000\u00008\u0000\t\u00003\u0000\t\u00000\u0000/\u00001\u0000\t\u00001\u0000/\u00002\u0000\t\u00000\u0000/\u00000\u0000\t\u00001\u0000\t\u00001\u0000\t\u00001\u0000\t\u00000\u0000\t\u00000\u0000\n",
      "\u0000\n",
      "\u00009\u0000\t\u00002\u00000\u00001\u00007\u0000-\u00000\u00001\u0000-\u00001\u00000\u0000\t�\u001c",
      "틘\u0000 \u0000S\u0000K\u0000\t\u00001\u00001\u0000:\u00002\u00008\u0000\t\u00003\u0000\t\u00000\u0000/\u00000\u0000\t\u00001\u0000/\u00001\u0000\t\u00000\u0000/\u00000\u0000\t\u00002\u0000\t\u00001\u0000\t\u00000\u0000\t\u00000\u0000\t\u00000\u0000\n",
      "\u0000\n",
      "\u00009\u0000\t\u00002\u00000\u00001\u00007\u0000-\u00000\u00001\u0000-\u00000\u00007\u0000\t틘육\u0000 벰퐻짚\u0000\t\u00009\u0000:\u00004\u00004\u0000\t\u00000\u0000\t\u00000\u0000/\u00000\u0000\t\u00000\u0000/\u00000\u0000\t\u00000\u0000/\u00000\u0000\t\u00000\u0000\t\u00000\u0000\t\u00000\u0000\t\u00000\u0000\t\u00000\u0000\n",
      "\u0000\n",
      "\u00009\u0000\t\u00002\u00000\u00001\u00007\u0000-\u00000\u00001\u0000-\u00000\u00004\u0000\t�x��\u0000 �\u0004�맰쑕�\u0000\t\u00001\u00004\u0000:\u00003\u00009\u0000\t\u00003\u0000\t\u00000\u0000/\u00000\u0000\t\u00001\u0000/\u00001\u0000\t\u00000\u0000/\u00000\u0000\t\u00002\u0000\t\u00005\u0000\t\u00000\u0000\t\u00000\u0000\t\u00001\u0000\n",
      "\u0000\n",
      "\u00009\u0000\t\u00002\u00000\u00001\u00007\u0000-\u00000\u00001\u0000-\u00000\u00001\u0000\t�\u0004힙\u0000 \u0000K\u0000C\u0000C\u0000\t\u00006\u0000:\u00003\u00005\u0000\t\u00000\u0000\t\u00000\u0000/\u00000\u0000\t\u00000\u0000/\u00000\u0000\t\u00000\u0000/\u00000\u0000\t\u00000\u0000\t\u00001\u0000\t\u00001\u0000\t\u00000\u0000\t\u00000\u0000\n",
      "\u0000\n",
      "\u00009\u0000\t\u00002\u00000\u00001\u00006\u0000-\u00001\u00002\u0000-\u00003\u00000\u0000\t��육\u0000 \u0000K\u0000T\u0000\t\u00001\u00003\u0000:\u00005\u00000\u0000\t\u00002\u0000\t\u00001\u0000/\u00001\u0000\t\u00000\u0000/\u00001\u0000\t\u00000\u0000/\u00000\u0000\t\u00001\u0000\t\u00002\u0000\t\u00002\u0000\t\u00000\u0000\t\u00002\u0000\n",
      "\u0000\n",
      "\u00009\u0000\t\u00002\u00000\u00001\u00006\u0000-\u00001\u00002\u0000-\u00002\u00005\u0000\t�\u001c",
      "틘\u0000 \u0000S\u0000K\u0000\t\u00001\u00003\u0000:\u00002\u00009\u0000\t\u00003\u0000\t\u00000\u0000/\u00000\u0000\t\u00001\u0000/\u00001\u0000\t\u00000\u0000/\u00000\u0000\t\u00001\u0000\t\u00001\u0000\t\u00000\u0000\t\u00000\u0000\t\u00001\u0000\n",
      "\u0000\n",
      "\u00009\u0000\t\u00002\u00000\u00001\u00006\u0000-\u00001\u00002\u0000-\u00002\u00003\u0000\t휟흷\u0000 �x읊�塚�\u0000\t\u00001\u00003\u0000:\u00002\u00009\u0000\t\u00000\u0000\t\u00000\u0000/\u00001\u0000\t\u00000\u0000/\u00001\u0000\t\u00000\u0000/\u00000\u0000\t\u00001\u0000\t\u00002\u0000\t\u00000\u0000\t\u00000\u0000\t\u00000\u0000\n",
      "\u0000\n",
      "\u00009\u0000\t\u00002\u00000\u00001\u00006\u0000-\u00001\u00002\u0000-\u00002\u00001\u0000\tо흷\u0000 �$묵�(짚\u0000\t\u00004\u0000:\u00003\u00009\u0000\t\u00000\u0000\t\u00000\u0000/\u00000\u0000\t\u00000\u0000/\u00000\u0000\t\u00000\u0000/\u00000\u0000\t\u00000\u0000\t\u00000\u0000\t\u00000\u0000\t\u00000\u0000\t\u00000\u0000\n",
      "\u0000\n",
      "\u00009\u0000\t\u00002\u00000\u00001\u00006\u0000-\u00001\u00002\u0000-\u00001\u00008\u0000\t�=패\u0000 \u0000L\u0000G\u0000\t\u00001\u00001\u0000:\u00001\u00007\u0000\t\u00002\u0000\t\u00001\u0000/\u00001\u0000\t\u00000\u0000/\u00000\u0000\t\u00000\u0000/\u00000\u0000\t\u00001\u0000\t\u00002\u0000\t\u00002\u0000\t\u00000\u0000\t\u00000\u0000\n",
      "\u0000\n",
      "\u00009\u0000\t\u00002\u00000\u00001\u00006\u0000-\u00001\u00002\u0000-\u00001\u00006\u0000\t패힙\u0000 넨��\u0000\t\u00001\u00007\u0000:\u00003\u00007\u0000\t\u00006\u0000\t\u00000\u0000/\u00001\u0000\t\u00002\u0000/\u00004\u0000\t\u00000\u0000/\u00000\u0000\t\u00000\u0000\t\u00001\u0000\t\u00001\u0000\t\u00000\u0000\t\u00000\u0000\n",
      "\u0000\n",
      "\u00009\u0000\t\u00002\u00000\u00001\u00006\u0000-\u00001\u00002\u0000-\u00001\u00000\u0000\t��육\u0000 \u0000K\u0000T\u0000\t\u00006\u0000:\u00000\u00008\u0000\t\u00000\u0000\t\u00000\u0000/\u00000\u0000\t\u00000\u0000/\u00000\u0000\t\u00000\u0000/\u00000\u0000\t\u00000\u0000\t\u00001\u0000\t\u00000\u0000\t\u00000\u0000\t\u00001\u0000\n",
      "\u0000\n",
      "\u00009\u0000\t\u00002\u00000\u00001\u00006\u0000-\u00001\u00002\u0000-\u00000\u00004\u0000\tо흷\u0000 �$묵�(짚\u0000\t\u00006\u0000:\u00005\u00007\u0000\t\u00008\u0000\t\u00001\u0000/\u00001\u0000\t\u00002\u0000/\u00002\u0000\t\u00000\u0000/\u00000\u0000\t\u00000\u0000\t\u00000\u0000\t\u00000\u0000\t\u00000\u0000\t\u00000\u0000\n",
      "\u0000\n",
      "\u00009\u0000\t\u00002\u00000\u00001\u00006\u0000-\u00001\u00002\u0000-\u00000\u00003\u0000\t휟흷\u0000 �x읊�塚�\u0000\t\u00006\u0000:\u00003\u00003\u0000\t\u00000\u0000\t\u00000\u0000/\u00000\u0000\t\u00000\u0000/\u00002\u0000\t\u00000\u0000/\u00000\u0000\t\u00002\u0000\t\u00002\u0000\t\u00000\u0000\t\u00000\u0000\t\u00000\u0000\n",
      "\u0000\n",
      "\u00009\u0000\t\u00002\u00000\u00001\u00006\u0000-\u00001\u00002\u0000-\u00000\u00001\u0000\t패힙\u0000 넨��\u0000\t\u00008\u0000:\u00002\u00000\u0000\t\u00000\u0000\t\u00000\u0000/\u00001\u0000\t\u00000\u0000/\u00000\u0000\t\u00000\u0000/\u00000\u0000\t\u00001\u0000\t\u00002\u0000\t\u00000\u0000\t\u00000\u0000\t\u00001\u0000\n",
      "\u0000\n",
      "\u00009\u0000\t\u00002\u00000\u00001\u00006\u0000-\u00001\u00001\u0000-\u00002\u00006\u0000\t�x��\u0000 �\u0004�맰쑕�\u0000\t\u00001\u00005\u0000:\u00003\u00002\u0000\t\u00002\u0000\t\u00001\u0000/\u00002\u0000\t\u00000\u0000/\u00000\u0000\t\u00000\u0000/\u00000\u0000\t\u00000\u0000\t\u00000\u0000\t\u00001\u0000\t\u00000\u0000\t\u00001\u0000\n",
      "\u0000\n",
      "\u00009\u0000\t\u00002\u00000\u00001\u00006\u0000-\u00001\u00001\u0000-\u00002\u00003\u0000\t�\u001c",
      "틘\u0000 \u0000S\u0000K\u0000\t\u00008\u0000:\u00002\u00006\u0000\t\u00000\u0000\t\u00000\u0000/\u00000\u0000\t\u00000\u0000/\u00001\u0000\t\u00000\u0000/\u00000\u0000\t\u00001\u0000\t\u00001\u0000\t\u00000\u0000\t\u00000\u0000\t\u00000\u0000\n",
      "\u0000\n",
      "\u00009\u0000\t\u00002\u00000\u00001\u00006\u0000-\u00001\u00001\u0000-\u00002\u00000\u0000\t�=패\u0000 \u0000L\u0000G\u0000\t\u00001\u00002\u0000:\u00000\u00007\u0000\t\u00003\u0000\t\u00000\u0000/\u00000\u0000\t\u00001\u0000/\u00002\u0000\t\u00000\u0000/\u00000\u0000\t\u00001\u0000\t\u00004\u0000\t\u00001\u0000\t\u00000\u0000\t\u00000\u0000\n",
      "\u0000\n",
      "\u00009\u0000\t\u00002\u00000\u00001\u00006\u0000-\u00001\u00001\u0000-\u00001\u00009\u0000\t틘육\u0000 벰퐻짚\u0000\t\u00008\u0000:\u00004\u00008\u0000\t\u00002\u0000\t\u00001\u0000/\u00001\u0000\t\u00000\u0000/\u00001\u0000\t\u00000\u0000/\u00000\u0000\t\u00000\u0000\t\u00000\u0000\t\u00000\u0000\t\u00000\u0000\t\u00000\u0000\n",
      "\u0000\n",
      "\u00009\u0000\t\u00002\u00000\u00001\u00006\u0000-\u00001\u00001\u0000-\u00001\u00007\u0000\t�\u0004힙\u0000 \u0000K\u0000C\u0000C\u0000\t\u00001\u00001\u0000:\u00004\u00009\u0000\t\u00000\u0000\t\u00000\u0000/\u00001\u0000\t\u00000\u0000/\u00001\u0000\t\u00000\u0000/\u00000\u0000\t\u00002\u0000\t\u00001\u0000\t\u00000\u0000\t\u00000\u0000\t\u00000\u0000\n",
      "\u0000\n",
      "\u00009\u0000\t\u00002\u00000\u00001\u00006\u0000-\u00001\u00001\u0000-\u00001\u00003\u0000\t패힙\u0000 넨��\u0000\t\u00001\u00001\u0000:\u00002\u00005\u0000\t\u00000\u0000\t\u00000\u0000/\u00000\u0000\t\u00000\u0000/\u00001\u0000\t\u00000\u0000/\u00000\u0000\t\u00001\u0000\t\u00002\u0000\t\u00000\u0000\t\u00000\u0000\t\u00000\u0000\n",
      "\u0000\n",
      "\u00009\u0000\t\u00002\u00000\u00001\u00006\u0000-\u00001\u00001\u0000-\u00001\u00001\u0000\t�=패\u0000 \u0000L\u0000G\u0000\t\u00001\u00001\u0000:\u00004\u00002\u0000\t\u00000\u0000\t\u00000\u0000/\u00001\u0000\t\u00000\u0000/\u00000\u0000\t\u00000\u0000/\u00000\u0000\t\u00002\u0000\t\u00001\u0000\t\u00001\u0000\t\u00000\u0000\t\u00000\u0000\n",
      "\u0000\n",
      "\u00009\u0000\t\u00002\u00000\u00001\u00006\u0000-\u00001\u00001\u0000-\u00000\u00008\u0000\t�\u0004힙\u0000 \u0000K\u0000C\u0000C\u0000\t\u00001\u00000\u0000:\u00000\u00000\u0000\t\u00005\u0000\t\u00001\u0000/\u00001\u0000\t\u00001\u0000/\u00001\u0000\t\u00000\u0000/\u00000\u0000\t\u00003\u0000\t\u00003\u0000\t\u00000\u0000\t\u00000\u0000\t\u00000\u0000\n",
      "\u0000\n",
      "\u00009\u0000\t\u00002\u00000\u00001\u00006\u0000-\u00001\u00001\u0000-\u00000\u00006\u0000\t�\u001c",
      "틘\u0000 \u0000S\u0000K\u0000\t\u00006\u0000:\u00002\u00003\u0000\t\u00000\u0000\t\u00000\u0000/\u00000\u0000\t\u00000\u0000/\u00002\u0000\t\u00000\u0000/\u00000\u0000\t\u00002\u0000\t\u00000\u0000\t\u00000\u0000\t\u00000\u0000\t\u00000\u0000\n",
      "\u0000\n",
      "\u00009\u0000\t\u00002\u00000\u00001\u00006\u0000-\u00001\u00001\u0000-\u00000\u00004\u0000\t�x��\u0000 �\u0004�맰쑕�\u0000\t\u00008\u0000:\u00001\u00008\u0000\t\u00000\u0000\t\u00000\u0000/\u00000\u0000\t\u00000\u0000/\u00000\u0000\t\u00000\u0000/\u00000\u0000\t\u00003\u0000\t\u00001\u0000\t\u00000\u0000\t\u00000\u0000\t\u00000\u0000\n",
      "\u0000\n",
      "\u00009\u0000\t\u00002\u00000\u00001\u00006\u0000-\u00001\u00001\u0000-\u00000\u00002\u0000\tо흷\u0000 �$묵�(짚\u0000\t\u00001\u0000:\u00005\u00001\u0000\t\u00000\u0000\t\u00000\u0000/\u00000\u0000\t\u00000\u0000/\u00000\u0000\t\u00000\u0000/\u00000\u0000\t\u00000\u0000\t\u00000\u0000\t\u00000\u0000\t\u00000\u0000\t\u00000\u0000\n",
      "\u0000\n",
      "\u00009\u0000\t\u00002\u00000\u00001\u00006\u0000-\u00001\u00000\u0000-\u00002\u00009\u0000\t��육\u0000 \u0000K\u0000T\u0000\t\u00001\u00000\u0000:\u00005\u00008\u0000\t\u00000\u0000\t\u00000\u0000/\u00000\u0000\t\u00000\u0000/\u00000\u0000\t\u00000\u0000/\u00000\u0000\t\u00000\u0000\t\u00001\u0000\t\u00000\u0000\t\u00000\u0000\t\u00000\u0000\n",
      "\u0000\n",
      "\u00009\u0000\t\u00002\u00000\u00001\u00006\u0000-\u00001\u00000\u0000-\u00002\u00005\u0000\t휟흷\u0000 �x읊�塚�\u0000\t\u00001\u00003\u0000:\u00005\u00007\u0000\t\u00001\u00000\u0000\t\u00002\u0000/\u00003\u0000\t\u00002\u0000/\u00002\u0000\t\u00000\u0000/\u00000\u0000\t\u00000\u0000\t\u00003\u0000\t\u00002\u0000\t\u00000\u0000\t\u00000\u0000\n",
      "\u0000\n",
      "\u00009\u0000\t\u00002\u00000\u00001\u00006\u0000-\u00001\u00000\u0000-\u00002\u00003\u0000\t틘육\u0000 벰퐻짚\u0000\t\u00001\u00002\u0000:\u00005\u00004\u0000\t\u00002\u0000\t\u00001\u0000/\u00001\u0000\t\u00000\u0000/\u00000\u0000\t\u00000\u0000/\u00000\u0000\t\u00001\u0000\t\u00000\u0000\t\u00000\u0000\t\u00000\u0000\t\u00001\u0000\n",
      "\u0000\n"
     ]
    }
   ],
   "source": [
    "!type realdata12.txt"
   ]
  },
  {
   "cell_type": "code",
   "execution_count": 92,
   "metadata": {
    "collapsed": false
   },
   "outputs": [
    {
     "ename": "UnicodeDecodeError",
     "evalue": "'cp949' codec can't decode byte 0xfe in position 0: illegal multibyte sequence",
     "output_type": "error",
     "traceback": [
      "\u001b[0;31m---------------------------------------------------------------------------\u001b[0m",
      "\u001b[0;31mUnicodeDecodeError\u001b[0m                        Traceback (most recent call last)",
      "\u001b[0;32m<ipython-input-92-a5b9a71034a0>\u001b[0m in \u001b[0;36m<module>\u001b[0;34m()\u001b[0m\n\u001b[0;32m----> 1\u001b[0;31m \u001b[0marr\u001b[0m \u001b[1;33m=\u001b[0m \u001b[0mnp\u001b[0m\u001b[1;33m.\u001b[0m\u001b[0mloadtxt\u001b[0m\u001b[1;33m(\u001b[0m\u001b[1;34m'realdata12.txt'\u001b[0m\u001b[1;33m,\u001b[0m \u001b[0mdelimiter\u001b[0m\u001b[1;33m=\u001b[0m\u001b[1;34m'\\t'\u001b[0m\u001b[1;33m)\u001b[0m\u001b[1;33m\u001b[0m\u001b[0m\n\u001b[0m\u001b[1;32m      2\u001b[0m \u001b[0marr\u001b[0m\u001b[1;33m\u001b[0m\u001b[0m\n",
      "\u001b[0;32mC:\\ProgramData\\Anaconda3\\lib\\site-packages\\numpy\\lib\\npyio.py\u001b[0m in \u001b[0;36mloadtxt\u001b[0;34m(fname, dtype, comments, delimiter, converters, skiprows, usecols, unpack, ndmin)\u001b[0m\n\u001b[1;32m    885\u001b[0m         \u001b[1;32mtry\u001b[0m\u001b[1;33m:\u001b[0m\u001b[1;33m\u001b[0m\u001b[0m\n\u001b[1;32m    886\u001b[0m             \u001b[1;32mwhile\u001b[0m \u001b[1;32mnot\u001b[0m \u001b[0mfirst_vals\u001b[0m\u001b[1;33m:\u001b[0m\u001b[1;33m\u001b[0m\u001b[0m\n\u001b[0;32m--> 887\u001b[0;31m                 \u001b[0mfirst_line\u001b[0m \u001b[1;33m=\u001b[0m \u001b[0mnext\u001b[0m\u001b[1;33m(\u001b[0m\u001b[0mfh\u001b[0m\u001b[1;33m)\u001b[0m\u001b[1;33m\u001b[0m\u001b[0m\n\u001b[0m\u001b[1;32m    888\u001b[0m                 \u001b[0mfirst_vals\u001b[0m \u001b[1;33m=\u001b[0m \u001b[0msplit_line\u001b[0m\u001b[1;33m(\u001b[0m\u001b[0mfirst_line\u001b[0m\u001b[1;33m)\u001b[0m\u001b[1;33m\u001b[0m\u001b[0m\n\u001b[1;32m    889\u001b[0m         \u001b[1;32mexcept\u001b[0m \u001b[0mStopIteration\u001b[0m\u001b[1;33m:\u001b[0m\u001b[1;33m\u001b[0m\u001b[0m\n",
      "\u001b[0;31mUnicodeDecodeError\u001b[0m: 'cp949' codec can't decode byte 0xfe in position 0: illegal multibyte sequence"
     ]
    }
   ],
   "source": [
    "arr = np.loadtxt('realdata12.txt', delimiter='\\t')\n",
    "arr"
   ]
  },
  {
   "cell_type": "markdown",
   "metadata": {},
   "source": [
    "## 4.5 선형대수\n",
    "## Linear algebra"
   ]
  },
  {
   "cell_type": "code",
   "execution_count": null,
   "metadata": {
    "collapsed": false
   },
   "outputs": [],
   "source": [
    "x = np.array([[1., 2., 3.], [4., 5., 6.]])\n",
    "y = np.array([[6., 23.], [-1, 7], [8, 9]])\n",
    "x\n",
    "y\n",
    "x.dot(y)  # equivalently np.dot(x, y)"
   ]
  },
  {
   "cell_type": "code",
   "execution_count": null,
   "metadata": {
    "collapsed": false
   },
   "outputs": [],
   "source": [
    "np.dot(x, np.ones(3))"
   ]
  },
  {
   "cell_type": "code",
   "execution_count": null,
   "metadata": {
    "collapsed": false
   },
   "outputs": [],
   "source": [
    "np.random.seed(12345)"
   ]
  },
  {
   "cell_type": "code",
   "execution_count": null,
   "metadata": {
    "collapsed": false
   },
   "outputs": [],
   "source": [
    "from numpy.linalg import inv, qr\n",
    "X = randn(5, 5)\n",
    "mat = X.T.dot(X)\n",
    "inv(mat)\n",
    "mat.dot(inv(mat))\n",
    "q, r = qr(mat)\n",
    "r"
   ]
  },
  {
   "cell_type": "markdown",
   "metadata": {},
   "source": [
    "## 4.6 난수생성\n",
    "## Random number generation"
   ]
  },
  {
   "cell_type": "code",
   "execution_count": null,
   "metadata": {
    "collapsed": false
   },
   "outputs": [],
   "source": [
    "samples = np.random.normal(size=(4, 4))\n",
    "samples"
   ]
  },
  {
   "cell_type": "code",
   "execution_count": null,
   "metadata": {
    "collapsed": false
   },
   "outputs": [],
   "source": [
    "from random import normalvariate\n",
    "N = 1000000\n",
    "%timeit samples = [normalvariate(0, 1) for _ in xrange(N)]\n",
    "%timeit np.random.normal(size=N)"
   ]
  },
  {
   "cell_type": "markdown",
   "metadata": {},
   "source": [
    "## 4.7계단 오르기 예제\n",
    "## Example: Random Walks"
   ]
  },
  {
   "cell_type": "raw",
   "metadata": {},
   "source": [
    "import random\n",
    "position = 0\n",
    "walk = [position]\n",
    "steps = 1000\n",
    "for i in xrange(steps):\n",
    "    step = 1 if random.randint(0, 1) else -1\n",
    "    position += step\n",
    "    walk.append(position)"
   ]
  },
  {
   "cell_type": "code",
   "execution_count": null,
   "metadata": {
    "collapsed": false
   },
   "outputs": [],
   "source": [
    "np.random.seed(12345)"
   ]
  },
  {
   "cell_type": "code",
   "execution_count": null,
   "metadata": {
    "collapsed": false
   },
   "outputs": [],
   "source": [
    "nsteps = 1000\n",
    "draws = np.random.randint(0, 2, size=nsteps)\n",
    "steps = np.where(draws > 0, 1, -1)\n",
    "walk = steps.cumsum()"
   ]
  },
  {
   "cell_type": "code",
   "execution_count": null,
   "metadata": {
    "collapsed": false
   },
   "outputs": [],
   "source": [
    "walk.min()\n",
    "walk.max()"
   ]
  },
  {
   "cell_type": "code",
   "execution_count": null,
   "metadata": {
    "collapsed": false
   },
   "outputs": [],
   "source": [
    "(np.abs(walk) >= 10).argmax()"
   ]
  },
  {
   "cell_type": "markdown",
   "metadata": {},
   "source": [
    "### 4.7.1 한번에 계단 오르내리기 시뮬레이션하기\n",
    "### Simulating many random walks at once"
   ]
  },
  {
   "cell_type": "code",
   "execution_count": null,
   "metadata": {
    "collapsed": false
   },
   "outputs": [],
   "source": [
    "nwalks = 5000\n",
    "nsteps = 1000\n",
    "draws = np.random.randint(0, 2, size=(nwalks, nsteps)) # 0 or 1\n",
    "steps = np.where(draws > 0, 1, -1)\n",
    "walks = steps.cumsum(1)\n",
    "walks"
   ]
  },
  {
   "cell_type": "code",
   "execution_count": null,
   "metadata": {
    "collapsed": false
   },
   "outputs": [],
   "source": [
    "walks.max()\n",
    "walks.min()"
   ]
  },
  {
   "cell_type": "code",
   "execution_count": null,
   "metadata": {
    "collapsed": false
   },
   "outputs": [],
   "source": [
    "hits30 = (np.abs(walks) >= 30).any(1)\n",
    "hits30\n",
    "hits30.sum() # Number that hit 30 or -30"
   ]
  },
  {
   "cell_type": "code",
   "execution_count": null,
   "metadata": {
    "collapsed": false
   },
   "outputs": [],
   "source": [
    "crossing_times = (np.abs(walks[hits30]) >= 30).argmax(1)\n",
    "crossing_times.mean()"
   ]
  },
  {
   "cell_type": "markdown",
   "metadata": {},
   "source": [
    "다른 분포를 사용해도 여러 가지 시도 가능하다."
   ]
  },
  {
   "cell_type": "code",
   "execution_count": null,
   "metadata": {
    "collapsed": false
   },
   "outputs": [],
   "source": [
    "steps = np.random.normal(loc=0, scale=0.25,\n",
    "                         size=(nwalks, nsteps))"
   ]
  },
  {
   "cell_type": "code",
   "execution_count": null,
   "metadata": {
    "collapsed": false
   },
   "outputs": [],
   "source": [
    "steps"
   ]
  },
  {
   "cell_type": "code",
   "execution_count": null,
   "metadata": {
    "collapsed": false
   },
   "outputs": [],
   "source": [
    "!type realdata.xlsx"
   ]
  },
  {
   "cell_type": "code",
   "execution_count": null,
   "metadata": {
    "collapsed": true
   },
   "outputs": [],
   "source": [
    "import pandas as pd"
   ]
  },
  {
   "cell_type": "code",
   "execution_count": null,
   "metadata": {
    "collapsed": false
   },
   "outputs": [],
   "source": [
    "df = pd.read_csv('realdata.xlsx')"
   ]
  },
  {
   "cell_type": "code",
   "execution_count": null,
   "metadata": {
    "collapsed": true
   },
   "outputs": [],
   "source": []
  }
 ],
 "metadata": {
  "kernelspec": {
   "display_name": "Python 3",
   "language": "python",
   "name": "python3"
  },
  "language_info": {
   "codemirror_mode": {
    "name": "ipython",
    "version": 3
   },
   "file_extension": ".py",
   "mimetype": "text/x-python",
   "name": "python",
   "nbconvert_exporter": "python",
   "pygments_lexer": "ipython3",
   "version": "3.6.0"
  }
 },
 "nbformat": 4,
 "nbformat_minor": 0
}
