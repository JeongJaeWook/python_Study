{
 "cells": [
  {
   "cell_type": "markdown",
   "metadata": {},
   "source": [
    "# 객체가 뭘까?\n",
    "\n",
    "우리 실생활은 모두 '객체(Object)'로 이루어져 있다. \n",
    "구체적인 사물, 시스템에서 부터 모호한 안개, 생각이나 행동이 추구하는 바 까지 포함한다.\n",
    "\n",
    "->그러므로 사람들은 객체를 가지고 사고를 함\n",
    "\n",
    "---->사람들의 사고와 비슷하게 프로그래밍을 하기 위해 생성된 말이 \"객체지향 프로그램\""
   ]
  },
  {
   "cell_type": "markdown",
   "metadata": {},
   "source": [
    "# 1.클래스 개념(붕어빵 class)\n",
    "\n",
    "붕어빵 틀(설계도)=class\n",
    "\n",
    "생성 = 인스턴스화\n",
    "\n",
    "붕어빵 자체 = 객체"
   ]
  },
  {
   "cell_type": "code",
   "execution_count": 1,
   "metadata": {
    "collapsed": false
   },
   "outputs": [],
   "source": [
    "# 클래스 만들어 보기\n",
    "class Fish:\n",
    "    pass"
   ]
  },
  {
   "cell_type": "code",
   "execution_count": 2,
   "metadata": {
    "collapsed": false
   },
   "outputs": [
    {
     "name": "stdout",
     "output_type": "stream",
     "text": [
      "<__main__.Fish object at 0x000002195EBC2F60>\n"
     ]
    }
   ],
   "source": [
    "print(Fish())    #클래스의 정의를 통해 만들어진 '객체'(=인스턴스)"
   ]
  },
  {
   "cell_type": "markdown",
   "metadata": {},
   "source": [
    "# 2. 참조변수(TV class)"
   ]
  },
  {
   "cell_type": "code",
   "execution_count": 3,
   "metadata": {
    "collapsed": false
   },
   "outputs": [],
   "source": [
    "# 2. Tv 참조변수\n",
    "class Tv:\n",
    "  #멤버  \n",
    "    #속성(변수)\n",
    "    height = 200 #높이 고정\n",
    "    color = '' #색상 선택 가능\n",
    "    ch = 6\n",
    "    \n",
    "    #기능(메소드)\n",
    "    def setting(self, color): \n",
    "        self.color = color\n",
    "    \n",
    "    def on(self):\n",
    "        print(\"TV on\")\n",
    "    \n",
    "    def off(self):\n",
    "        print(\"TV off\")\n",
    "    \n",
    "    def plus(self,channel):\n",
    "        self.ch = channel"
   ]
  },
  {
   "cell_type": "code",
   "execution_count": 4,
   "metadata": {
    "collapsed": false
   },
   "outputs": [],
   "source": [
    "remote = Tv() # 리모콘 = 객체를 다루기 위한 변수(=참조변수)"
   ]
  },
  {
   "cell_type": "markdown",
   "metadata": {},
   "source": [
    "#### 이런 식으로 참조변수를 통해 객체를 다룰 수 있다"
   ]
  },
  {
   "cell_type": "code",
   "execution_count": 5,
   "metadata": {
    "collapsed": false
   },
   "outputs": [
    {
     "name": "stdout",
     "output_type": "stream",
     "text": [
      "6\n",
      "TV on\n"
     ]
    }
   ],
   "source": [
    "print( remote.ch )\n",
    "remote.on()"
   ]
  },
  {
   "cell_type": "code",
   "execution_count": 6,
   "metadata": {
    "collapsed": false
   },
   "outputs": [
    {
     "data": {
      "text/plain": [
       "3"
      ]
     },
     "execution_count": 6,
     "metadata": {},
     "output_type": "execute_result"
    }
   ],
   "source": [
    "remote.plus(3)\n",
    "remote.ch"
   ]
  },
  {
   "cell_type": "markdown",
   "metadata": {},
   "source": [
    "## Self 이해하기"
   ]
  },
  {
   "cell_type": "markdown",
   "metadata": {},
   "source": [
    "클래스 안의 메서드의 첫 번째 인자가 self인 이유: 파이썬 클래스의 메서드 첫 번째 인자로 항상 인스턴스(참조변수)가 전달되기 때문.\n",
    "즉, self로 전달되는 것은 인스턴스 자체를 뜻한다.\n",
    "\n",
    "클래스를 정의하는 순간에는 여러분이 생성할 인스턴스의 이름이 remote 인지 모르기 때문에 self라는 단어를 대신 사용하는 것이다.\n",
    "정리해보면 plus 메서드 내에서 self.channel이라는 표현은 나중에 생성될 클래스 인스턴스 내의 channel 변수를 의미한다.. \n",
    "\n",
    "따라서 인스턴스 변수는 다음과 같이 인스턴스 이름을 적고 '.'를 붙인 후 인스턴스 변수의 이름을 지정하는 식으로 접근할 수 있다."
   ]
  },
  {
   "cell_type": "markdown",
   "metadata": {},
   "source": [
    "# 상속\n",
    "\n",
    "기능이 추가되거나 속성이 추가 될 때 매번 클래스의 내용을 복,붙 할 순 없다. 이 때 상속이란 개념을 사용하는데 현실에서의 상속과 비슷하다.\n",
    "\n",
    "메소드 오버라이딩(Overriding) : 부모class가 갖고 있는 메소드를 하위 클래스가 재정의해서 사용한다.\n",
    "\n",
    "연산자 오버로딩(Overloading) : 연사자를 객체끼리 사용할 수 있게 하는 기법\n",
    "\n",
    "참고))오버로딩(Overloading): 메소드 이름은 같으나 매개변수 유형과 갯수가 다르다. (*파이썬에선 지원하지 않음) "
   ]
  },
  {
   "cell_type": "code",
   "execution_count": 7,
   "metadata": {
    "collapsed": true
   },
   "outputs": [],
   "source": [
    "#Tv 클래스를 상속받은 RecogTv 클래스 생성\n",
    "class RecogTv(Tv):\n",
    "    def recog(self):\n",
    "        print(\"인식기능추가\")"
   ]
  },
  {
   "cell_type": "code",
   "execution_count": 8,
   "metadata": {
    "collapsed": true
   },
   "outputs": [],
   "source": [
    "remote2 = RecogTv()"
   ]
  },
  {
   "cell_type": "code",
   "execution_count": 9,
   "metadata": {
    "collapsed": false
   },
   "outputs": [
    {
     "data": {
      "text/plain": [
       "''"
      ]
     },
     "execution_count": 9,
     "metadata": {},
     "output_type": "execute_result"
    }
   ],
   "source": [
    "remote2.color"
   ]
  },
  {
   "cell_type": "code",
   "execution_count": 10,
   "metadata": {
    "collapsed": false
   },
   "outputs": [
    {
     "name": "stdout",
     "output_type": "stream",
     "text": [
      "인식기능추가\n"
     ]
    }
   ],
   "source": [
    "remote2.recog()"
   ]
  },
  {
   "cell_type": "markdown",
   "metadata": {},
   "source": [
    "# 개념이 잡혔다면... 생성자에 대해 알아보자"
   ]
  },
  {
   "cell_type": "code",
   "execution_count": 11,
   "metadata": {
    "collapsed": true
   },
   "outputs": [],
   "source": [
    "# 2. Tv 참조변수\n",
    "class Tv:\n",
    "  #멤버  \n",
    "    #속성(변수)\n",
    "    height = 200 #높이 고정\n",
    "    color = '' #색상 선택 가능\n",
    "    ch = 6\n",
    "    \n",
    "    #기능(메소드)\n",
    "    def setting(self, color): \n",
    "        self.color = color\n",
    "    \n",
    "    def on(self):\n",
    "        print(\"TV on\")\n",
    "    \n",
    "    def off(self):\n",
    "        print(\"TV off\")\n",
    "    \n",
    "    def plus(self,channel):\n",
    "        self.ch = channel"
   ]
  },
  {
   "cell_type": "markdown",
   "metadata": {},
   "source": [
    "## 생성자 \n",
    "\n",
    "tv클래스의 객체를 만들고 color를 설정해주기위해 메소드를 부르기는 너무 귀찮다. 객체 생성과 동시에 color를 설정 해줄 순 없을까?\n",
    "\n",
    "있다!\n",
    "\n",
    "#생성자란? 인스턴스가 생성과 동시에 자동으로 호출되는 메서드"
   ]
  },
  {
   "cell_type": "code",
   "execution_count": 12,
   "metadata": {
    "collapsed": true
   },
   "outputs": [],
   "source": [
    "#   __init__(self): 이런 형태이다."
   ]
  },
  {
   "cell_type": "code",
   "execution_count": 13,
   "metadata": {
    "collapsed": true
   },
   "outputs": [],
   "source": [
    "# 2. Tv 참조변수\n",
    "class Tv:\n",
    "  #멤버  \n",
    "    #속성(변수)\n",
    "    #클래스 변수\n",
    "    height = 200 #높이 고정\n",
    "    ch = 6\n",
    "    \n",
    "    #기능(메소드)\n",
    "#     def setting(self, color):   #setting을 __init__으로 바꿔주면 된다.\n",
    "#         self.color = color\n",
    "\n",
    "    def __init__(self, color):\n",
    "        self.color = color # 인스턴스변수\n",
    "    \n",
    "    def on(self):\n",
    "        print(\"TV on\")\n",
    "    \n",
    "    def off(self):\n",
    "        print(\"TV off\")\n",
    "    \n",
    "    def plus(self,channel):\n",
    "        self.ch = channel"
   ]
  },
  {
   "cell_type": "code",
   "execution_count": 14,
   "metadata": {
    "collapsed": true
   },
   "outputs": [],
   "source": [
    "a = Tv('red')"
   ]
  },
  {
   "cell_type": "code",
   "execution_count": 15,
   "metadata": {
    "collapsed": false
   },
   "outputs": [
    {
     "data": {
      "text/plain": [
       "'red'"
      ]
     },
     "execution_count": 15,
     "metadata": {},
     "output_type": "execute_result"
    }
   ],
   "source": [
    "a.color"
   ]
  },
  {
   "cell_type": "code",
   "execution_count": 16,
   "metadata": {
    "collapsed": false
   },
   "outputs": [
    {
     "data": {
      "text/plain": [
       "['Fish',\n",
       " 'In',\n",
       " 'Out',\n",
       " 'RecogTv',\n",
       " 'Tv',\n",
       " '_',\n",
       " '_15',\n",
       " '_6',\n",
       " '_9',\n",
       " '__',\n",
       " '___',\n",
       " '__builtin__',\n",
       " '__builtins__',\n",
       " '__doc__',\n",
       " '__loader__',\n",
       " '__name__',\n",
       " '__package__',\n",
       " '__spec__',\n",
       " '_dh',\n",
       " '_i',\n",
       " '_i1',\n",
       " '_i10',\n",
       " '_i11',\n",
       " '_i12',\n",
       " '_i13',\n",
       " '_i14',\n",
       " '_i15',\n",
       " '_i16',\n",
       " '_i2',\n",
       " '_i3',\n",
       " '_i4',\n",
       " '_i5',\n",
       " '_i6',\n",
       " '_i7',\n",
       " '_i8',\n",
       " '_i9',\n",
       " '_ih',\n",
       " '_ii',\n",
       " '_iii',\n",
       " '_oh',\n",
       " '_sh',\n",
       " 'a',\n",
       " 'exit',\n",
       " 'get_ipython',\n",
       " 'quit',\n",
       " 'remote',\n",
       " 'remote2']"
      ]
     },
     "execution_count": 16,
     "metadata": {},
     "output_type": "execute_result"
    }
   ],
   "source": [
    "dir() #클래스 볼 수 있음"
   ]
  },
  {
   "cell_type": "code",
   "execution_count": 17,
   "metadata": {
    "collapsed": false
   },
   "outputs": [
    {
     "data": {
      "text/plain": [
       "mappingproxy({'__dict__': <attribute '__dict__' of 'Tv' objects>,\n",
       "              '__doc__': None,\n",
       "              '__init__': <function __main__.Tv.__init__>,\n",
       "              '__module__': '__main__',\n",
       "              '__weakref__': <attribute '__weakref__' of 'Tv' objects>,\n",
       "              'ch': 6,\n",
       "              'height': 200,\n",
       "              'off': <function __main__.Tv.off>,\n",
       "              'on': <function __main__.Tv.on>,\n",
       "              'plus': <function __main__.Tv.plus>})"
      ]
     },
     "execution_count": 17,
     "metadata": {},
     "output_type": "execute_result"
    }
   ],
   "source": [
    "Tv.__dict__ ##클래스 멤버를 보여줌"
   ]
  },
  {
   "cell_type": "code",
   "execution_count": 18,
   "metadata": {
    "collapsed": false
   },
   "outputs": [
    {
     "data": {
      "text/plain": [
       "{'color': 'red'}"
      ]
     },
     "execution_count": 18,
     "metadata": {},
     "output_type": "execute_result"
    }
   ],
   "source": [
    "a.__dict__ ## (객체)인스턴스 변수들을 보여줌"
   ]
  },
  {
   "cell_type": "code",
   "execution_count": 24,
   "metadata": {
    "collapsed": false
   },
   "outputs": [
    {
     "data": {
      "text/plain": [
       "True"
      ]
     },
     "execution_count": 24,
     "metadata": {},
     "output_type": "execute_result"
    }
   ],
   "source": [
    "isinstance(a, Tv) #인스턴스인지 확인하는 내장함수"
   ]
  },
  {
   "cell_type": "code",
   "execution_count": 25,
   "metadata": {
    "collapsed": false
   },
   "outputs": [
    {
     "data": {
      "text/plain": [
       "['',\n",
       " 'C:\\\\Program Files\\\\Anaconda2\\\\envs\\\\tensorflow\\\\python35.zip',\n",
       " 'C:\\\\Program Files\\\\Anaconda2\\\\envs\\\\tensorflow\\\\DLLs',\n",
       " 'C:\\\\Program Files\\\\Anaconda2\\\\envs\\\\tensorflow\\\\lib',\n",
       " 'C:\\\\Program Files\\\\Anaconda2\\\\envs\\\\tensorflow',\n",
       " 'C:\\\\Program Files\\\\Anaconda2\\\\envs\\\\tensorflow\\\\lib\\\\site-packages',\n",
       " 'C:\\\\Program Files\\\\Anaconda2\\\\envs\\\\tensorflow\\\\lib\\\\site-packages\\\\contextlib2-0.5.3-py3.5.egg',\n",
       " 'C:\\\\Program Files\\\\Anaconda2\\\\envs\\\\tensorflow\\\\lib\\\\site-packages\\\\cycler-0.10.0-py3.5.egg',\n",
       " 'C:\\\\Program Files\\\\Anaconda2\\\\envs\\\\tensorflow\\\\lib\\\\site-packages\\\\win32',\n",
       " 'C:\\\\Program Files\\\\Anaconda2\\\\envs\\\\tensorflow\\\\lib\\\\site-packages\\\\win32\\\\lib',\n",
       " 'C:\\\\Program Files\\\\Anaconda2\\\\envs\\\\tensorflow\\\\lib\\\\site-packages\\\\Pythonwin',\n",
       " 'C:\\\\Program Files\\\\Anaconda2\\\\envs\\\\tensorflow\\\\lib\\\\site-packages\\\\setuptools-27.2.0-py3.5.egg',\n",
       " 'C:\\\\Program Files\\\\Anaconda2\\\\envs\\\\tensorflow\\\\lib\\\\site-packages\\\\IPython\\\\extensions',\n",
       " 'C:\\\\Users\\\\User\\\\.ipython',\n",
       " 'C:/Python/Mymodules']"
      ]
     },
     "execution_count": 25,
     "metadata": {},
     "output_type": "execute_result"
    }
   ],
   "source": [
    "import sys\n",
    "\n",
    "sys.path #라이브러리가 저장되어 있는 파일보는 명령어\n",
    "\n",
    "#(※ 도스 창에서는 /, \\든 상관없지만, 소스코드 안에서는 반드시 / 또는 \\\\ 기호를 사용해야 한다.)\n",
    "\n",
    "#sys.path.append(\"C:/Python/Mymodules\") #이렇게 추가가능"
   ]
  },
  {
   "cell_type": "markdown",
   "metadata": {
    "collapsed": true
   },
   "source": [
    "# 05-01 모듈"
   ]
  },
  {
   "cell_type": "markdown",
   "metadata": {},
   "source": [
    "모듈이란?\n",
    "\n",
    "1) 함수나 변수 또는 클래스 들을 모아 놓은 파일이다. (우리가 지금까지 만들어왔던...)\n",
    "\n",
    "2) 다른 파이썬 프로그램에서 불러와 사용할수 있게끔 만들어진 파이썬 파일\n",
    "\n",
    "다른 사람들이 이미 만들어 놓은 모듈을 사용할 수도 있고 우리가 직접 만들어서 사용할 수도 있다"
   ]
  },
  {
   "cell_type": "markdown",
   "metadata": {},
   "source": [
    "### if __name == \"__main__\": 의 의미"
   ]
  },
  {
   "cell_type": "code",
   "execution_count": 2,
   "metadata": {
    "collapsed": false
   },
   "outputs": [
    {
     "name": "stdout",
     "output_type": "stream",
     "text": [
      "더할수 있는 것이 아닙니다.\n",
      "None\n",
      "5\n",
      "20.4\n"
     ]
    }
   ],
   "source": [
    "# mod1.py\n",
    "def sum(a, b): \n",
    "    return a+b\n",
    "\n",
    "def safe_sum(a, b): \n",
    "    if type(a) != type(b): \n",
    "        print(\"더할수 있는 것이 아닙니다.\")\n",
    "        return \n",
    "    else: \n",
    "        result = sum(a, b) \n",
    "    return result \n",
    "\n",
    "print(safe_sum('a', 1))\n",
    "print(safe_sum(1, 4))\n",
    "print(sum(10, 10.4))"
   ]
  },
  {
   "cell_type": "markdown",
   "metadata": {},
   "source": [
    "#### module import하는 3가지 방법"
   ]
  },
  {
   "cell_type": "code",
   "execution_count": 9,
   "metadata": {
    "collapsed": false
   },
   "outputs": [
    {
     "data": {
      "text/plain": [
       "['.ipynb_checkpoints',\n",
       " 'JumpToPython03-04.ipynb',\n",
       " 'JumpToPython05-01,02,03.ipynb',\n",
       " 'JumpToPython05-04.ipynb',\n",
       " 'JumpToPython05-05,06.ipynb',\n",
       " 'Test1.ipynb',\n",
       " 'Test1_ans.ipynb',\n",
       " 'Test2.ipynb',\n",
       " '__pycache__']"
      ]
     },
     "execution_count": 9,
     "metadata": {},
     "output_type": "execute_result"
    }
   ],
   "source": [
    "#1\n",
    "import os\n",
    "dir()\n",
    "\n",
    "os.listdir()"
   ]
  },
  {
   "cell_type": "code",
   "execution_count": 10,
   "metadata": {
    "collapsed": false
   },
   "outputs": [
    {
     "data": {
      "text/plain": [
       "['.ipynb_checkpoints',\n",
       " 'JumpToPython03-04.ipynb',\n",
       " 'JumpToPython05-01,02,03.ipynb',\n",
       " 'JumpToPython05-04.ipynb',\n",
       " 'JumpToPython05-05,06.ipynb',\n",
       " 'Test1.ipynb',\n",
       " 'Test1_ans.ipynb',\n",
       " 'Test2.ipynb',\n",
       " '__pycache__']"
      ]
     },
     "execution_count": 10,
     "metadata": {},
     "output_type": "execute_result"
    }
   ],
   "source": [
    "#2\n",
    "from os import listdir\n",
    "dir()\n",
    "listdir()\n",
    "\n",
    "#장점: 바로 호출이 가능함\n",
    "#단점: 기존에 선언된 변수나 함수와 이름이 충돌할 경우가 있음(잠재적인 버그)"
   ]
  },
  {
   "cell_type": "code",
   "execution_count": 12,
   "metadata": {
    "collapsed": false
   },
   "outputs": [
    {
     "data": {
      "text/plain": [
       "['.ipynb_checkpoints',\n",
       " 'JumpToPython03-04.ipynb',\n",
       " 'JumpToPython05-01,02,03.ipynb',\n",
       " 'JumpToPython05-04.ipynb',\n",
       " 'JumpToPython05-05,06.ipynb',\n",
       " 'Test1.ipynb',\n",
       " 'Test1_ans.ipynb',\n",
       " 'Test2.ipynb',\n",
       " '__pycache__']"
      ]
     },
     "execution_count": 12,
     "metadata": {},
     "output_type": "execute_result"
    }
   ],
   "source": [
    "#3\n",
    "from os import *\n",
    "dir()\n",
    "listdir()"
   ]
  },
  {
   "cell_type": "code",
   "execution_count": 13,
   "metadata": {
    "collapsed": true
   },
   "outputs": [],
   "source": [
    "#내장함수와 겹칠 수 있으니 첫번째 방법이 가장 좋다. \n",
    " #모듈명.함수명(변수)\n",
    "    \n",
    "#하지만 가끔 모듈명이 엄청 긴 경우가 있다.\n",
    "import tensorflow as tf\n",
    "#tensorflow 모듈을 tf로 임포트하라.\n",
    "tf.abs() #이런식으로 가능"
   ]
  },
  {
   "cell_type": "markdown",
   "metadata": {},
   "source": [
    "# 05-03 패키지"
   ]
  },
  {
   "cell_type": "markdown",
   "metadata": {},
   "source": [
    "패키지(Packages)는 도트(.)를 이용하여 파이썬 모듈을 계층적(디렉터리 구조)으로 관리할 수 있게 해준다. 예를 들어 모듈명이 A.B인 경우 A는 패키지명이 되고 B는 A 패키지의 B 모듈이 된다."
   ]
  },
  {
   "cell_type": "code",
   "execution_count": null,
   "metadata": {
    "collapsed": true
   },
   "outputs": [],
   "source": [
    "__init__.py #파일은 해당 디렉터리가 패키지의 일부임을 알려주는 역할"
   ]
  },
  {
   "cell_type": "markdown",
   "metadata": {},
   "source": [
    "#### 이유\n",
    "패키지 구조로 파이썬 프로그램을 만드는 것이 공동 작업이나 유지 보수 등 여러 면에서 유리하다. 또한 패키지 구조로 모듈을 만들면 다른 모듈과 이름이 겹치더라도 더 안전하게 사용할 수 있다."
   ]
  },
  {
   "cell_type": "code",
   "execution_count": null,
   "metadata": {
    "collapsed": true
   },
   "outputs": [],
   "source": []
  }
 ],
 "metadata": {
  "anaconda-cloud": {},
  "kernelspec": {
   "display_name": "Python [conda env:tensorflow]",
   "language": "python",
   "name": "conda-env-tensorflow-py"
  },
  "language_info": {
   "codemirror_mode": {
    "name": "ipython",
    "version": 3
   },
   "file_extension": ".py",
   "mimetype": "text/x-python",
   "name": "python",
   "nbconvert_exporter": "python",
   "pygments_lexer": "ipython3",
   "version": "3.5.2"
  }
 },
 "nbformat": 4,
 "nbformat_minor": 1
}
